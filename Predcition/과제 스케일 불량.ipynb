{
 "cells": [
  {
   "cell_type": "code",
   "execution_count": 1,
   "metadata": {},
   "outputs": [],
   "source": [
    "import pandas as pd\n",
    "import matplotlib.pyplot as plt\n",
    "import seaborn as sns\n"
   ]
  },
  {
   "cell_type": "markdown",
   "metadata": {},
   "source": [
    "## 데이터 불러오기"
   ]
  },
  {
   "cell_type": "code",
   "execution_count": 31,
   "metadata": {},
   "outputs": [],
   "source": [
    "df_raw = pd.read_csv(\"rawdata/SCALE불량2.csv\", encoding = \"CP949\")"
   ]
  },
  {
   "cell_type": "code",
   "execution_count": 32,
   "metadata": {},
   "outputs": [
    {
     "data": {
      "text/html": [
       "<div>\n",
       "<style scoped>\n",
       "    .dataframe tbody tr th:only-of-type {\n",
       "        vertical-align: middle;\n",
       "    }\n",
       "\n",
       "    .dataframe tbody tr th {\n",
       "        vertical-align: top;\n",
       "    }\n",
       "\n",
       "    .dataframe thead th {\n",
       "        text-align: right;\n",
       "    }\n",
       "</style>\n",
       "<table border=\"1\" class=\"dataframe\">\n",
       "  <thead>\n",
       "    <tr style=\"text-align: right;\">\n",
       "      <th></th>\n",
       "      <th>PLATE_NO</th>\n",
       "      <th>ROLLING_DATE</th>\n",
       "      <th>SCALE</th>\n",
       "      <th>SPEC</th>\n",
       "      <th>STEEL_KIND</th>\n",
       "      <th>PT_THK</th>\n",
       "      <th>PT_WDTH</th>\n",
       "      <th>PT_LTH</th>\n",
       "      <th>PT_WGT</th>\n",
       "      <th>FUR_NO</th>\n",
       "      <th>...</th>\n",
       "      <th>FUR_HZ_TIME</th>\n",
       "      <th>FUR_SZ_TEMP</th>\n",
       "      <th>FUR_SZ_TIME</th>\n",
       "      <th>FUR_TIME</th>\n",
       "      <th>FUR_EXTEMP</th>\n",
       "      <th>ROLLING_TEMP_T5</th>\n",
       "      <th>HSB</th>\n",
       "      <th>ROLLING_DESCALING</th>\n",
       "      <th>WORK_GR</th>\n",
       "      <th>SPEC.1</th>\n",
       "    </tr>\n",
       "  </thead>\n",
       "  <tbody>\n",
       "    <tr>\n",
       "      <th>0</th>\n",
       "      <td>PB562774</td>\n",
       "      <td>2008-08-01:00:00:15</td>\n",
       "      <td>양품</td>\n",
       "      <td>AB/EH32-TM</td>\n",
       "      <td>T1</td>\n",
       "      <td>32.25</td>\n",
       "      <td>3707</td>\n",
       "      <td>15109</td>\n",
       "      <td>14180</td>\n",
       "      <td>1호기</td>\n",
       "      <td>...</td>\n",
       "      <td>116</td>\n",
       "      <td>1133</td>\n",
       "      <td>59</td>\n",
       "      <td>282</td>\n",
       "      <td>1133</td>\n",
       "      <td>934</td>\n",
       "      <td>적용</td>\n",
       "      <td>8</td>\n",
       "      <td>2조</td>\n",
       "      <td>AB</td>\n",
       "    </tr>\n",
       "    <tr>\n",
       "      <th>1</th>\n",
       "      <td>PB562775</td>\n",
       "      <td>2008-08-01:00:00:16</td>\n",
       "      <td>양품</td>\n",
       "      <td>AB/EH32-TM</td>\n",
       "      <td>T1</td>\n",
       "      <td>32.25</td>\n",
       "      <td>3707</td>\n",
       "      <td>15109</td>\n",
       "      <td>14180</td>\n",
       "      <td>1호기</td>\n",
       "      <td>...</td>\n",
       "      <td>122</td>\n",
       "      <td>1135</td>\n",
       "      <td>53</td>\n",
       "      <td>283</td>\n",
       "      <td>1135</td>\n",
       "      <td>937</td>\n",
       "      <td>적용</td>\n",
       "      <td>8</td>\n",
       "      <td>2조</td>\n",
       "      <td>AB</td>\n",
       "    </tr>\n",
       "    <tr>\n",
       "      <th>2</th>\n",
       "      <td>PB562776</td>\n",
       "      <td>2008-08-01:00:00:59</td>\n",
       "      <td>양품</td>\n",
       "      <td>NV-E36-TM</td>\n",
       "      <td>T8</td>\n",
       "      <td>33.27</td>\n",
       "      <td>3619</td>\n",
       "      <td>19181</td>\n",
       "      <td>18130</td>\n",
       "      <td>2호기</td>\n",
       "      <td>...</td>\n",
       "      <td>116</td>\n",
       "      <td>1121</td>\n",
       "      <td>55</td>\n",
       "      <td>282</td>\n",
       "      <td>1121</td>\n",
       "      <td>889</td>\n",
       "      <td>적용</td>\n",
       "      <td>8</td>\n",
       "      <td>3조</td>\n",
       "      <td>NV</td>\n",
       "    </tr>\n",
       "    <tr>\n",
       "      <th>3</th>\n",
       "      <td>PB562777</td>\n",
       "      <td>2008-08-01:00:01:24</td>\n",
       "      <td>양품</td>\n",
       "      <td>NV-E36-TM</td>\n",
       "      <td>T8</td>\n",
       "      <td>33.27</td>\n",
       "      <td>3619</td>\n",
       "      <td>19181</td>\n",
       "      <td>18130</td>\n",
       "      <td>2호기</td>\n",
       "      <td>...</td>\n",
       "      <td>125</td>\n",
       "      <td>1127</td>\n",
       "      <td>68</td>\n",
       "      <td>316</td>\n",
       "      <td>1127</td>\n",
       "      <td>885</td>\n",
       "      <td>적용</td>\n",
       "      <td>8</td>\n",
       "      <td>3조</td>\n",
       "      <td>NV</td>\n",
       "    </tr>\n",
       "    <tr>\n",
       "      <th>4</th>\n",
       "      <td>PB562778</td>\n",
       "      <td>2008-08-01:00:01:44</td>\n",
       "      <td>양품</td>\n",
       "      <td>BV-EH36-TM</td>\n",
       "      <td>T8</td>\n",
       "      <td>38.33</td>\n",
       "      <td>3098</td>\n",
       "      <td>13334</td>\n",
       "      <td>12430</td>\n",
       "      <td>3호기</td>\n",
       "      <td>...</td>\n",
       "      <td>134</td>\n",
       "      <td>1128</td>\n",
       "      <td>48</td>\n",
       "      <td>314</td>\n",
       "      <td>1128</td>\n",
       "      <td>873</td>\n",
       "      <td>적용</td>\n",
       "      <td>8</td>\n",
       "      <td>1조</td>\n",
       "      <td>BV</td>\n",
       "    </tr>\n",
       "  </tbody>\n",
       "</table>\n",
       "<p>5 rows × 22 columns</p>\n",
       "</div>"
      ],
      "text/plain": [
       "   PLATE_NO         ROLLING_DATE SCALE        SPEC STEEL_KIND  PT_THK  \\\n",
       "0  PB562774  2008-08-01:00:00:15    양품  AB/EH32-TM         T1   32.25   \n",
       "1  PB562775  2008-08-01:00:00:16    양품  AB/EH32-TM         T1   32.25   \n",
       "2  PB562776  2008-08-01:00:00:59    양품   NV-E36-TM         T8   33.27   \n",
       "3  PB562777  2008-08-01:00:01:24    양품   NV-E36-TM         T8   33.27   \n",
       "4  PB562778  2008-08-01:00:01:44    양품  BV-EH36-TM         T8   38.33   \n",
       "\n",
       "   PT_WDTH  PT_LTH  PT_WGT FUR_NO  ...  FUR_HZ_TIME  FUR_SZ_TEMP  FUR_SZ_TIME  \\\n",
       "0     3707   15109   14180    1호기  ...          116         1133           59   \n",
       "1     3707   15109   14180    1호기  ...          122         1135           53   \n",
       "2     3619   19181   18130    2호기  ...          116         1121           55   \n",
       "3     3619   19181   18130    2호기  ...          125         1127           68   \n",
       "4     3098   13334   12430    3호기  ...          134         1128           48   \n",
       "\n",
       "   FUR_TIME  FUR_EXTEMP  ROLLING_TEMP_T5  HSB  ROLLING_DESCALING WORK_GR  \\\n",
       "0       282        1133              934   적용                  8      2조   \n",
       "1       283        1135              937   적용                  8      2조   \n",
       "2       282        1121              889   적용                  8      3조   \n",
       "3       316        1127              885   적용                  8      3조   \n",
       "4       314        1128              873   적용                  8      1조   \n",
       "\n",
       "   SPEC.1  \n",
       "0      AB  \n",
       "1      AB  \n",
       "2      NV  \n",
       "3      NV  \n",
       "4      BV  \n",
       "\n",
       "[5 rows x 22 columns]"
      ]
     },
     "execution_count": 32,
     "metadata": {},
     "output_type": "execute_result"
    }
   ],
   "source": [
    "df_raw.head()"
   ]
  },
  {
   "cell_type": "markdown",
   "metadata": {},
   "source": [
    "### 데이터 확인하기"
   ]
  },
  {
   "cell_type": "code",
   "execution_count": 33,
   "metadata": {},
   "outputs": [
    {
     "data": {
      "text/plain": [
       "720"
      ]
     },
     "execution_count": 33,
     "metadata": {},
     "output_type": "execute_result"
    }
   ],
   "source": [
    "len(df_raw)"
   ]
  },
  {
   "cell_type": "code",
   "execution_count": 5,
   "metadata": {
    "scrolled": true
   },
   "outputs": [
    {
     "name": "stdout",
     "output_type": "stream",
     "text": [
      "<class 'pandas.core.frame.DataFrame'>\n",
      "RangeIndex: 720 entries, 0 to 719\n",
      "Data columns (total 22 columns):\n",
      "PLATE_NO             720 non-null object\n",
      "ROLLING_DATE         720 non-null object\n",
      "SCALE                720 non-null object\n",
      "SPEC                 720 non-null object\n",
      "STEEL_KIND           720 non-null object\n",
      "PT_THK               720 non-null float64\n",
      "PT_WDTH              720 non-null int64\n",
      "PT_LTH               720 non-null int64\n",
      "PT_WGT               720 non-null int64\n",
      "FUR_NO               720 non-null object\n",
      "FUR_NO_ROW           720 non-null int64\n",
      "FUR_HZ_TEMP          720 non-null int64\n",
      "FUR_HZ_TIME          720 non-null int64\n",
      "FUR_SZ_TEMP          720 non-null int64\n",
      "FUR_SZ_TIME          720 non-null int64\n",
      "FUR_TIME             720 non-null int64\n",
      "FUR_EXTEMP           720 non-null int64\n",
      "ROLLING_TEMP_T5      720 non-null int64\n",
      "HSB                  720 non-null object\n",
      "ROLLING_DESCALING    720 non-null int64\n",
      "WORK_GR              720 non-null object\n",
      "SPEC.1               720 non-null object\n",
      "dtypes: float64(1), int64(12), object(9)\n",
      "memory usage: 123.8+ KB\n"
     ]
    }
   ],
   "source": [
    "df_raw.info()"
   ]
  },
  {
   "cell_type": "code",
   "execution_count": 6,
   "metadata": {},
   "outputs": [
    {
     "data": {
      "text/html": [
       "<div>\n",
       "<style scoped>\n",
       "    .dataframe tbody tr th:only-of-type {\n",
       "        vertical-align: middle;\n",
       "    }\n",
       "\n",
       "    .dataframe tbody tr th {\n",
       "        vertical-align: top;\n",
       "    }\n",
       "\n",
       "    .dataframe thead th {\n",
       "        text-align: right;\n",
       "    }\n",
       "</style>\n",
       "<table border=\"1\" class=\"dataframe\">\n",
       "  <thead>\n",
       "    <tr style=\"text-align: right;\">\n",
       "      <th></th>\n",
       "      <th>PT_THK</th>\n",
       "      <th>PT_WDTH</th>\n",
       "      <th>PT_LTH</th>\n",
       "      <th>PT_WGT</th>\n",
       "      <th>FUR_NO_ROW</th>\n",
       "      <th>FUR_HZ_TEMP</th>\n",
       "      <th>FUR_HZ_TIME</th>\n",
       "      <th>FUR_SZ_TEMP</th>\n",
       "      <th>FUR_SZ_TIME</th>\n",
       "      <th>FUR_TIME</th>\n",
       "      <th>FUR_EXTEMP</th>\n",
       "      <th>ROLLING_TEMP_T5</th>\n",
       "      <th>ROLLING_DESCALING</th>\n",
       "    </tr>\n",
       "  </thead>\n",
       "  <tbody>\n",
       "    <tr>\n",
       "      <th>count</th>\n",
       "      <td>720.000000</td>\n",
       "      <td>720.000000</td>\n",
       "      <td>720.000000</td>\n",
       "      <td>720.000000</td>\n",
       "      <td>720.000000</td>\n",
       "      <td>720.000000</td>\n",
       "      <td>720.000000</td>\n",
       "      <td>720.000000</td>\n",
       "      <td>720.000000</td>\n",
       "      <td>720.000000</td>\n",
       "      <td>720.000000</td>\n",
       "      <td>720.000000</td>\n",
       "      <td>720.000000</td>\n",
       "    </tr>\n",
       "    <tr>\n",
       "      <th>mean</th>\n",
       "      <td>29.267857</td>\n",
       "      <td>2807.127778</td>\n",
       "      <td>34323.269444</td>\n",
       "      <td>41481.777778</td>\n",
       "      <td>1.497222</td>\n",
       "      <td>1155.338889</td>\n",
       "      <td>88.527778</td>\n",
       "      <td>1149.666667</td>\n",
       "      <td>78.802778</td>\n",
       "      <td>300.563889</td>\n",
       "      <td>1149.666667</td>\n",
       "      <td>933.920833</td>\n",
       "      <td>8.319444</td>\n",
       "    </tr>\n",
       "    <tr>\n",
       "      <th>std</th>\n",
       "      <td>19.152651</td>\n",
       "      <td>517.839690</td>\n",
       "      <td>13828.434837</td>\n",
       "      <td>24751.322015</td>\n",
       "      <td>0.500340</td>\n",
       "      <td>20.866398</td>\n",
       "      <td>37.660799</td>\n",
       "      <td>17.571788</td>\n",
       "      <td>36.421004</td>\n",
       "      <td>45.390303</td>\n",
       "      <td>17.571788</td>\n",
       "      <td>107.863887</td>\n",
       "      <td>1.623252</td>\n",
       "    </tr>\n",
       "    <tr>\n",
       "      <th>min</th>\n",
       "      <td>12.030000</td>\n",
       "      <td>1800.000000</td>\n",
       "      <td>7893.000000</td>\n",
       "      <td>7820.000000</td>\n",
       "      <td>1.000000</td>\n",
       "      <td>1103.000000</td>\n",
       "      <td>43.000000</td>\n",
       "      <td>1113.000000</td>\n",
       "      <td>35.000000</td>\n",
       "      <td>221.000000</td>\n",
       "      <td>1113.000000</td>\n",
       "      <td>0.000000</td>\n",
       "      <td>5.000000</td>\n",
       "    </tr>\n",
       "    <tr>\n",
       "      <th>25%</th>\n",
       "      <td>16.090000</td>\n",
       "      <td>2466.000000</td>\n",
       "      <td>22663.000000</td>\n",
       "      <td>17757.500000</td>\n",
       "      <td>1.000000</td>\n",
       "      <td>1139.000000</td>\n",
       "      <td>65.000000</td>\n",
       "      <td>1132.000000</td>\n",
       "      <td>57.750000</td>\n",
       "      <td>257.000000</td>\n",
       "      <td>1132.000000</td>\n",
       "      <td>889.750000</td>\n",
       "      <td>6.000000</td>\n",
       "    </tr>\n",
       "    <tr>\n",
       "      <th>50%</th>\n",
       "      <td>20.130000</td>\n",
       "      <td>2725.000000</td>\n",
       "      <td>37380.000000</td>\n",
       "      <td>36120.000000</td>\n",
       "      <td>1.000000</td>\n",
       "      <td>1158.000000</td>\n",
       "      <td>75.000000</td>\n",
       "      <td>1155.000000</td>\n",
       "      <td>67.500000</td>\n",
       "      <td>304.000000</td>\n",
       "      <td>1155.000000</td>\n",
       "      <td>951.000000</td>\n",
       "      <td>8.000000</td>\n",
       "    </tr>\n",
       "    <tr>\n",
       "      <th>75%</th>\n",
       "      <td>40.000000</td>\n",
       "      <td>3125.000000</td>\n",
       "      <td>43735.000000</td>\n",
       "      <td>61120.000000</td>\n",
       "      <td>2.000000</td>\n",
       "      <td>1171.000000</td>\n",
       "      <td>101.000000</td>\n",
       "      <td>1164.000000</td>\n",
       "      <td>86.000000</td>\n",
       "      <td>342.000000</td>\n",
       "      <td>1164.000000</td>\n",
       "      <td>994.250000</td>\n",
       "      <td>10.000000</td>\n",
       "    </tr>\n",
       "    <tr>\n",
       "      <th>max</th>\n",
       "      <td>100.340000</td>\n",
       "      <td>4575.000000</td>\n",
       "      <td>54917.000000</td>\n",
       "      <td>115080.000000</td>\n",
       "      <td>2.000000</td>\n",
       "      <td>1206.000000</td>\n",
       "      <td>312.000000</td>\n",
       "      <td>1185.000000</td>\n",
       "      <td>294.000000</td>\n",
       "      <td>398.000000</td>\n",
       "      <td>1185.000000</td>\n",
       "      <td>1078.000000</td>\n",
       "      <td>10.000000</td>\n",
       "    </tr>\n",
       "  </tbody>\n",
       "</table>\n",
       "</div>"
      ],
      "text/plain": [
       "           PT_THK      PT_WDTH        PT_LTH         PT_WGT  FUR_NO_ROW  \\\n",
       "count  720.000000   720.000000    720.000000     720.000000  720.000000   \n",
       "mean    29.267857  2807.127778  34323.269444   41481.777778    1.497222   \n",
       "std     19.152651   517.839690  13828.434837   24751.322015    0.500340   \n",
       "min     12.030000  1800.000000   7893.000000    7820.000000    1.000000   \n",
       "25%     16.090000  2466.000000  22663.000000   17757.500000    1.000000   \n",
       "50%     20.130000  2725.000000  37380.000000   36120.000000    1.000000   \n",
       "75%     40.000000  3125.000000  43735.000000   61120.000000    2.000000   \n",
       "max    100.340000  4575.000000  54917.000000  115080.000000    2.000000   \n",
       "\n",
       "       FUR_HZ_TEMP  FUR_HZ_TIME  FUR_SZ_TEMP  FUR_SZ_TIME    FUR_TIME  \\\n",
       "count   720.000000   720.000000   720.000000   720.000000  720.000000   \n",
       "mean   1155.338889    88.527778  1149.666667    78.802778  300.563889   \n",
       "std      20.866398    37.660799    17.571788    36.421004   45.390303   \n",
       "min    1103.000000    43.000000  1113.000000    35.000000  221.000000   \n",
       "25%    1139.000000    65.000000  1132.000000    57.750000  257.000000   \n",
       "50%    1158.000000    75.000000  1155.000000    67.500000  304.000000   \n",
       "75%    1171.000000   101.000000  1164.000000    86.000000  342.000000   \n",
       "max    1206.000000   312.000000  1185.000000   294.000000  398.000000   \n",
       "\n",
       "        FUR_EXTEMP  ROLLING_TEMP_T5  ROLLING_DESCALING  \n",
       "count   720.000000       720.000000         720.000000  \n",
       "mean   1149.666667       933.920833           8.319444  \n",
       "std      17.571788       107.863887           1.623252  \n",
       "min    1113.000000         0.000000           5.000000  \n",
       "25%    1132.000000       889.750000           6.000000  \n",
       "50%    1155.000000       951.000000           8.000000  \n",
       "75%    1164.000000       994.250000          10.000000  \n",
       "max    1185.000000      1078.000000          10.000000  "
      ]
     },
     "execution_count": 6,
     "metadata": {},
     "output_type": "execute_result"
    }
   ],
   "source": [
    "df_raw.describe()"
   ]
  },
  {
   "cell_type": "markdown",
   "metadata": {},
   "source": [
    "### 시각화로 데이터 확인하기"
   ]
  },
  {
   "cell_type": "code",
   "execution_count": 7,
   "metadata": {},
   "outputs": [
    {
     "data": {
      "image/png": "[encoded data removed]",
      "text/plain": [
       "<Figure size 1440x1080 with 16 Axes>"
      ]
     },
     "metadata": {
      "needs_background": "light"
     },
     "output_type": "display_data"
    }
   ],
   "source": [
    "%matplotlib inline\n",
    "df_raw.hist(bins=50, figsize = (20, 15))\n",
    "plt.show()"
   ]
  },
  {
   "cell_type": "code",
   "execution_count": 8,
   "metadata": {},
   "outputs": [
    {
     "data": {
      "text/plain": [
       "<matplotlib.legend.Legend at 0x7feba66609e8>"
      ]
     },
     "execution_count": 8,
     "metadata": {},
     "output_type": "execute_result"
    },
    {
     "data": {
      "image/png": "[encoded data removed]",
      "text/plain": [
       "<Figure size 432x288 with 1 Axes>"
      ]
     },
     "metadata": {
      "needs_background": "light"
     },
     "output_type": "display_data"
    }
   ],
   "source": [
    "plt.hist(df_raw[\"FUR_EXTEMP\"], label = \"extemp\", alpha = 0.5)\n",
    "plt.hist(df_raw[\"FUR_SZ_TEMP\"], label = \"sz temp\", alpha = 0.5)\n",
    "\n",
    "plt.legend()\n",
    "\n",
    "# fur - 고로?\n",
    "# alpha = transparency"
   ]
  },
  {
   "cell_type": "code",
   "execution_count": null,
   "metadata": {},
   "outputs": [],
   "source": []
  },
  {
   "cell_type": "code",
   "execution_count": 9,
   "metadata": {},
   "outputs": [
    {
     "data": {
      "text/html": [
       "<div>\n",
       "<style scoped>\n",
       "    .dataframe tbody tr th:only-of-type {\n",
       "        vertical-align: middle;\n",
       "    }\n",
       "\n",
       "    .dataframe tbody tr th {\n",
       "        vertical-align: top;\n",
       "    }\n",
       "\n",
       "    .dataframe thead th {\n",
       "        text-align: right;\n",
       "    }\n",
       "</style>\n",
       "<table border=\"1\" class=\"dataframe\">\n",
       "  <thead>\n",
       "    <tr style=\"text-align: right;\">\n",
       "      <th></th>\n",
       "      <th>FUR_EXTEMP</th>\n",
       "      <th>FUR_SZ_TEMP</th>\n",
       "    </tr>\n",
       "  </thead>\n",
       "  <tbody>\n",
       "    <tr>\n",
       "      <th>FUR_EXTEMP</th>\n",
       "      <td>1.0</td>\n",
       "      <td>1.0</td>\n",
       "    </tr>\n",
       "    <tr>\n",
       "      <th>FUR_SZ_TEMP</th>\n",
       "      <td>1.0</td>\n",
       "      <td>1.0</td>\n",
       "    </tr>\n",
       "  </tbody>\n",
       "</table>\n",
       "</div>"
      ],
      "text/plain": [
       "             FUR_EXTEMP  FUR_SZ_TEMP\n",
       "FUR_EXTEMP          1.0          1.0\n",
       "FUR_SZ_TEMP         1.0          1.0"
      ]
     },
     "execution_count": 9,
     "metadata": {},
     "output_type": "execute_result"
    }
   ],
   "source": [
    "df_raw[[\"FUR_EXTEMP\", \"FUR_SZ_TEMP\"]].corr()\n",
    "# FUR_EXTEMP & FUR_SZ_TEMP 상관관계 분석 : Identical 둘 중 하나 제외한다\n",
    "# Logistic은 빼줘야하고, Algorithms 에서는 중요도 자동으로 빼줄것이다."
   ]
  },
  {
   "cell_type": "code",
   "execution_count": 10,
   "metadata": {
    "scrolled": true
   },
   "outputs": [
    {
     "data": {
      "text/html": [
       "<div>\n",
       "<style scoped>\n",
       "    .dataframe tbody tr th:only-of-type {\n",
       "        vertical-align: middle;\n",
       "    }\n",
       "\n",
       "    .dataframe tbody tr th {\n",
       "        vertical-align: top;\n",
       "    }\n",
       "\n",
       "    .dataframe thead th {\n",
       "        text-align: right;\n",
       "    }\n",
       "</style>\n",
       "<table border=\"1\" class=\"dataframe\">\n",
       "  <thead>\n",
       "    <tr style=\"text-align: right;\">\n",
       "      <th></th>\n",
       "      <th>PT_THK</th>\n",
       "      <th>PT_WDTH</th>\n",
       "      <th>PT_LTH</th>\n",
       "      <th>PT_WGT</th>\n",
       "      <th>FUR_NO_ROW</th>\n",
       "      <th>FUR_HZ_TEMP</th>\n",
       "      <th>FUR_HZ_TIME</th>\n",
       "      <th>FUR_SZ_TEMP</th>\n",
       "      <th>FUR_SZ_TIME</th>\n",
       "      <th>FUR_TIME</th>\n",
       "      <th>FUR_EXTEMP</th>\n",
       "      <th>ROLLING_TEMP_T5</th>\n",
       "      <th>ROLLING_DESCALING</th>\n",
       "    </tr>\n",
       "  </thead>\n",
       "  <tbody>\n",
       "    <tr>\n",
       "      <th>PT_THK</th>\n",
       "      <td>1.000000</td>\n",
       "      <td>-0.313151</td>\n",
       "      <td>-0.862618</td>\n",
       "      <td>-0.397391</td>\n",
       "      <td>-0.002530</td>\n",
       "      <td>-0.523926</td>\n",
       "      <td>0.160110</td>\n",
       "      <td>-0.694770</td>\n",
       "      <td>0.113171</td>\n",
       "      <td>0.413009</td>\n",
       "      <td>-0.694770</td>\n",
       "      <td>-0.373976</td>\n",
       "      <td>-0.836631</td>\n",
       "    </tr>\n",
       "    <tr>\n",
       "      <th>PT_WDTH</th>\n",
       "      <td>-0.313151</td>\n",
       "      <td>1.000000</td>\n",
       "      <td>0.119726</td>\n",
       "      <td>0.031009</td>\n",
       "      <td>0.006727</td>\n",
       "      <td>0.180024</td>\n",
       "      <td>-0.119175</td>\n",
       "      <td>0.227296</td>\n",
       "      <td>0.022627</td>\n",
       "      <td>-0.393200</td>\n",
       "      <td>0.227296</td>\n",
       "      <td>-0.021807</td>\n",
       "      <td>0.337540</td>\n",
       "    </tr>\n",
       "    <tr>\n",
       "      <th>PT_LTH</th>\n",
       "      <td>-0.862618</td>\n",
       "      <td>0.119726</td>\n",
       "      <td>1.000000</td>\n",
       "      <td>0.451815</td>\n",
       "      <td>-0.021185</td>\n",
       "      <td>0.473111</td>\n",
       "      <td>-0.077392</td>\n",
       "      <td>0.645402</td>\n",
       "      <td>-0.070225</td>\n",
       "      <td>-0.251950</td>\n",
       "      <td>0.645402</td>\n",
       "      <td>0.312762</td>\n",
       "      <td>0.809280</td>\n",
       "    </tr>\n",
       "    <tr>\n",
       "      <th>PT_WGT</th>\n",
       "      <td>-0.397391</td>\n",
       "      <td>0.031009</td>\n",
       "      <td>0.451815</td>\n",
       "      <td>1.000000</td>\n",
       "      <td>-0.022241</td>\n",
       "      <td>0.153331</td>\n",
       "      <td>0.010491</td>\n",
       "      <td>0.359513</td>\n",
       "      <td>-0.190922</td>\n",
       "      <td>-0.057776</td>\n",
       "      <td>0.359513</td>\n",
       "      <td>0.263216</td>\n",
       "      <td>0.238986</td>\n",
       "    </tr>\n",
       "    <tr>\n",
       "      <th>FUR_NO_ROW</th>\n",
       "      <td>-0.002530</td>\n",
       "      <td>0.006727</td>\n",
       "      <td>-0.021185</td>\n",
       "      <td>-0.022241</td>\n",
       "      <td>1.000000</td>\n",
       "      <td>0.004753</td>\n",
       "      <td>-0.015791</td>\n",
       "      <td>0.009228</td>\n",
       "      <td>0.049045</td>\n",
       "      <td>0.016053</td>\n",
       "      <td>0.009228</td>\n",
       "      <td>-0.004372</td>\n",
       "      <td>0.018219</td>\n",
       "    </tr>\n",
       "    <tr>\n",
       "      <th>FUR_HZ_TEMP</th>\n",
       "      <td>-0.523926</td>\n",
       "      <td>0.180024</td>\n",
       "      <td>0.473111</td>\n",
       "      <td>0.153331</td>\n",
       "      <td>0.004753</td>\n",
       "      <td>1.000000</td>\n",
       "      <td>-0.114395</td>\n",
       "      <td>0.772907</td>\n",
       "      <td>-0.222141</td>\n",
       "      <td>-0.348223</td>\n",
       "      <td>0.772907</td>\n",
       "      <td>0.265310</td>\n",
       "      <td>0.470899</td>\n",
       "    </tr>\n",
       "    <tr>\n",
       "      <th>FUR_HZ_TIME</th>\n",
       "      <td>0.160110</td>\n",
       "      <td>-0.119175</td>\n",
       "      <td>-0.077392</td>\n",
       "      <td>0.010491</td>\n",
       "      <td>-0.015791</td>\n",
       "      <td>-0.114395</td>\n",
       "      <td>1.000000</td>\n",
       "      <td>-0.203401</td>\n",
       "      <td>0.177922</td>\n",
       "      <td>0.473137</td>\n",
       "      <td>-0.203401</td>\n",
       "      <td>0.011609</td>\n",
       "      <td>-0.137742</td>\n",
       "    </tr>\n",
       "    <tr>\n",
       "      <th>FUR_SZ_TEMP</th>\n",
       "      <td>-0.694770</td>\n",
       "      <td>0.227296</td>\n",
       "      <td>0.645402</td>\n",
       "      <td>0.359513</td>\n",
       "      <td>0.009228</td>\n",
       "      <td>0.772907</td>\n",
       "      <td>-0.203401</td>\n",
       "      <td>1.000000</td>\n",
       "      <td>-0.450652</td>\n",
       "      <td>-0.477177</td>\n",
       "      <td>1.000000</td>\n",
       "      <td>0.452297</td>\n",
       "      <td>0.648646</td>\n",
       "    </tr>\n",
       "    <tr>\n",
       "      <th>FUR_SZ_TIME</th>\n",
       "      <td>0.113171</td>\n",
       "      <td>0.022627</td>\n",
       "      <td>-0.070225</td>\n",
       "      <td>-0.190922</td>\n",
       "      <td>0.049045</td>\n",
       "      <td>-0.222141</td>\n",
       "      <td>0.177922</td>\n",
       "      <td>-0.450652</td>\n",
       "      <td>1.000000</td>\n",
       "      <td>0.443176</td>\n",
       "      <td>-0.450652</td>\n",
       "      <td>-0.207358</td>\n",
       "      <td>-0.105667</td>\n",
       "    </tr>\n",
       "    <tr>\n",
       "      <th>FUR_TIME</th>\n",
       "      <td>0.413009</td>\n",
       "      <td>-0.393200</td>\n",
       "      <td>-0.251950</td>\n",
       "      <td>-0.057776</td>\n",
       "      <td>0.016053</td>\n",
       "      <td>-0.348223</td>\n",
       "      <td>0.473137</td>\n",
       "      <td>-0.477177</td>\n",
       "      <td>0.443176</td>\n",
       "      <td>1.000000</td>\n",
       "      <td>-0.477177</td>\n",
       "      <td>-0.199352</td>\n",
       "      <td>-0.366708</td>\n",
       "    </tr>\n",
       "    <tr>\n",
       "      <th>FUR_EXTEMP</th>\n",
       "      <td>-0.694770</td>\n",
       "      <td>0.227296</td>\n",
       "      <td>0.645402</td>\n",
       "      <td>0.359513</td>\n",
       "      <td>0.009228</td>\n",
       "      <td>0.772907</td>\n",
       "      <td>-0.203401</td>\n",
       "      <td>1.000000</td>\n",
       "      <td>-0.450652</td>\n",
       "      <td>-0.477177</td>\n",
       "      <td>1.000000</td>\n",
       "      <td>0.452297</td>\n",
       "      <td>0.648646</td>\n",
       "    </tr>\n",
       "    <tr>\n",
       "      <th>ROLLING_TEMP_T5</th>\n",
       "      <td>-0.373976</td>\n",
       "      <td>-0.021807</td>\n",
       "      <td>0.312762</td>\n",
       "      <td>0.263216</td>\n",
       "      <td>-0.004372</td>\n",
       "      <td>0.265310</td>\n",
       "      <td>0.011609</td>\n",
       "      <td>0.452297</td>\n",
       "      <td>-0.207358</td>\n",
       "      <td>-0.199352</td>\n",
       "      <td>0.452297</td>\n",
       "      <td>1.000000</td>\n",
       "      <td>0.267521</td>\n",
       "    </tr>\n",
       "    <tr>\n",
       "      <th>ROLLING_DESCALING</th>\n",
       "      <td>-0.836631</td>\n",
       "      <td>0.337540</td>\n",
       "      <td>0.809280</td>\n",
       "      <td>0.238986</td>\n",
       "      <td>0.018219</td>\n",
       "      <td>0.470899</td>\n",
       "      <td>-0.137742</td>\n",
       "      <td>0.648646</td>\n",
       "      <td>-0.105667</td>\n",
       "      <td>-0.366708</td>\n",
       "      <td>0.648646</td>\n",
       "      <td>0.267521</td>\n",
       "      <td>1.000000</td>\n",
       "    </tr>\n",
       "  </tbody>\n",
       "</table>\n",
       "</div>"
      ],
      "text/plain": [
       "                     PT_THK   PT_WDTH    PT_LTH    PT_WGT  FUR_NO_ROW  \\\n",
       "PT_THK             1.000000 -0.313151 -0.862618 -0.397391   -0.002530   \n",
       "PT_WDTH           -0.313151  1.000000  0.119726  0.031009    0.006727   \n",
       "PT_LTH            -0.862618  0.119726  1.000000  0.451815   -0.021185   \n",
       "PT_WGT            -0.397391  0.031009  0.451815  1.000000   -0.022241   \n",
       "FUR_NO_ROW        -0.002530  0.006727 -0.021185 -0.022241    1.000000   \n",
       "FUR_HZ_TEMP       -0.523926  0.180024  0.473111  0.153331    0.004753   \n",
       "FUR_HZ_TIME        0.160110 -0.119175 -0.077392  0.010491   -0.015791   \n",
       "FUR_SZ_TEMP       -0.694770  0.227296  0.645402  0.359513    0.009228   \n",
       "FUR_SZ_TIME        0.113171  0.022627 -0.070225 -0.190922    0.049045   \n",
       "FUR_TIME           0.413009 -0.393200 -0.251950 -0.057776    0.016053   \n",
       "FUR_EXTEMP        -0.694770  0.227296  0.645402  0.359513    0.009228   \n",
       "ROLLING_TEMP_T5   -0.373976 -0.021807  0.312762  0.263216   -0.004372   \n",
       "ROLLING_DESCALING -0.836631  0.337540  0.809280  0.238986    0.018219   \n",
       "\n",
       "                   FUR_HZ_TEMP  FUR_HZ_TIME  FUR_SZ_TEMP  FUR_SZ_TIME  \\\n",
       "PT_THK               -0.523926     0.160110    -0.694770     0.113171   \n",
       "PT_WDTH               0.180024    -0.119175     0.227296     0.022627   \n",
       "PT_LTH                0.473111    -0.077392     0.645402    -0.070225   \n",
       "PT_WGT                0.153331     0.010491     0.359513    -0.190922   \n",
       "FUR_NO_ROW            0.004753    -0.015791     0.009228     0.049045   \n",
       "FUR_HZ_TEMP           1.000000    -0.114395     0.772907    -0.222141   \n",
       "FUR_HZ_TIME          -0.114395     1.000000    -0.203401     0.177922   \n",
       "FUR_SZ_TEMP           0.772907    -0.203401     1.000000    -0.450652   \n",
       "FUR_SZ_TIME          -0.222141     0.177922    -0.450652     1.000000   \n",
       "FUR_TIME             -0.348223     0.473137    -0.477177     0.443176   \n",
       "FUR_EXTEMP            0.772907    -0.203401     1.000000    -0.450652   \n",
       "ROLLING_TEMP_T5       0.265310     0.011609     0.452297    -0.207358   \n",
       "ROLLING_DESCALING     0.470899    -0.137742     0.648646    -0.105667   \n",
       "\n",
       "                   FUR_TIME  FUR_EXTEMP  ROLLING_TEMP_T5  ROLLING_DESCALING  \n",
       "PT_THK             0.413009   -0.694770        -0.373976          -0.836631  \n",
       "PT_WDTH           -0.393200    0.227296        -0.021807           0.337540  \n",
       "PT_LTH            -0.251950    0.645402         0.312762           0.809280  \n",
       "PT_WGT            -0.057776    0.359513         0.263216           0.238986  \n",
       "FUR_NO_ROW         0.016053    0.009228        -0.004372           0.018219  \n",
       "FUR_HZ_TEMP       -0.348223    0.772907         0.265310           0.470899  \n",
       "FUR_HZ_TIME        0.473137   -0.203401         0.011609          -0.137742  \n",
       "FUR_SZ_TEMP       -0.477177    1.000000         0.452297           0.648646  \n",
       "FUR_SZ_TIME        0.443176   -0.450652        -0.207358          -0.105667  \n",
       "FUR_TIME           1.000000   -0.477177        -0.199352          -0.366708  \n",
       "FUR_EXTEMP        -0.477177    1.000000         0.452297           0.648646  \n",
       "ROLLING_TEMP_T5   -0.199352    0.452297         1.000000           0.267521  \n",
       "ROLLING_DESCALING -0.366708    0.648646         0.267521           1.000000  "
      ]
     },
     "execution_count": 10,
     "metadata": {},
     "output_type": "execute_result"
    }
   ],
   "source": [
    "df_raw.corr()"
   ]
  },
  {
   "cell_type": "code",
   "execution_count": null,
   "metadata": {},
   "outputs": [],
   "source": [
    "sns.scatterplot(x=\"RUNTIME\", y=\"OXY\", hue = \"GENDER\", style = \"GENDER\", data = df_raw)"
   ]
  },
  {
   "cell_type": "code",
   "execution_count": 11,
   "metadata": {
    "scrolled": true
   },
   "outputs": [
    {
     "data": {
      "text/plain": [
       "PLATE_NO             0\n",
       "ROLLING_DATE         0\n",
       "SCALE                0\n",
       "SPEC                 0\n",
       "STEEL_KIND           0\n",
       "PT_THK               0\n",
       "PT_WDTH              0\n",
       "PT_LTH               0\n",
       "PT_WGT               0\n",
       "FUR_NO               0\n",
       "FUR_NO_ROW           0\n",
       "FUR_HZ_TEMP          0\n",
       "FUR_HZ_TIME          0\n",
       "FUR_SZ_TEMP          0\n",
       "FUR_SZ_TIME          0\n",
       "FUR_TIME             0\n",
       "FUR_EXTEMP           0\n",
       "ROLLING_TEMP_T5      0\n",
       "HSB                  0\n",
       "ROLLING_DESCALING    0\n",
       "WORK_GR              0\n",
       "SPEC.1               0\n",
       "dtype: int64"
      ]
     },
     "execution_count": 11,
     "metadata": {},
     "output_type": "execute_result"
    }
   ],
   "source": [
    "df_raw.isna().sum()"
   ]
  },
  {
   "cell_type": "code",
   "execution_count": 12,
   "metadata": {
    "scrolled": true
   },
   "outputs": [
    {
     "data": {
      "text/plain": [
       "<matplotlib.axes._subplots.AxesSubplot at 0x7feba6d016d8>"
      ]
     },
     "execution_count": 12,
     "metadata": {},
     "output_type": "execute_result"
    },
    {
     "data": {
      "image/png": "[encoded data removed]",
      "text/plain": [
       "<Figure size 432x288 with 1 Axes>"
      ]
     },
     "metadata": {},
     "output_type": "display_data"
    }
   ],
   "source": [
    "df_count = df_raw.groupby([\"SPEC\"]).size()\n",
    "df_count.plot.pie(autopct = \"%d%%\")"
   ]
  },
  {
   "cell_type": "code",
   "execution_count": 36,
   "metadata": {},
   "outputs": [
    {
     "data": {
      "text/plain": [
       "<matplotlib.axes._subplots.AxesSubplot at 0x7fe97c546e48>"
      ]
     },
     "execution_count": 36,
     "metadata": {},
     "output_type": "execute_result"
    },
    {
     "data": {
      "image/png": "[encoded data removed]",
      "text/plain": [
       "<Figure size 576x576 with 1 Axes>"
      ]
     },
     "metadata": {},
     "output_type": "display_data"
    }
   ],
   "source": [
    "plt.rcParams['font.size'] = 15\n",
    "df_count = df_raw.groupby([\"SPEC.1\"]).size()\n",
    "df_count.plot.pie(autopct = \"%d%%\", figsize=(8, 8))"
   ]
  },
  {
   "cell_type": "code",
   "execution_count": null,
   "metadata": {},
   "outputs": [],
   "source": [
    "df_raw[\"HSB\"] = np.where(df_raw[\"HSB\"] == \"적용0\",1,0) "
   ]
  },
  {
   "cell_type": "code",
   "execution_count": 6,
   "metadata": {},
   "outputs": [
    {
     "data": {
      "text/plain": [
       "<matplotlib.axes._subplots.AxesSubplot at 0x7fd16131db00>"
      ]
     },
     "execution_count": 6,
     "metadata": {},
     "output_type": "execute_result"
    },
    {
     "data": {
      "image/png": "[encoded data removed]",
      "text/plain": [
       "<Figure size 576x576 with 1 Axes>"
      ]
     },
     "metadata": {},
     "output_type": "display_data"
    }
   ],
   "source": [
    "plt.rcParams['font.size'] = 15\n",
    "\n",
    "df_count = df_raw.groupby([\"HSB\"]).size()\n",
    "df_count.plot.pie(autopct = \"%d%%\", figsize=(8, 8))"
   ]
  },
  {
   "cell_type": "code",
   "execution_count": 7,
   "metadata": {},
   "outputs": [
    {
     "data": {
      "text/plain": [
       "<matplotlib.axes._subplots.AxesSubplot at 0x7fd161467b70>"
      ]
     },
     "execution_count": 7,
     "metadata": {},
     "output_type": "execute_result"
    },
    {
     "data": {
      "image/png": "[encoded data removed]",
      "text/plain": [
       "<Figure size 576x576 with 1 Axes>"
      ]
     },
     "metadata": {},
     "output_type": "display_data"
    }
   ],
   "source": [
    "plt.rcParams['font.size'] = 15\n",
    "\n",
    "df_count = df_raw.groupby([\"WORK_GR\"]).size()\n",
    "df_count.plot.pie(autopct = \"%d%%\", figsize=(8, 8))"
   ]
  },
  {
   "cell_type": "code",
   "execution_count": 8,
   "metadata": {},
   "outputs": [
    {
     "data": {
      "text/plain": [
       "<matplotlib.axes._subplots.AxesSubplot at 0x7fd161432a58>"
      ]
     },
     "execution_count": 8,
     "metadata": {},
     "output_type": "execute_result"
    },
    {
     "data": {
      "image/png": "[encoded data removed]",
      "text/plain": [
       "<Figure size 576x576 with 1 Axes>"
      ]
     },
     "metadata": {},
     "output_type": "display_data"
    }
   ],
   "source": [
    "plt.rcParams['font.size'] = 15\n",
    "\n",
    "df_count = df_raw.groupby([\"FUR_NO\"]).size()\n",
    "df_count.plot.pie(autopct = \"%d%%\", figsize=(8, 8))"
   ]
  },
  {
   "cell_type": "code",
   "execution_count": 14,
   "metadata": {},
   "outputs": [],
   "source": [
    "# 스펙을 앞에 문자 2개로 묶어보면 어떨까"
   ]
  },
  {
   "cell_type": "code",
   "execution_count": 15,
   "metadata": {
    "scrolled": false
   },
   "outputs": [
    {
     "data": {
      "text/plain": [
       "A131-DH36TM     1\n",
       "A283-C          6\n",
       "A516-60         2\n",
       "A709-36         1\n",
       "AB/A            7\n",
       "AB/AH32         5\n",
       "AB/B            6\n",
       "AB/EH32-TM      2\n",
       "AB/EH36-TM     17\n",
       "API-2W-50T      2\n",
       "BV-A            1\n",
       "BV-AH32        14\n",
       "BV-AH32-TM      3\n",
       "BV-AH36-TL      3\n",
       "BV-AH36-TM      1\n",
       "BV-B           28\n",
       "BV-EH32-TM      1\n",
       "BV-EH36-TM     35\n",
       "CCS-B           1\n",
       "COMMON         28\n",
       "GL-A            3\n",
       "GL-A32          8\n",
       "GL-A32-TM       4\n",
       "GL-A36-TM      11\n",
       "GL-D36-TM       8\n",
       "GL-E32-TM       6\n",
       "GL-E36-TM      16\n",
       "JS-SM400A       2\n",
       "JS-SM400B       5\n",
       "JS-SM490A      31\n",
       "               ..\n",
       "KS-HSB500       2\n",
       "KS-HSB600       1\n",
       "KS-SM400A       4\n",
       "KS-SM400B       4\n",
       "KS-SM490A       5\n",
       "KS-SM490B       7\n",
       "KS-SS400        5\n",
       "LR-A           54\n",
       "LR-AH32        33\n",
       "LR-AH36         1\n",
       "LR-AH36-TM      1\n",
       "LR-B           13\n",
       "LR-EH32-TM      1\n",
       "LR-EH36-TM      2\n",
       "NK-KA           5\n",
       "NK-KA32        12\n",
       "NK-KA32-TM      1\n",
       "NK-KD36-TM      2\n",
       "NV-A           48\n",
       "NV-A32         33\n",
       "NV-A32-TM       3\n",
       "NV-A36-TM       2\n",
       "NV-B            3\n",
       "NV-D32-TM       4\n",
       "NV-D36-TM       5\n",
       "NV-E32-TM       2\n",
       "NV-E36-TM       5\n",
       "PILAC-BT33     40\n",
       "SA283-C        21\n",
       "V42JBN3         4\n",
       "Name: SPEC, Length: 66, dtype: int64"
      ]
     },
     "execution_count": 15,
     "metadata": {},
     "output_type": "execute_result"
    }
   ],
   "source": [
    "df_raw[\"SPEC\"].value_counts().sort_index(level = 0)"
   ]
  },
  {
   "cell_type": "code",
   "execution_count": 16,
   "metadata": {},
   "outputs": [
    {
     "data": {
      "text/plain": [
       "array(['AB/EH32-TM', 'NV-E36-TM', 'BV-EH36-TM', 'COMMON', 'GL-E32-TM',\n",
       "       'GL-E36-TM', 'AB/EH36-TM', 'KS-HSB600', 'LR-EH36-TM', 'BV-B',\n",
       "       'LR-B', 'JS-SM490YB', 'KR-B', 'LR-A', 'JS-SM490A', 'KS-SM400B',\n",
       "       'JS-SM400B', 'AB/B', 'KS-SS400', 'KR-A', 'NV-A', 'JS-SS400',\n",
       "       'KS-SM400A', 'KS-SM490B', 'V42JBN3', 'BV-AH32', 'JS-SM490YA',\n",
       "       'AB/AH32', 'LR-AH32', 'NV-B', 'NV-A32', 'KS-SM490A', 'NK-KA32',\n",
       "       'GL-A32', 'AB/A', 'LR-AH36', 'A709-36', 'KR-AH32', 'A516-60',\n",
       "       'GL-A', 'NK-KA', 'NV-D36-TM', 'NK-KA32-TM', 'GL-A32-TM',\n",
       "       'LR-AH36-TM', 'LR-EH32-TM', 'NV-E32-TM', 'KS-HSB500', 'API-2W-50T',\n",
       "       'GL-A36-TM', 'BV-EH32-TM', 'NV-A32-TM', 'NV-D32-TM', 'NK-KD36-TM',\n",
       "       'GL-D36-TM', 'PILAC-BT33', 'BV-AH32-TM', 'BV-AH36-TM', 'NV-A36-TM',\n",
       "       'A131-DH36TM', 'BV-AH36-TL', 'BV-A', 'CCS-B', 'A283-C', 'SA283-C',\n",
       "       'JS-SM400A'], dtype=object)"
      ]
     },
     "execution_count": 16,
     "metadata": {},
     "output_type": "execute_result"
    }
   ],
   "source": [
    "df_raw[\"SPEC\"].unique()"
   ]
  },
  {
   "cell_type": "code",
   "execution_count": 13,
   "metadata": {},
   "outputs": [],
   "source": [
    "specs = {}\n",
    "\n",
    "for spec in df_raw[\"SPEC\"]:\n",
    "    if spec[0:2] in specs:\n",
    "        specs[spec[0:2]] = specs[spec[0:2]] + 1\n",
    "    else:\n",
    "        specs[spec[0:2]] = 1"
   ]
  },
  {
   "cell_type": "code",
   "execution_count": 18,
   "metadata": {},
   "outputs": [
    {
     "data": {
      "text/plain": [
       "{'AB': 37,\n",
       " 'NV': 105,\n",
       " 'BV': 86,\n",
       " 'CO': 28,\n",
       " 'GL': 56,\n",
       " 'KS': 28,\n",
       " 'LR': 105,\n",
       " 'JS': 146,\n",
       " 'KR': 31,\n",
       " 'V4': 4,\n",
       " 'NK': 20,\n",
       " 'A7': 1,\n",
       " 'A5': 2,\n",
       " 'AP': 2,\n",
       " 'PI': 40,\n",
       " 'A1': 1,\n",
       " 'CC': 1,\n",
       " 'A2': 6,\n",
       " 'SA': 21}"
      ]
     },
     "execution_count": 18,
     "metadata": {},
     "output_type": "execute_result"
    }
   ],
   "source": [
    "specs"
   ]
  },
  {
   "cell_type": "code",
   "execution_count": 19,
   "metadata": {},
   "outputs": [
    {
     "data": {
      "text/plain": [
       "19"
      ]
     },
     "execution_count": 19,
     "metadata": {},
     "output_type": "execute_result"
    }
   ],
   "source": [
    "len(specs)"
   ]
  },
  {
   "cell_type": "code",
   "execution_count": 20,
   "metadata": {},
   "outputs": [
    {
     "data": {
      "text/plain": [
       "66"
      ]
     },
     "execution_count": 20,
     "metadata": {},
     "output_type": "execute_result"
    }
   ],
   "source": [
    "len(df_raw[\"SPEC\"].unique())"
   ]
  },
  {
   "cell_type": "markdown",
   "metadata": {},
   "source": [
    "### 전처리"
   ]
  },
  {
   "cell_type": "markdown",
   "metadata": {},
   "source": [
    "### 범주형 변수 확인"
   ]
  },
  {
   "cell_type": "code",
   "execution_count": 34,
   "metadata": {},
   "outputs": [
    {
     "name": "stdout",
     "output_type": "stream",
     "text": [
      "PLATE_NO : 720\n",
      "ROLLING_DATE : 704\n",
      "SCALE : 2\n",
      "SPEC : 66\n",
      "STEEL_KIND : 9\n",
      "FUR_NO : 3\n",
      "HSB : 2\n",
      "WORK_GR : 4\n",
      "SPEC.1 : 16\n"
     ]
    }
   ],
   "source": [
    "obj_cols = df_raw.select_dtypes(\"object\").columns\n",
    "for col in obj_cols:\n",
    "    _n = len(df_raw[col].value_counts())\n",
    "    print(col, \":\", str(_n))"
   ]
  },
  {
   "cell_type": "code",
   "execution_count": 35,
   "metadata": {},
   "outputs": [],
   "source": [
    "# 필요없는 변수 버리기\n",
    "df_raw = df_raw.drop([\"PLATE_NO\", \"ROLLING_DATE\", \"FUR_SZ_TEMP\"], axis = 1)"
   ]
  },
  {
   "cell_type": "code",
   "execution_count": 36,
   "metadata": {},
   "outputs": [
    {
     "name": "stdout",
     "output_type": "stream",
     "text": [
      "SCALE : 2\n",
      "SPEC : 66\n",
      "STEEL_KIND : 9\n",
      "FUR_NO : 3\n",
      "HSB : 2\n",
      "WORK_GR : 4\n",
      "SPEC.1 : 16\n"
     ]
    }
   ],
   "source": [
    "obj_cols = df_raw.select_dtypes(\"object\").columns\n",
    "for col in obj_cols:\n",
    "    _n = len(df_raw[col].value_counts())\n",
    "    print(col, \":\", str(_n))"
   ]
  },
  {
   "cell_type": "code",
   "execution_count": 37,
   "metadata": {},
   "outputs": [],
   "source": [
    "import numpy as np"
   ]
  },
  {
   "cell_type": "code",
   "execution_count": 38,
   "metadata": {},
   "outputs": [],
   "source": [
    "# 불량/양품 0과 1로 변경\n",
    "df_raw[\"SCALE\"] = np.where(df_raw[\"SCALE\"] == \"불량\", 1, 0)"
   ]
  },
  {
   "cell_type": "code",
   "execution_count": 39,
   "metadata": {},
   "outputs": [
    {
     "data": {
      "text/html": [
       "<div>\n",
       "<style scoped>\n",
       "    .dataframe tbody tr th:only-of-type {\n",
       "        vertical-align: middle;\n",
       "    }\n",
       "\n",
       "    .dataframe tbody tr th {\n",
       "        vertical-align: top;\n",
       "    }\n",
       "\n",
       "    .dataframe thead th {\n",
       "        text-align: right;\n",
       "    }\n",
       "</style>\n",
       "<table border=\"1\" class=\"dataframe\">\n",
       "  <thead>\n",
       "    <tr style=\"text-align: right;\">\n",
       "      <th></th>\n",
       "      <th>SCALE</th>\n",
       "      <th>SPEC</th>\n",
       "      <th>STEEL_KIND</th>\n",
       "      <th>PT_THK</th>\n",
       "      <th>PT_WDTH</th>\n",
       "      <th>PT_LTH</th>\n",
       "      <th>PT_WGT</th>\n",
       "      <th>FUR_NO</th>\n",
       "      <th>FUR_NO_ROW</th>\n",
       "      <th>FUR_HZ_TEMP</th>\n",
       "      <th>FUR_HZ_TIME</th>\n",
       "      <th>FUR_SZ_TIME</th>\n",
       "      <th>FUR_TIME</th>\n",
       "      <th>FUR_EXTEMP</th>\n",
       "      <th>ROLLING_TEMP_T5</th>\n",
       "      <th>HSB</th>\n",
       "      <th>ROLLING_DESCALING</th>\n",
       "      <th>WORK_GR</th>\n",
       "      <th>SPEC.1</th>\n",
       "    </tr>\n",
       "  </thead>\n",
       "  <tbody>\n",
       "    <tr>\n",
       "      <th>0</th>\n",
       "      <td>0</td>\n",
       "      <td>AB/EH32-TM</td>\n",
       "      <td>T1</td>\n",
       "      <td>32.25</td>\n",
       "      <td>3707</td>\n",
       "      <td>15109</td>\n",
       "      <td>14180</td>\n",
       "      <td>1호기</td>\n",
       "      <td>1</td>\n",
       "      <td>1144</td>\n",
       "      <td>116</td>\n",
       "      <td>59</td>\n",
       "      <td>282</td>\n",
       "      <td>1133</td>\n",
       "      <td>934</td>\n",
       "      <td>적용</td>\n",
       "      <td>8</td>\n",
       "      <td>2조</td>\n",
       "      <td>AB</td>\n",
       "    </tr>\n",
       "    <tr>\n",
       "      <th>1</th>\n",
       "      <td>0</td>\n",
       "      <td>AB/EH32-TM</td>\n",
       "      <td>T1</td>\n",
       "      <td>32.25</td>\n",
       "      <td>3707</td>\n",
       "      <td>15109</td>\n",
       "      <td>14180</td>\n",
       "      <td>1호기</td>\n",
       "      <td>2</td>\n",
       "      <td>1144</td>\n",
       "      <td>122</td>\n",
       "      <td>53</td>\n",
       "      <td>283</td>\n",
       "      <td>1135</td>\n",
       "      <td>937</td>\n",
       "      <td>적용</td>\n",
       "      <td>8</td>\n",
       "      <td>2조</td>\n",
       "      <td>AB</td>\n",
       "    </tr>\n",
       "    <tr>\n",
       "      <th>2</th>\n",
       "      <td>0</td>\n",
       "      <td>NV-E36-TM</td>\n",
       "      <td>T8</td>\n",
       "      <td>33.27</td>\n",
       "      <td>3619</td>\n",
       "      <td>19181</td>\n",
       "      <td>18130</td>\n",
       "      <td>2호기</td>\n",
       "      <td>1</td>\n",
       "      <td>1129</td>\n",
       "      <td>116</td>\n",
       "      <td>55</td>\n",
       "      <td>282</td>\n",
       "      <td>1121</td>\n",
       "      <td>889</td>\n",
       "      <td>적용</td>\n",
       "      <td>8</td>\n",
       "      <td>3조</td>\n",
       "      <td>NV</td>\n",
       "    </tr>\n",
       "    <tr>\n",
       "      <th>3</th>\n",
       "      <td>0</td>\n",
       "      <td>NV-E36-TM</td>\n",
       "      <td>T8</td>\n",
       "      <td>33.27</td>\n",
       "      <td>3619</td>\n",
       "      <td>19181</td>\n",
       "      <td>18130</td>\n",
       "      <td>2호기</td>\n",
       "      <td>2</td>\n",
       "      <td>1152</td>\n",
       "      <td>125</td>\n",
       "      <td>68</td>\n",
       "      <td>316</td>\n",
       "      <td>1127</td>\n",
       "      <td>885</td>\n",
       "      <td>적용</td>\n",
       "      <td>8</td>\n",
       "      <td>3조</td>\n",
       "      <td>NV</td>\n",
       "    </tr>\n",
       "    <tr>\n",
       "      <th>4</th>\n",
       "      <td>0</td>\n",
       "      <td>BV-EH36-TM</td>\n",
       "      <td>T8</td>\n",
       "      <td>38.33</td>\n",
       "      <td>3098</td>\n",
       "      <td>13334</td>\n",
       "      <td>12430</td>\n",
       "      <td>3호기</td>\n",
       "      <td>1</td>\n",
       "      <td>1140</td>\n",
       "      <td>134</td>\n",
       "      <td>48</td>\n",
       "      <td>314</td>\n",
       "      <td>1128</td>\n",
       "      <td>873</td>\n",
       "      <td>적용</td>\n",
       "      <td>8</td>\n",
       "      <td>1조</td>\n",
       "      <td>BV</td>\n",
       "    </tr>\n",
       "  </tbody>\n",
       "</table>\n",
       "</div>"
      ],
      "text/plain": [
       "   SCALE        SPEC STEEL_KIND  PT_THK  PT_WDTH  PT_LTH  PT_WGT FUR_NO  \\\n",
       "0      0  AB/EH32-TM         T1   32.25     3707   15109   14180    1호기   \n",
       "1      0  AB/EH32-TM         T1   32.25     3707   15109   14180    1호기   \n",
       "2      0   NV-E36-TM         T8   33.27     3619   19181   18130    2호기   \n",
       "3      0   NV-E36-TM         T8   33.27     3619   19181   18130    2호기   \n",
       "4      0  BV-EH36-TM         T8   38.33     3098   13334   12430    3호기   \n",
       "\n",
       "   FUR_NO_ROW  FUR_HZ_TEMP  FUR_HZ_TIME  FUR_SZ_TIME  FUR_TIME  FUR_EXTEMP  \\\n",
       "0           1         1144          116           59       282        1133   \n",
       "1           2         1144          122           53       283        1135   \n",
       "2           1         1129          116           55       282        1121   \n",
       "3           2         1152          125           68       316        1127   \n",
       "4           1         1140          134           48       314        1128   \n",
       "\n",
       "   ROLLING_TEMP_T5 HSB  ROLLING_DESCALING WORK_GR SPEC.1  \n",
       "0              934  적용                  8      2조     AB  \n",
       "1              937  적용                  8      2조     AB  \n",
       "2              889  적용                  8      3조     NV  \n",
       "3              885  적용                  8      3조     NV  \n",
       "4              873  적용                  8      1조     BV  "
      ]
     },
     "execution_count": 39,
     "metadata": {},
     "output_type": "execute_result"
    }
   ],
   "source": [
    "df_raw.head()"
   ]
  },
  {
   "cell_type": "code",
   "execution_count": 40,
   "metadata": {},
   "outputs": [
    {
     "data": {
      "text/plain": [
       "0    489\n",
       "1    231\n",
       "Name: SCALE, dtype: int64"
      ]
     },
     "execution_count": 40,
     "metadata": {},
     "output_type": "execute_result"
    }
   ],
   "source": [
    "df_raw[\"SCALE\"].value_counts()"
   ]
  },
  {
   "cell_type": "code",
   "execution_count": 41,
   "metadata": {},
   "outputs": [],
   "source": [
    "df_raw[\"HSB\"] = np.where(df_raw[\"HSB\"] == \"적용\", 1, 0)"
   ]
  },
  {
   "cell_type": "code",
   "execution_count": 42,
   "metadata": {},
   "outputs": [
    {
     "data": {
      "text/html": [
       "<div>\n",
       "<style scoped>\n",
       "    .dataframe tbody tr th:only-of-type {\n",
       "        vertical-align: middle;\n",
       "    }\n",
       "\n",
       "    .dataframe tbody tr th {\n",
       "        vertical-align: top;\n",
       "    }\n",
       "\n",
       "    .dataframe thead th {\n",
       "        text-align: right;\n",
       "    }\n",
       "</style>\n",
       "<table border=\"1\" class=\"dataframe\">\n",
       "  <thead>\n",
       "    <tr style=\"text-align: right;\">\n",
       "      <th></th>\n",
       "      <th>SCALE</th>\n",
       "      <th>SPEC</th>\n",
       "      <th>STEEL_KIND</th>\n",
       "      <th>PT_THK</th>\n",
       "      <th>PT_WDTH</th>\n",
       "      <th>PT_LTH</th>\n",
       "      <th>PT_WGT</th>\n",
       "      <th>FUR_NO</th>\n",
       "      <th>FUR_NO_ROW</th>\n",
       "      <th>FUR_HZ_TEMP</th>\n",
       "      <th>FUR_HZ_TIME</th>\n",
       "      <th>FUR_SZ_TIME</th>\n",
       "      <th>FUR_TIME</th>\n",
       "      <th>FUR_EXTEMP</th>\n",
       "      <th>ROLLING_TEMP_T5</th>\n",
       "      <th>HSB</th>\n",
       "      <th>ROLLING_DESCALING</th>\n",
       "      <th>WORK_GR</th>\n",
       "      <th>SPEC.1</th>\n",
       "    </tr>\n",
       "  </thead>\n",
       "  <tbody>\n",
       "    <tr>\n",
       "      <th>0</th>\n",
       "      <td>0</td>\n",
       "      <td>AB/EH32-TM</td>\n",
       "      <td>T1</td>\n",
       "      <td>32.25</td>\n",
       "      <td>3707</td>\n",
       "      <td>15109</td>\n",
       "      <td>14180</td>\n",
       "      <td>1호기</td>\n",
       "      <td>1</td>\n",
       "      <td>1144</td>\n",
       "      <td>116</td>\n",
       "      <td>59</td>\n",
       "      <td>282</td>\n",
       "      <td>1133</td>\n",
       "      <td>934</td>\n",
       "      <td>1</td>\n",
       "      <td>8</td>\n",
       "      <td>2조</td>\n",
       "      <td>AB</td>\n",
       "    </tr>\n",
       "    <tr>\n",
       "      <th>1</th>\n",
       "      <td>0</td>\n",
       "      <td>AB/EH32-TM</td>\n",
       "      <td>T1</td>\n",
       "      <td>32.25</td>\n",
       "      <td>3707</td>\n",
       "      <td>15109</td>\n",
       "      <td>14180</td>\n",
       "      <td>1호기</td>\n",
       "      <td>2</td>\n",
       "      <td>1144</td>\n",
       "      <td>122</td>\n",
       "      <td>53</td>\n",
       "      <td>283</td>\n",
       "      <td>1135</td>\n",
       "      <td>937</td>\n",
       "      <td>1</td>\n",
       "      <td>8</td>\n",
       "      <td>2조</td>\n",
       "      <td>AB</td>\n",
       "    </tr>\n",
       "    <tr>\n",
       "      <th>2</th>\n",
       "      <td>0</td>\n",
       "      <td>NV-E36-TM</td>\n",
       "      <td>T8</td>\n",
       "      <td>33.27</td>\n",
       "      <td>3619</td>\n",
       "      <td>19181</td>\n",
       "      <td>18130</td>\n",
       "      <td>2호기</td>\n",
       "      <td>1</td>\n",
       "      <td>1129</td>\n",
       "      <td>116</td>\n",
       "      <td>55</td>\n",
       "      <td>282</td>\n",
       "      <td>1121</td>\n",
       "      <td>889</td>\n",
       "      <td>1</td>\n",
       "      <td>8</td>\n",
       "      <td>3조</td>\n",
       "      <td>NV</td>\n",
       "    </tr>\n",
       "    <tr>\n",
       "      <th>3</th>\n",
       "      <td>0</td>\n",
       "      <td>NV-E36-TM</td>\n",
       "      <td>T8</td>\n",
       "      <td>33.27</td>\n",
       "      <td>3619</td>\n",
       "      <td>19181</td>\n",
       "      <td>18130</td>\n",
       "      <td>2호기</td>\n",
       "      <td>2</td>\n",
       "      <td>1152</td>\n",
       "      <td>125</td>\n",
       "      <td>68</td>\n",
       "      <td>316</td>\n",
       "      <td>1127</td>\n",
       "      <td>885</td>\n",
       "      <td>1</td>\n",
       "      <td>8</td>\n",
       "      <td>3조</td>\n",
       "      <td>NV</td>\n",
       "    </tr>\n",
       "    <tr>\n",
       "      <th>4</th>\n",
       "      <td>0</td>\n",
       "      <td>BV-EH36-TM</td>\n",
       "      <td>T8</td>\n",
       "      <td>38.33</td>\n",
       "      <td>3098</td>\n",
       "      <td>13334</td>\n",
       "      <td>12430</td>\n",
       "      <td>3호기</td>\n",
       "      <td>1</td>\n",
       "      <td>1140</td>\n",
       "      <td>134</td>\n",
       "      <td>48</td>\n",
       "      <td>314</td>\n",
       "      <td>1128</td>\n",
       "      <td>873</td>\n",
       "      <td>1</td>\n",
       "      <td>8</td>\n",
       "      <td>1조</td>\n",
       "      <td>BV</td>\n",
       "    </tr>\n",
       "  </tbody>\n",
       "</table>\n",
       "</div>"
      ],
      "text/plain": [
       "   SCALE        SPEC STEEL_KIND  PT_THK  PT_WDTH  PT_LTH  PT_WGT FUR_NO  \\\n",
       "0      0  AB/EH32-TM         T1   32.25     3707   15109   14180    1호기   \n",
       "1      0  AB/EH32-TM         T1   32.25     3707   15109   14180    1호기   \n",
       "2      0   NV-E36-TM         T8   33.27     3619   19181   18130    2호기   \n",
       "3      0   NV-E36-TM         T8   33.27     3619   19181   18130    2호기   \n",
       "4      0  BV-EH36-TM         T8   38.33     3098   13334   12430    3호기   \n",
       "\n",
       "   FUR_NO_ROW  FUR_HZ_TEMP  FUR_HZ_TIME  FUR_SZ_TIME  FUR_TIME  FUR_EXTEMP  \\\n",
       "0           1         1144          116           59       282        1133   \n",
       "1           2         1144          122           53       283        1135   \n",
       "2           1         1129          116           55       282        1121   \n",
       "3           2         1152          125           68       316        1127   \n",
       "4           1         1140          134           48       314        1128   \n",
       "\n",
       "   ROLLING_TEMP_T5  HSB  ROLLING_DESCALING WORK_GR SPEC.1  \n",
       "0              934    1                  8      2조     AB  \n",
       "1              937    1                  8      2조     AB  \n",
       "2              889    1                  8      3조     NV  \n",
       "3              885    1                  8      3조     NV  \n",
       "4              873    1                  8      1조     BV  "
      ]
     },
     "execution_count": 42,
     "metadata": {},
     "output_type": "execute_result"
    }
   ],
   "source": [
    "df_raw.head()"
   ]
  },
  {
   "cell_type": "code",
   "execution_count": 14,
   "metadata": {},
   "outputs": [
    {
     "data": {
      "text/plain": [
       "1    687\n",
       "0     33\n",
       "Name: HSB, dtype: int64"
      ]
     },
     "execution_count": 14,
     "metadata": {},
     "output_type": "execute_result"
    }
   ],
   "source": [
    "df_raw[\"HSB\"].value_counts()"
   ]
  },
  {
   "cell_type": "code",
   "execution_count": 15,
   "metadata": {},
   "outputs": [
    {
     "name": "stdout",
     "output_type": "stream",
     "text": [
      "SPEC : 66\n",
      "STEEL_KIND : 9\n",
      "FUR_NO : 3\n",
      "WORK_GR : 4\n",
      "SPEC.1 : 16\n"
     ]
    }
   ],
   "source": [
    "obj_cols = df_raw.select_dtypes(\"object\").columns\n",
    "for col in obj_cols:\n",
    "    _n = len(df_raw[col].value_counts())\n",
    "    print(col, \":\", str(_n))"
   ]
  },
  {
   "cell_type": "code",
   "execution_count": 32,
   "metadata": {},
   "outputs": [],
   "source": [
    "df_raw_spec = df_raw[\"SPEC\"]"
   ]
  },
  {
   "cell_type": "code",
   "execution_count": 33,
   "metadata": {},
   "outputs": [],
   "source": [
    "df_raw = df_raw.drop([\"SPEC\"], axis = 1)"
   ]
  },
  {
   "cell_type": "code",
   "execution_count": 12,
   "metadata": {},
   "outputs": [
    {
     "data": {
      "text/plain": [
       "<matplotlib.axes._subplots.AxesSubplot at 0x7fe97e4d1f28>"
      ]
     },
     "execution_count": 12,
     "metadata": {},
     "output_type": "execute_result"
    },
    {
     "data": {
      "image/png": "[encoded data removed]",
      "text/plain": [
       "<Figure size 432x288 with 1 Axes>"
      ]
     },
     "metadata": {},
     "output_type": "display_data"
    }
   ],
   "source": [
    "df_count = df_raw[\"SCALE\"].value_counts()\n",
    "df_count.plot.pie()"
   ]
  },
  {
   "cell_type": "code",
   "execution_count": 13,
   "metadata": {},
   "outputs": [
    {
     "data": {
      "text/plain": [
       "양품    489\n",
       "불량    231\n",
       "Name: SCALE, dtype: int64"
      ]
     },
     "execution_count": 13,
     "metadata": {},
     "output_type": "execute_result"
    }
   ],
   "source": [
    "df_count"
   ]
  },
  {
   "cell_type": "code",
   "execution_count": 15,
   "metadata": {},
   "outputs": [
    {
     "data": {
      "text/plain": [
       "0.3208333333333333"
      ]
     },
     "execution_count": 15,
     "metadata": {},
     "output_type": "execute_result"
    }
   ],
   "source": [
    "1 - (489 / (489+231))"
   ]
  },
  {
   "cell_type": "code",
   "execution_count": 35,
   "metadata": {
    "scrolled": true
   },
   "outputs": [
    {
     "data": {
      "text/plain": [
       "<matplotlib.axes._subplots.AxesSubplot at 0x7feba6ae5c88>"
      ]
     },
     "execution_count": 35,
     "metadata": {},
     "output_type": "execute_result"
    },
    {
     "data": {
      "image/png": "[encoded data removed]",
      "text/plain": [
       "<Figure size 432x288 with 1 Axes>"
      ]
     },
     "metadata": {},
     "output_type": "display_data"
    }
   ],
   "source": [
    "df_count = df_raw[\"STEEL_KIND\"].value_counts()\n",
    "df_count.sort_index(inplace=True);\n",
    "df_count.plot.pie()"
   ]
  },
  {
   "cell_type": "markdown",
   "metadata": {},
   "source": [
    "### 가설 설정"
   ]
  },
  {
   "cell_type": "code",
   "execution_count": 44,
   "metadata": {},
   "outputs": [
    {
     "name": "stdout",
     "output_type": "stream",
     "text": [
      "HELLO\n"
     ]
    }
   ],
   "source": [
    "print(\"HELLO\")"
   ]
  },
  {
   "cell_type": "markdown",
   "metadata": {},
   "source": [
    "#### Steel 종류별로 평균의 차이가 날까?"
   ]
  },
  {
   "cell_type": "code",
   "execution_count": 75,
   "metadata": {},
   "outputs": [],
   "source": [
    "# Steel 종류별로 평균의 차이가 날까?"
   ]
  },
  {
   "cell_type": "code",
   "execution_count": 93,
   "metadata": {},
   "outputs": [],
   "source": [
    "a = df_raw.groupby([\"STEEL_KIND\", \"SCALE\"])[\"SCALE\"].value_counts()"
   ]
  },
  {
   "cell_type": "code",
   "execution_count": 74,
   "metadata": {},
   "outputs": [
    {
     "data": {
      "text/plain": [
       "<matplotlib.axes._subplots.AxesSubplot at 0x7feb9db29470>"
      ]
     },
     "execution_count": 74,
     "metadata": {},
     "output_type": "execute_result"
    },
    {
     "data": {
      "image/png": "[encoded data removed]",
      "text/plain": [
       "<Figure size 432x288 with 1 Axes>"
      ]
     },
     "metadata": {
      "needs_background": "light"
     },
     "output_type": "display_data"
    }
   ],
   "source": [
    "a.plot.bar()"
   ]
  },
  {
   "cell_type": "code",
   "execution_count": 85,
   "metadata": {},
   "outputs": [],
   "source": [
    "a = df_raw.groupby([\"STEEL_KIND\", \"SCALE\"])[\"SCALE\"].mean()"
   ]
  },
  {
   "cell_type": "code",
   "execution_count": 86,
   "metadata": {},
   "outputs": [
    {
     "data": {
      "text/plain": [
       "<matplotlib.axes._subplots.AxesSubplot at 0x7feb9daa34a8>"
      ]
     },
     "execution_count": 86,
     "metadata": {},
     "output_type": "execute_result"
    },
    {
     "data": {
      "image/png": "[encoded data removed]",
      "text/plain": [
       "<Figure size 432x288 with 1 Axes>"
      ]
     },
     "metadata": {
      "needs_background": "light"
     },
     "output_type": "display_data"
    }
   ],
   "source": [
    "a.plot.bar()"
   ]
  },
  {
   "cell_type": "code",
   "execution_count": 87,
   "metadata": {},
   "outputs": [],
   "source": [
    "a = df_raw.groupby([\"STEEL_KIND\"])[\"SCALE\"].value_counts()"
   ]
  },
  {
   "cell_type": "code",
   "execution_count": 88,
   "metadata": {},
   "outputs": [
    {
     "data": {
      "text/plain": [
       "STEEL_KIND  SCALE\n",
       "C0          0        291\n",
       "            1        212\n",
       "C1          1          1\n",
       "C3          0          6\n",
       "            1          1\n",
       "T0          0         14\n",
       "            1          2\n",
       "T1          0         16\n",
       "            1          2\n",
       "T3          0          2\n",
       "T5          0         41\n",
       "            1          2\n",
       "T7          0         29\n",
       "            1          6\n",
       "T8          0         90\n",
       "            1          5\n",
       "Name: SCALE, dtype: int64"
      ]
     },
     "execution_count": 88,
     "metadata": {},
     "output_type": "execute_result"
    }
   ],
   "source": [
    "a"
   ]
  },
  {
   "cell_type": "code",
   "execution_count": 89,
   "metadata": {},
   "outputs": [
    {
     "data": {
      "text/plain": [
       "<matplotlib.axes._subplots.AxesSubplot at 0x7feb9d950048>"
      ]
     },
     "execution_count": 89,
     "metadata": {},
     "output_type": "execute_result"
    },
    {
     "data": {
      "image/png": "[encoded data removed]",
      "text/plain": [
       "<Figure size 432x288 with 1 Axes>"
      ]
     },
     "metadata": {
      "needs_background": "light"
     },
     "output_type": "display_data"
    }
   ],
   "source": [
    "a.plot.bar()"
   ]
  },
  {
   "cell_type": "code",
   "execution_count": 90,
   "metadata": {},
   "outputs": [],
   "source": [
    "a = df_raw.groupby([\"STEEL_KIND\"])[\"SCALE\"].mean()"
   ]
  },
  {
   "cell_type": "code",
   "execution_count": 91,
   "metadata": {},
   "outputs": [
    {
     "data": {
      "text/plain": [
       "STEEL_KIND\n",
       "C0    0.421471\n",
       "C1    1.000000\n",
       "C3    0.142857\n",
       "T0    0.125000\n",
       "T1    0.111111\n",
       "T3    0.000000\n",
       "T5    0.046512\n",
       "T7    0.171429\n",
       "T8    0.052632\n",
       "Name: SCALE, dtype: float64"
      ]
     },
     "execution_count": 91,
     "metadata": {},
     "output_type": "execute_result"
    }
   ],
   "source": [
    "a"
   ]
  },
  {
   "cell_type": "code",
   "execution_count": 92,
   "metadata": {},
   "outputs": [
    {
     "data": {
      "text/plain": [
       "<matplotlib.axes._subplots.AxesSubplot at 0x7feb9dd4cc18>"
      ]
     },
     "execution_count": 92,
     "metadata": {},
     "output_type": "execute_result"
    },
    {
     "data": {
      "image/png": "[encoded data removed]",
      "text/plain": [
       "<Figure size 432x288 with 1 Axes>"
      ]
     },
     "metadata": {
      "needs_background": "light"
     },
     "output_type": "display_data"
    }
   ],
   "source": [
    "a.plot.bar()"
   ]
  },
  {
   "cell_type": "markdown",
   "metadata": {},
   "source": [
    "#### Spec_modified (목적별) 강재가 영향을 줄까?"
   ]
  },
  {
   "cell_type": "code",
   "execution_count": 96,
   "metadata": {},
   "outputs": [
    {
     "data": {
      "image/png": "[encoded data removed]",
      "text/plain": [
       "<Figure size 432x288 with 1 Axes>"
      ]
     },
     "metadata": {
      "needs_background": "light"
     },
     "output_type": "display_data"
    }
   ],
   "source": [
    "spec_modified_value = df_raw.groupby([\"SPEC.1\"])[\"SCALE\"].value_counts().plot.bar()"
   ]
  },
  {
   "cell_type": "code",
   "execution_count": 98,
   "metadata": {},
   "outputs": [
    {
     "data": {
      "image/png": "[encoded data removed]",
      "text/plain": [
       "<Figure size 432x288 with 1 Axes>"
      ]
     },
     "metadata": {
      "needs_background": "light"
     },
     "output_type": "display_data"
    }
   ],
   "source": [
    "a = df_raw.groupby([\"SPEC.1\"])[\"SCALE\"].mean().plot.bar()"
   ]
  },
  {
   "cell_type": "markdown",
   "metadata": {},
   "source": [
    "#### 잠재적 인자 확인"
   ]
  },
  {
   "cell_type": "raw",
   "metadata": {},
   "source": [
    "온도 (연속형) 4개 == 상관관계 존재?\n",
    "HSB 이산분산분석\n"
   ]
  },
  {
   "cell_type": "code",
   "execution_count": 18,
   "metadata": {},
   "outputs": [
    {
     "data": {
      "text/html": [
       "<div>\n",
       "<style scoped>\n",
       "    .dataframe tbody tr th:only-of-type {\n",
       "        vertical-align: middle;\n",
       "    }\n",
       "\n",
       "    .dataframe tbody tr th {\n",
       "        vertical-align: top;\n",
       "    }\n",
       "\n",
       "    .dataframe thead th {\n",
       "        text-align: right;\n",
       "    }\n",
       "</style>\n",
       "<table border=\"1\" class=\"dataframe\">\n",
       "  <thead>\n",
       "    <tr style=\"text-align: right;\">\n",
       "      <th></th>\n",
       "      <th>PLATE_NO</th>\n",
       "      <th>ROLLING_DATE</th>\n",
       "      <th>SCALE</th>\n",
       "      <th>SPEC</th>\n",
       "      <th>STEEL_KIND</th>\n",
       "      <th>PT_THK</th>\n",
       "      <th>PT_WDTH</th>\n",
       "      <th>PT_LTH</th>\n",
       "      <th>PT_WGT</th>\n",
       "      <th>FUR_NO</th>\n",
       "      <th>...</th>\n",
       "      <th>FUR_HZ_TIME</th>\n",
       "      <th>FUR_SZ_TEMP</th>\n",
       "      <th>FUR_SZ_TIME</th>\n",
       "      <th>FUR_TIME</th>\n",
       "      <th>FUR_EXTEMP</th>\n",
       "      <th>ROLLING_TEMP_T5</th>\n",
       "      <th>HSB</th>\n",
       "      <th>ROLLING_DESCALING</th>\n",
       "      <th>WORK_GR</th>\n",
       "      <th>SPEC.1</th>\n",
       "    </tr>\n",
       "  </thead>\n",
       "  <tbody>\n",
       "    <tr>\n",
       "      <th>0</th>\n",
       "      <td>PB562774</td>\n",
       "      <td>2008-08-01:00:00:15</td>\n",
       "      <td>양품</td>\n",
       "      <td>AB/EH32-TM</td>\n",
       "      <td>T1</td>\n",
       "      <td>32.25</td>\n",
       "      <td>3707</td>\n",
       "      <td>15109</td>\n",
       "      <td>14180</td>\n",
       "      <td>1호기</td>\n",
       "      <td>...</td>\n",
       "      <td>116</td>\n",
       "      <td>1133</td>\n",
       "      <td>59</td>\n",
       "      <td>282</td>\n",
       "      <td>1133</td>\n",
       "      <td>934</td>\n",
       "      <td>적용</td>\n",
       "      <td>8</td>\n",
       "      <td>2조</td>\n",
       "      <td>AB</td>\n",
       "    </tr>\n",
       "    <tr>\n",
       "      <th>1</th>\n",
       "      <td>PB562775</td>\n",
       "      <td>2008-08-01:00:00:16</td>\n",
       "      <td>양품</td>\n",
       "      <td>AB/EH32-TM</td>\n",
       "      <td>T1</td>\n",
       "      <td>32.25</td>\n",
       "      <td>3707</td>\n",
       "      <td>15109</td>\n",
       "      <td>14180</td>\n",
       "      <td>1호기</td>\n",
       "      <td>...</td>\n",
       "      <td>122</td>\n",
       "      <td>1135</td>\n",
       "      <td>53</td>\n",
       "      <td>283</td>\n",
       "      <td>1135</td>\n",
       "      <td>937</td>\n",
       "      <td>적용</td>\n",
       "      <td>8</td>\n",
       "      <td>2조</td>\n",
       "      <td>AB</td>\n",
       "    </tr>\n",
       "    <tr>\n",
       "      <th>2</th>\n",
       "      <td>PB562776</td>\n",
       "      <td>2008-08-01:00:00:59</td>\n",
       "      <td>양품</td>\n",
       "      <td>NV-E36-TM</td>\n",
       "      <td>T8</td>\n",
       "      <td>33.27</td>\n",
       "      <td>3619</td>\n",
       "      <td>19181</td>\n",
       "      <td>18130</td>\n",
       "      <td>2호기</td>\n",
       "      <td>...</td>\n",
       "      <td>116</td>\n",
       "      <td>1121</td>\n",
       "      <td>55</td>\n",
       "      <td>282</td>\n",
       "      <td>1121</td>\n",
       "      <td>889</td>\n",
       "      <td>적용</td>\n",
       "      <td>8</td>\n",
       "      <td>3조</td>\n",
       "      <td>NV</td>\n",
       "    </tr>\n",
       "    <tr>\n",
       "      <th>3</th>\n",
       "      <td>PB562777</td>\n",
       "      <td>2008-08-01:00:01:24</td>\n",
       "      <td>양품</td>\n",
       "      <td>NV-E36-TM</td>\n",
       "      <td>T8</td>\n",
       "      <td>33.27</td>\n",
       "      <td>3619</td>\n",
       "      <td>19181</td>\n",
       "      <td>18130</td>\n",
       "      <td>2호기</td>\n",
       "      <td>...</td>\n",
       "      <td>125</td>\n",
       "      <td>1127</td>\n",
       "      <td>68</td>\n",
       "      <td>316</td>\n",
       "      <td>1127</td>\n",
       "      <td>885</td>\n",
       "      <td>적용</td>\n",
       "      <td>8</td>\n",
       "      <td>3조</td>\n",
       "      <td>NV</td>\n",
       "    </tr>\n",
       "    <tr>\n",
       "      <th>4</th>\n",
       "      <td>PB562778</td>\n",
       "      <td>2008-08-01:00:01:44</td>\n",
       "      <td>양품</td>\n",
       "      <td>BV-EH36-TM</td>\n",
       "      <td>T8</td>\n",
       "      <td>38.33</td>\n",
       "      <td>3098</td>\n",
       "      <td>13334</td>\n",
       "      <td>12430</td>\n",
       "      <td>3호기</td>\n",
       "      <td>...</td>\n",
       "      <td>134</td>\n",
       "      <td>1128</td>\n",
       "      <td>48</td>\n",
       "      <td>314</td>\n",
       "      <td>1128</td>\n",
       "      <td>873</td>\n",
       "      <td>적용</td>\n",
       "      <td>8</td>\n",
       "      <td>1조</td>\n",
       "      <td>BV</td>\n",
       "    </tr>\n",
       "  </tbody>\n",
       "</table>\n",
       "<p>5 rows × 22 columns</p>\n",
       "</div>"
      ],
      "text/plain": [
       "   PLATE_NO         ROLLING_DATE SCALE        SPEC STEEL_KIND  PT_THK  \\\n",
       "0  PB562774  2008-08-01:00:00:15    양품  AB/EH32-TM         T1   32.25   \n",
       "1  PB562775  2008-08-01:00:00:16    양품  AB/EH32-TM         T1   32.25   \n",
       "2  PB562776  2008-08-01:00:00:59    양품   NV-E36-TM         T8   33.27   \n",
       "3  PB562777  2008-08-01:00:01:24    양품   NV-E36-TM         T8   33.27   \n",
       "4  PB562778  2008-08-01:00:01:44    양품  BV-EH36-TM         T8   38.33   \n",
       "\n",
       "   PT_WDTH  PT_LTH  PT_WGT FUR_NO  ...  FUR_HZ_TIME  FUR_SZ_TEMP  FUR_SZ_TIME  \\\n",
       "0     3707   15109   14180    1호기  ...          116         1133           59   \n",
       "1     3707   15109   14180    1호기  ...          122         1135           53   \n",
       "2     3619   19181   18130    2호기  ...          116         1121           55   \n",
       "3     3619   19181   18130    2호기  ...          125         1127           68   \n",
       "4     3098   13334   12430    3호기  ...          134         1128           48   \n",
       "\n",
       "   FUR_TIME  FUR_EXTEMP  ROLLING_TEMP_T5  HSB  ROLLING_DESCALING WORK_GR  \\\n",
       "0       282        1133              934   적용                  8      2조   \n",
       "1       283        1135              937   적용                  8      2조   \n",
       "2       282        1121              889   적용                  8      3조   \n",
       "3       316        1127              885   적용                  8      3조   \n",
       "4       314        1128              873   적용                  8      1조   \n",
       "\n",
       "   SPEC.1  \n",
       "0      AB  \n",
       "1      AB  \n",
       "2      NV  \n",
       "3      NV  \n",
       "4      BV  \n",
       "\n",
       "[5 rows x 22 columns]"
      ]
     },
     "execution_count": 18,
     "metadata": {},
     "output_type": "execute_result"
    }
   ],
   "source": [
    "df_raw.head()"
   ]
  },
  {
   "cell_type": "code",
   "execution_count": 17,
   "metadata": {},
   "outputs": [
    {
     "data": {
      "image/png": "[encoded data removed]",
      "text/plain": [
       "<Figure size 1440x1440 with 2 Axes>"
      ]
     },
     "metadata": {
      "needs_background": "light"
     },
     "output_type": "display_data"
    }
   ],
   "source": [
    "plt.figure(figsize=(20,20))\n",
    "sns.heatmap(df_raw.corr(), cmap='coolwarm', annot=True);\n",
    "\n"
   ]
  },
  {
   "cell_type": "code",
   "execution_count": 106,
   "metadata": {},
   "outputs": [],
   "source": [
    "df_temps = pd.DataFrame()\n",
    "for temps in df_raw:\n",
    "    if \"TEMP\" in temps:\n",
    "        df_temps[temps] = df_raw[temps]\n",
    "        \n",
    "df_temps[\"SCALE\"] = df_raw[\"SCALE\"]"
   ]
  },
  {
   "cell_type": "code",
   "execution_count": 107,
   "metadata": {},
   "outputs": [
    {
     "data": {
      "text/html": [
       "<div>\n",
       "<style scoped>\n",
       "    .dataframe tbody tr th:only-of-type {\n",
       "        vertical-align: middle;\n",
       "    }\n",
       "\n",
       "    .dataframe tbody tr th {\n",
       "        vertical-align: top;\n",
       "    }\n",
       "\n",
       "    .dataframe thead th {\n",
       "        text-align: right;\n",
       "    }\n",
       "</style>\n",
       "<table border=\"1\" class=\"dataframe\">\n",
       "  <thead>\n",
       "    <tr style=\"text-align: right;\">\n",
       "      <th></th>\n",
       "      <th>FUR_HZ_TEMP</th>\n",
       "      <th>FUR_EXTEMP</th>\n",
       "      <th>ROLLING_TEMP_T5</th>\n",
       "      <th>SCALE</th>\n",
       "    </tr>\n",
       "  </thead>\n",
       "  <tbody>\n",
       "    <tr>\n",
       "      <th>FUR_HZ_TEMP</th>\n",
       "      <td>1.000000</td>\n",
       "      <td>0.772907</td>\n",
       "      <td>0.265310</td>\n",
       "      <td>0.247670</td>\n",
       "    </tr>\n",
       "    <tr>\n",
       "      <th>FUR_EXTEMP</th>\n",
       "      <td>0.772907</td>\n",
       "      <td>1.000000</td>\n",
       "      <td>0.452297</td>\n",
       "      <td>0.374809</td>\n",
       "    </tr>\n",
       "    <tr>\n",
       "      <th>ROLLING_TEMP_T5</th>\n",
       "      <td>0.265310</td>\n",
       "      <td>0.452297</td>\n",
       "      <td>1.000000</td>\n",
       "      <td>0.384967</td>\n",
       "    </tr>\n",
       "    <tr>\n",
       "      <th>SCALE</th>\n",
       "      <td>0.247670</td>\n",
       "      <td>0.374809</td>\n",
       "      <td>0.384967</td>\n",
       "      <td>1.000000</td>\n",
       "    </tr>\n",
       "  </tbody>\n",
       "</table>\n",
       "</div>"
      ],
      "text/plain": [
       "                 FUR_HZ_TEMP  FUR_EXTEMP  ROLLING_TEMP_T5     SCALE\n",
       "FUR_HZ_TEMP         1.000000    0.772907         0.265310  0.247670\n",
       "FUR_EXTEMP          0.772907    1.000000         0.452297  0.374809\n",
       "ROLLING_TEMP_T5     0.265310    0.452297         1.000000  0.384967\n",
       "SCALE               0.247670    0.374809         0.384967  1.000000"
      ]
     },
     "execution_count": 107,
     "metadata": {},
     "output_type": "execute_result"
    }
   ],
   "source": [
    "df_temps.corr()"
   ]
  },
  {
   "cell_type": "code",
   "execution_count": 19,
   "metadata": {},
   "outputs": [],
   "source": [
    "import pandas as pd\n",
    "import numpy as np\n",
    "\n",
    "import matplotlib.pyplot as plt\n",
    "import matplotlib\n",
    "\n",
    "from sklearn.preprocessing import StandardScaler as sds\n",
    "from sklearn.model_selection import train_test_split\n",
    "from statsmodels.api import Logit\n",
    "from sklearn.metrics import accuracy_score\n",
    "from sklearn.metrics import confusion_matrix\n"
   ]
  },
  {
   "cell_type": "code",
   "execution_count": 20,
   "metadata": {},
   "outputs": [
    {
     "data": {
      "text/html": [
       "<div>\n",
       "<style scoped>\n",
       "    .dataframe tbody tr th:only-of-type {\n",
       "        vertical-align: middle;\n",
       "    }\n",
       "\n",
       "    .dataframe tbody tr th {\n",
       "        vertical-align: top;\n",
       "    }\n",
       "\n",
       "    .dataframe thead th {\n",
       "        text-align: right;\n",
       "    }\n",
       "</style>\n",
       "<table border=\"1\" class=\"dataframe\">\n",
       "  <thead>\n",
       "    <tr style=\"text-align: right;\">\n",
       "      <th></th>\n",
       "      <th>SCALE</th>\n",
       "      <th>SPEC</th>\n",
       "      <th>STEEL_KIND</th>\n",
       "      <th>PT_THK</th>\n",
       "      <th>PT_WDTH</th>\n",
       "      <th>PT_LTH</th>\n",
       "      <th>PT_WGT</th>\n",
       "      <th>FUR_NO</th>\n",
       "      <th>FUR_NO_ROW</th>\n",
       "      <th>FUR_HZ_TEMP</th>\n",
       "      <th>FUR_HZ_TIME</th>\n",
       "      <th>FUR_SZ_TIME</th>\n",
       "      <th>FUR_TIME</th>\n",
       "      <th>FUR_EXTEMP</th>\n",
       "      <th>ROLLING_TEMP_T5</th>\n",
       "      <th>HSB</th>\n",
       "      <th>ROLLING_DESCALING</th>\n",
       "      <th>WORK_GR</th>\n",
       "      <th>SPEC.1</th>\n",
       "    </tr>\n",
       "  </thead>\n",
       "  <tbody>\n",
       "    <tr>\n",
       "      <th>0</th>\n",
       "      <td>0</td>\n",
       "      <td>AB/EH32-TM</td>\n",
       "      <td>T1</td>\n",
       "      <td>32.25</td>\n",
       "      <td>3707</td>\n",
       "      <td>15109</td>\n",
       "      <td>14180</td>\n",
       "      <td>1호기</td>\n",
       "      <td>1</td>\n",
       "      <td>1144</td>\n",
       "      <td>116</td>\n",
       "      <td>59</td>\n",
       "      <td>282</td>\n",
       "      <td>1133</td>\n",
       "      <td>934</td>\n",
       "      <td>1</td>\n",
       "      <td>8</td>\n",
       "      <td>2조</td>\n",
       "      <td>AB</td>\n",
       "    </tr>\n",
       "    <tr>\n",
       "      <th>1</th>\n",
       "      <td>0</td>\n",
       "      <td>AB/EH32-TM</td>\n",
       "      <td>T1</td>\n",
       "      <td>32.25</td>\n",
       "      <td>3707</td>\n",
       "      <td>15109</td>\n",
       "      <td>14180</td>\n",
       "      <td>1호기</td>\n",
       "      <td>2</td>\n",
       "      <td>1144</td>\n",
       "      <td>122</td>\n",
       "      <td>53</td>\n",
       "      <td>283</td>\n",
       "      <td>1135</td>\n",
       "      <td>937</td>\n",
       "      <td>1</td>\n",
       "      <td>8</td>\n",
       "      <td>2조</td>\n",
       "      <td>AB</td>\n",
       "    </tr>\n",
       "    <tr>\n",
       "      <th>2</th>\n",
       "      <td>0</td>\n",
       "      <td>NV-E36-TM</td>\n",
       "      <td>T8</td>\n",
       "      <td>33.27</td>\n",
       "      <td>3619</td>\n",
       "      <td>19181</td>\n",
       "      <td>18130</td>\n",
       "      <td>2호기</td>\n",
       "      <td>1</td>\n",
       "      <td>1129</td>\n",
       "      <td>116</td>\n",
       "      <td>55</td>\n",
       "      <td>282</td>\n",
       "      <td>1121</td>\n",
       "      <td>889</td>\n",
       "      <td>1</td>\n",
       "      <td>8</td>\n",
       "      <td>3조</td>\n",
       "      <td>NV</td>\n",
       "    </tr>\n",
       "    <tr>\n",
       "      <th>3</th>\n",
       "      <td>0</td>\n",
       "      <td>NV-E36-TM</td>\n",
       "      <td>T8</td>\n",
       "      <td>33.27</td>\n",
       "      <td>3619</td>\n",
       "      <td>19181</td>\n",
       "      <td>18130</td>\n",
       "      <td>2호기</td>\n",
       "      <td>2</td>\n",
       "      <td>1152</td>\n",
       "      <td>125</td>\n",
       "      <td>68</td>\n",
       "      <td>316</td>\n",
       "      <td>1127</td>\n",
       "      <td>885</td>\n",
       "      <td>1</td>\n",
       "      <td>8</td>\n",
       "      <td>3조</td>\n",
       "      <td>NV</td>\n",
       "    </tr>\n",
       "    <tr>\n",
       "      <th>4</th>\n",
       "      <td>0</td>\n",
       "      <td>BV-EH36-TM</td>\n",
       "      <td>T8</td>\n",
       "      <td>38.33</td>\n",
       "      <td>3098</td>\n",
       "      <td>13334</td>\n",
       "      <td>12430</td>\n",
       "      <td>3호기</td>\n",
       "      <td>1</td>\n",
       "      <td>1140</td>\n",
       "      <td>134</td>\n",
       "      <td>48</td>\n",
       "      <td>314</td>\n",
       "      <td>1128</td>\n",
       "      <td>873</td>\n",
       "      <td>1</td>\n",
       "      <td>8</td>\n",
       "      <td>1조</td>\n",
       "      <td>BV</td>\n",
       "    </tr>\n",
       "  </tbody>\n",
       "</table>\n",
       "</div>"
      ],
      "text/plain": [
       "   SCALE        SPEC STEEL_KIND  PT_THK  PT_WDTH  PT_LTH  PT_WGT FUR_NO  \\\n",
       "0      0  AB/EH32-TM         T1   32.25     3707   15109   14180    1호기   \n",
       "1      0  AB/EH32-TM         T1   32.25     3707   15109   14180    1호기   \n",
       "2      0   NV-E36-TM         T8   33.27     3619   19181   18130    2호기   \n",
       "3      0   NV-E36-TM         T8   33.27     3619   19181   18130    2호기   \n",
       "4      0  BV-EH36-TM         T8   38.33     3098   13334   12430    3호기   \n",
       "\n",
       "   FUR_NO_ROW  FUR_HZ_TEMP  FUR_HZ_TIME  FUR_SZ_TIME  FUR_TIME  FUR_EXTEMP  \\\n",
       "0           1         1144          116           59       282        1133   \n",
       "1           2         1144          122           53       283        1135   \n",
       "2           1         1129          116           55       282        1121   \n",
       "3           2         1152          125           68       316        1127   \n",
       "4           1         1140          134           48       314        1128   \n",
       "\n",
       "   ROLLING_TEMP_T5  HSB  ROLLING_DESCALING WORK_GR SPEC.1  \n",
       "0              934    1                  8      2조     AB  \n",
       "1              937    1                  8      2조     AB  \n",
       "2              889    1                  8      3조     NV  \n",
       "3              885    1                  8      3조     NV  \n",
       "4              873    1                  8      1조     BV  "
      ]
     },
     "execution_count": 20,
     "metadata": {},
     "output_type": "execute_result"
    }
   ],
   "source": [
    "df_raw.head()"
   ]
  },
  {
   "cell_type": "code",
   "execution_count": 47,
   "metadata": {},
   "outputs": [
    {
     "name": "stdout",
     "output_type": "stream",
     "text": [
      "train data size\t: (504, 19)\n",
      "test data size\t: (216, 19)\n"
     ]
    }
   ],
   "source": [
    "df_train, df_test = train_test_split(df_raw, test_size = 0.3, random_state = 1234)\n",
    "print(\"train data size\\t: {}\".format(df_train.shape))\n",
    "print(\"test data size\\t: {}\".format(df_test.shape))"
   ]
  },
  {
   "cell_type": "code",
   "execution_count": 46,
   "metadata": {},
   "outputs": [
    {
     "ename": "PatsyError",
     "evalue": "Error evaluating factor: NameError: name 'FUR_SZ_TEMP' is not defined\n    SCALE ~ FUR_HZ_TEMP + FUR_SZ_TEMP\n                          ^^^^^^^^^^^",
     "output_type": "error",
     "traceback": [
      "\u001b[0;31m---------------------------------------------------------------------------\u001b[0m",
      "\u001b[0;31mNameError\u001b[0m                                 Traceback (most recent call last)",
      "\u001b[0;32m~/anaconda3/lib/python3.7/site-packages/patsy/compat.py\u001b[0m in \u001b[0;36mcall_and_wrap_exc\u001b[0;34m(msg, origin, f, *args, **kwargs)\u001b[0m\n\u001b[1;32m     35\u001b[0m     \u001b[0;32mtry\u001b[0m\u001b[0;34m:\u001b[0m\u001b[0;34m\u001b[0m\u001b[0;34m\u001b[0m\u001b[0m\n\u001b[0;32m---> 36\u001b[0;31m         \u001b[0;32mreturn\u001b[0m \u001b[0mf\u001b[0m\u001b[0;34m(\u001b[0m\u001b[0;34m*\u001b[0m\u001b[0margs\u001b[0m\u001b[0;34m,\u001b[0m \u001b[0;34m**\u001b[0m\u001b[0mkwargs\u001b[0m\u001b[0;34m)\u001b[0m\u001b[0;34m\u001b[0m\u001b[0;34m\u001b[0m\u001b[0m\n\u001b[0m\u001b[1;32m     37\u001b[0m     \u001b[0;32mexcept\u001b[0m \u001b[0mException\u001b[0m \u001b[0;32mas\u001b[0m \u001b[0me\u001b[0m\u001b[0;34m:\u001b[0m\u001b[0;34m\u001b[0m\u001b[0;34m\u001b[0m\u001b[0m\n",
      "\u001b[0;32m~/anaconda3/lib/python3.7/site-packages/patsy/eval.py\u001b[0m in \u001b[0;36meval\u001b[0;34m(self, expr, source_name, inner_namespace)\u001b[0m\n\u001b[1;32m    165\u001b[0m         return eval(code, {}, VarLookupDict([inner_namespace]\n\u001b[0;32m--> 166\u001b[0;31m                                             + self._namespaces))\n\u001b[0m\u001b[1;32m    167\u001b[0m \u001b[0;34m\u001b[0m\u001b[0m\n",
      "\u001b[0;32m<string>\u001b[0m in \u001b[0;36m<module>\u001b[0;34m\u001b[0m\n",
      "\u001b[0;31mNameError\u001b[0m: name 'FUR_SZ_TEMP' is not defined",
      "\nThe above exception was the direct cause of the following exception:\n",
      "\u001b[0;31mPatsyError\u001b[0m                                Traceback (most recent call last)",
      "\u001b[0;32m<ipython-input-46-002ea5018a69>\u001b[0m in \u001b[0;36m<module>\u001b[0;34m\u001b[0m\n\u001b[0;32m----> 1\u001b[0;31m \u001b[0mlog_model\u001b[0m \u001b[0;34m=\u001b[0m \u001b[0mLogit\u001b[0m\u001b[0;34m.\u001b[0m\u001b[0mfrom_formula\u001b[0m\u001b[0;34m(\u001b[0m\u001b[0;34m\"SCALE ~ FUR_HZ_TEMP + FUR_SZ_TEMP\"\u001b[0m\u001b[0;34m,\u001b[0m  \u001b[0mdf_train\u001b[0m\u001b[0;34m)\u001b[0m\u001b[0;34m\u001b[0m\u001b[0;34m\u001b[0m\u001b[0m\n\u001b[0m\u001b[1;32m      2\u001b[0m \u001b[0mlog_result\u001b[0m \u001b[0;34m=\u001b[0m \u001b[0mlog_model\u001b[0m\u001b[0;34m.\u001b[0m\u001b[0mfit\u001b[0m\u001b[0;34m(\u001b[0m\u001b[0;34m)\u001b[0m\u001b[0;34m\u001b[0m\u001b[0;34m\u001b[0m\u001b[0m\n",
      "\u001b[0;32m~/anaconda3/lib/python3.7/site-packages/statsmodels/base/model.py\u001b[0m in \u001b[0;36mfrom_formula\u001b[0;34m(cls, formula, data, subset, drop_cols, *args, **kwargs)\u001b[0m\n\u001b[1;32m    153\u001b[0m \u001b[0;34m\u001b[0m\u001b[0m\n\u001b[1;32m    154\u001b[0m         tmp = handle_formula_data(data, None, formula, depth=eval_env,\n\u001b[0;32m--> 155\u001b[0;31m                                   missing=missing)\n\u001b[0m\u001b[1;32m    156\u001b[0m         \u001b[0;34m(\u001b[0m\u001b[0;34m(\u001b[0m\u001b[0mendog\u001b[0m\u001b[0;34m,\u001b[0m \u001b[0mexog\u001b[0m\u001b[0;34m)\u001b[0m\u001b[0;34m,\u001b[0m \u001b[0mmissing_idx\u001b[0m\u001b[0;34m,\u001b[0m \u001b[0mdesign_info\u001b[0m\u001b[0;34m)\u001b[0m \u001b[0;34m=\u001b[0m \u001b[0mtmp\u001b[0m\u001b[0;34m\u001b[0m\u001b[0;34m\u001b[0m\u001b[0m\n\u001b[1;32m    157\u001b[0m \u001b[0;34m\u001b[0m\u001b[0m\n",
      "\u001b[0;32m~/anaconda3/lib/python3.7/site-packages/statsmodels/formula/formulatools.py\u001b[0m in \u001b[0;36mhandle_formula_data\u001b[0;34m(Y, X, formula, depth, missing)\u001b[0m\n\u001b[1;32m     63\u001b[0m         \u001b[0;32mif\u001b[0m \u001b[0mdata_util\u001b[0m\u001b[0;34m.\u001b[0m\u001b[0m_is_using_pandas\u001b[0m\u001b[0;34m(\u001b[0m\u001b[0mY\u001b[0m\u001b[0;34m,\u001b[0m \u001b[0;32mNone\u001b[0m\u001b[0;34m)\u001b[0m\u001b[0;34m:\u001b[0m\u001b[0;34m\u001b[0m\u001b[0;34m\u001b[0m\u001b[0m\n\u001b[1;32m     64\u001b[0m             result = dmatrices(formula, Y, depth, return_type='dataframe',\n\u001b[0;32m---> 65\u001b[0;31m                                NA_action=na_action)\n\u001b[0m\u001b[1;32m     66\u001b[0m         \u001b[0;32melse\u001b[0m\u001b[0;34m:\u001b[0m\u001b[0;34m\u001b[0m\u001b[0;34m\u001b[0m\u001b[0m\n\u001b[1;32m     67\u001b[0m             result = dmatrices(formula, Y, depth, return_type='dataframe',\n",
      "\u001b[0;32m~/anaconda3/lib/python3.7/site-packages/patsy/highlevel.py\u001b[0m in \u001b[0;36mdmatrices\u001b[0;34m(formula_like, data, eval_env, NA_action, return_type)\u001b[0m\n\u001b[1;32m    308\u001b[0m     \u001b[0meval_env\u001b[0m \u001b[0;34m=\u001b[0m \u001b[0mEvalEnvironment\u001b[0m\u001b[0;34m.\u001b[0m\u001b[0mcapture\u001b[0m\u001b[0;34m(\u001b[0m\u001b[0meval_env\u001b[0m\u001b[0;34m,\u001b[0m \u001b[0mreference\u001b[0m\u001b[0;34m=\u001b[0m\u001b[0;36m1\u001b[0m\u001b[0;34m)\u001b[0m\u001b[0;34m\u001b[0m\u001b[0;34m\u001b[0m\u001b[0m\n\u001b[1;32m    309\u001b[0m     (lhs, rhs) = _do_highlevel_design(formula_like, data, eval_env,\n\u001b[0;32m--> 310\u001b[0;31m                                       NA_action, return_type)\n\u001b[0m\u001b[1;32m    311\u001b[0m     \u001b[0;32mif\u001b[0m \u001b[0mlhs\u001b[0m\u001b[0;34m.\u001b[0m\u001b[0mshape\u001b[0m\u001b[0;34m[\u001b[0m\u001b[0;36m1\u001b[0m\u001b[0;34m]\u001b[0m \u001b[0;34m==\u001b[0m \u001b[0;36m0\u001b[0m\u001b[0;34m:\u001b[0m\u001b[0;34m\u001b[0m\u001b[0;34m\u001b[0m\u001b[0m\n\u001b[1;32m    312\u001b[0m         \u001b[0;32mraise\u001b[0m \u001b[0mPatsyError\u001b[0m\u001b[0;34m(\u001b[0m\u001b[0;34m\"model is missing required outcome variables\"\u001b[0m\u001b[0;34m)\u001b[0m\u001b[0;34m\u001b[0m\u001b[0;34m\u001b[0m\u001b[0m\n",
      "\u001b[0;32m~/anaconda3/lib/python3.7/site-packages/patsy/highlevel.py\u001b[0m in \u001b[0;36m_do_highlevel_design\u001b[0;34m(formula_like, data, eval_env, NA_action, return_type)\u001b[0m\n\u001b[1;32m    163\u001b[0m         \u001b[0;32mreturn\u001b[0m \u001b[0miter\u001b[0m\u001b[0;34m(\u001b[0m\u001b[0;34m[\u001b[0m\u001b[0mdata\u001b[0m\u001b[0;34m]\u001b[0m\u001b[0;34m)\u001b[0m\u001b[0;34m\u001b[0m\u001b[0;34m\u001b[0m\u001b[0m\n\u001b[1;32m    164\u001b[0m     design_infos = _try_incr_builders(formula_like, data_iter_maker, eval_env,\n\u001b[0;32m--> 165\u001b[0;31m                                       NA_action)\n\u001b[0m\u001b[1;32m    166\u001b[0m     \u001b[0;32mif\u001b[0m \u001b[0mdesign_infos\u001b[0m \u001b[0;32mis\u001b[0m \u001b[0;32mnot\u001b[0m \u001b[0;32mNone\u001b[0m\u001b[0;34m:\u001b[0m\u001b[0;34m\u001b[0m\u001b[0;34m\u001b[0m\u001b[0m\n\u001b[1;32m    167\u001b[0m         return build_design_matrices(design_infos, data,\n",
      "\u001b[0;32m~/anaconda3/lib/python3.7/site-packages/patsy/highlevel.py\u001b[0m in \u001b[0;36m_try_incr_builders\u001b[0;34m(formula_like, data_iter_maker, eval_env, NA_action)\u001b[0m\n\u001b[1;32m     68\u001b[0m                                       \u001b[0mdata_iter_maker\u001b[0m\u001b[0;34m,\u001b[0m\u001b[0;34m\u001b[0m\u001b[0;34m\u001b[0m\u001b[0m\n\u001b[1;32m     69\u001b[0m                                       \u001b[0meval_env\u001b[0m\u001b[0;34m,\u001b[0m\u001b[0;34m\u001b[0m\u001b[0;34m\u001b[0m\u001b[0m\n\u001b[0;32m---> 70\u001b[0;31m                                       NA_action)\n\u001b[0m\u001b[1;32m     71\u001b[0m     \u001b[0;32melse\u001b[0m\u001b[0;34m:\u001b[0m\u001b[0;34m\u001b[0m\u001b[0;34m\u001b[0m\u001b[0m\n\u001b[1;32m     72\u001b[0m         \u001b[0;32mreturn\u001b[0m \u001b[0;32mNone\u001b[0m\u001b[0;34m\u001b[0m\u001b[0;34m\u001b[0m\u001b[0m\n",
      "\u001b[0;32m~/anaconda3/lib/python3.7/site-packages/patsy/build.py\u001b[0m in \u001b[0;36mdesign_matrix_builders\u001b[0;34m(termlists, data_iter_maker, eval_env, NA_action)\u001b[0m\n\u001b[1;32m    694\u001b[0m                                                    \u001b[0mfactor_states\u001b[0m\u001b[0;34m,\u001b[0m\u001b[0;34m\u001b[0m\u001b[0;34m\u001b[0m\u001b[0m\n\u001b[1;32m    695\u001b[0m                                                    \u001b[0mdata_iter_maker\u001b[0m\u001b[0;34m,\u001b[0m\u001b[0;34m\u001b[0m\u001b[0;34m\u001b[0m\u001b[0m\n\u001b[0;32m--> 696\u001b[0;31m                                                    NA_action)\n\u001b[0m\u001b[1;32m    697\u001b[0m     \u001b[0;31m# Now we need the factor infos, which encapsulate the knowledge of\u001b[0m\u001b[0;34m\u001b[0m\u001b[0;34m\u001b[0m\u001b[0;34m\u001b[0m\u001b[0m\n\u001b[1;32m    698\u001b[0m     \u001b[0;31m# how to turn any given factor into a chunk of data:\u001b[0m\u001b[0;34m\u001b[0m\u001b[0;34m\u001b[0m\u001b[0;34m\u001b[0m\u001b[0m\n",
      "\u001b[0;32m~/anaconda3/lib/python3.7/site-packages/patsy/build.py\u001b[0m in \u001b[0;36m_examine_factor_types\u001b[0;34m(factors, factor_states, data_iter_maker, NA_action)\u001b[0m\n\u001b[1;32m    441\u001b[0m     \u001b[0;32mfor\u001b[0m \u001b[0mdata\u001b[0m \u001b[0;32min\u001b[0m \u001b[0mdata_iter_maker\u001b[0m\u001b[0;34m(\u001b[0m\u001b[0;34m)\u001b[0m\u001b[0;34m:\u001b[0m\u001b[0;34m\u001b[0m\u001b[0;34m\u001b[0m\u001b[0m\n\u001b[1;32m    442\u001b[0m         \u001b[0;32mfor\u001b[0m \u001b[0mfactor\u001b[0m \u001b[0;32min\u001b[0m \u001b[0mlist\u001b[0m\u001b[0;34m(\u001b[0m\u001b[0mexamine_needed\u001b[0m\u001b[0;34m)\u001b[0m\u001b[0;34m:\u001b[0m\u001b[0;34m\u001b[0m\u001b[0;34m\u001b[0m\u001b[0m\n\u001b[0;32m--> 443\u001b[0;31m             \u001b[0mvalue\u001b[0m \u001b[0;34m=\u001b[0m \u001b[0mfactor\u001b[0m\u001b[0;34m.\u001b[0m\u001b[0meval\u001b[0m\u001b[0;34m(\u001b[0m\u001b[0mfactor_states\u001b[0m\u001b[0;34m[\u001b[0m\u001b[0mfactor\u001b[0m\u001b[0;34m]\u001b[0m\u001b[0;34m,\u001b[0m \u001b[0mdata\u001b[0m\u001b[0;34m)\u001b[0m\u001b[0;34m\u001b[0m\u001b[0;34m\u001b[0m\u001b[0m\n\u001b[0m\u001b[1;32m    444\u001b[0m             \u001b[0;32mif\u001b[0m \u001b[0mfactor\u001b[0m \u001b[0;32min\u001b[0m \u001b[0mcat_sniffers\u001b[0m \u001b[0;32mor\u001b[0m \u001b[0mguess_categorical\u001b[0m\u001b[0;34m(\u001b[0m\u001b[0mvalue\u001b[0m\u001b[0;34m)\u001b[0m\u001b[0;34m:\u001b[0m\u001b[0;34m\u001b[0m\u001b[0;34m\u001b[0m\u001b[0m\n\u001b[1;32m    445\u001b[0m                 \u001b[0;32mif\u001b[0m \u001b[0mfactor\u001b[0m \u001b[0;32mnot\u001b[0m \u001b[0;32min\u001b[0m \u001b[0mcat_sniffers\u001b[0m\u001b[0;34m:\u001b[0m\u001b[0;34m\u001b[0m\u001b[0;34m\u001b[0m\u001b[0m\n",
      "\u001b[0;32m~/anaconda3/lib/python3.7/site-packages/patsy/eval.py\u001b[0m in \u001b[0;36meval\u001b[0;34m(self, memorize_state, data)\u001b[0m\n\u001b[1;32m    564\u001b[0m         return self._eval(memorize_state[\"eval_code\"],\n\u001b[1;32m    565\u001b[0m                           \u001b[0mmemorize_state\u001b[0m\u001b[0;34m,\u001b[0m\u001b[0;34m\u001b[0m\u001b[0;34m\u001b[0m\u001b[0m\n\u001b[0;32m--> 566\u001b[0;31m                           data)\n\u001b[0m\u001b[1;32m    567\u001b[0m \u001b[0;34m\u001b[0m\u001b[0m\n\u001b[1;32m    568\u001b[0m     \u001b[0m__getstate__\u001b[0m \u001b[0;34m=\u001b[0m \u001b[0mno_pickling\u001b[0m\u001b[0;34m\u001b[0m\u001b[0;34m\u001b[0m\u001b[0m\n",
      "\u001b[0;32m~/anaconda3/lib/python3.7/site-packages/patsy/eval.py\u001b[0m in \u001b[0;36m_eval\u001b[0;34m(self, code, memorize_state, data)\u001b[0m\n\u001b[1;32m    549\u001b[0m                                  \u001b[0mmemorize_state\u001b[0m\u001b[0;34m[\u001b[0m\u001b[0;34m\"eval_env\"\u001b[0m\u001b[0;34m]\u001b[0m\u001b[0;34m.\u001b[0m\u001b[0meval\u001b[0m\u001b[0;34m,\u001b[0m\u001b[0;34m\u001b[0m\u001b[0;34m\u001b[0m\u001b[0m\n\u001b[1;32m    550\u001b[0m                                  \u001b[0mcode\u001b[0m\u001b[0;34m,\u001b[0m\u001b[0;34m\u001b[0m\u001b[0;34m\u001b[0m\u001b[0m\n\u001b[0;32m--> 551\u001b[0;31m                                  inner_namespace=inner_namespace)\n\u001b[0m\u001b[1;32m    552\u001b[0m \u001b[0;34m\u001b[0m\u001b[0m\n\u001b[1;32m    553\u001b[0m     \u001b[0;32mdef\u001b[0m \u001b[0mmemorize_chunk\u001b[0m\u001b[0;34m(\u001b[0m\u001b[0mself\u001b[0m\u001b[0;34m,\u001b[0m \u001b[0mstate\u001b[0m\u001b[0;34m,\u001b[0m \u001b[0mwhich_pass\u001b[0m\u001b[0;34m,\u001b[0m \u001b[0mdata\u001b[0m\u001b[0;34m)\u001b[0m\u001b[0;34m:\u001b[0m\u001b[0;34m\u001b[0m\u001b[0;34m\u001b[0m\u001b[0m\n",
      "\u001b[0;32m~/anaconda3/lib/python3.7/site-packages/patsy/compat.py\u001b[0m in \u001b[0;36mcall_and_wrap_exc\u001b[0;34m(msg, origin, f, *args, **kwargs)\u001b[0m\n\u001b[1;32m     41\u001b[0m                                  origin)\n\u001b[1;32m     42\u001b[0m             \u001b[0;31m# Use 'exec' to hide this syntax from the Python 2 parser:\u001b[0m\u001b[0;34m\u001b[0m\u001b[0;34m\u001b[0m\u001b[0;34m\u001b[0m\u001b[0m\n\u001b[0;32m---> 43\u001b[0;31m             \u001b[0mexec\u001b[0m\u001b[0;34m(\u001b[0m\u001b[0;34m\"raise new_exc from e\"\u001b[0m\u001b[0;34m)\u001b[0m\u001b[0;34m\u001b[0m\u001b[0;34m\u001b[0m\u001b[0m\n\u001b[0m\u001b[1;32m     44\u001b[0m         \u001b[0;32melse\u001b[0m\u001b[0;34m:\u001b[0m\u001b[0;34m\u001b[0m\u001b[0;34m\u001b[0m\u001b[0m\n\u001b[1;32m     45\u001b[0m             \u001b[0;31m# In python 2, we just let the original exception escape -- better\u001b[0m\u001b[0;34m\u001b[0m\u001b[0;34m\u001b[0m\u001b[0;34m\u001b[0m\u001b[0m\n",
      "\u001b[0;32m~/anaconda3/lib/python3.7/site-packages/patsy/compat.py\u001b[0m in \u001b[0;36m<module>\u001b[0;34m\u001b[0m\n",
      "\u001b[0;31mPatsyError\u001b[0m: Error evaluating factor: NameError: name 'FUR_SZ_TEMP' is not defined\n    SCALE ~ FUR_HZ_TEMP + FUR_SZ_TEMP\n                          ^^^^^^^^^^^"
     ]
    }
   ],
   "source": [
    "log_model = Logit.from_formula(\"SCALE ~ FUR_HZ_TEMP + FUR_SZ_TEMP\",  df_train)\n",
    "log_result = log_model.fit()"
   ]
  },
  {
   "cell_type": "code",
   "execution_count": 40,
   "metadata": {},
   "outputs": [
    {
     "name": "stdout",
     "output_type": "stream",
     "text": [
      "                           Logit Regression Results                           \n",
      "==============================================================================\n",
      "Dep. Variable:                  SCALE   No. Observations:                  504\n",
      "Model:                          Logit   Df Residuals:                      501\n",
      "Method:                           MLE   Df Model:                            2\n",
      "Date:                Sun, 28 Jul 2019   Pseudo R-squ.:                  0.1496\n",
      "Time:                        01:19:46   Log-Likelihood:                -267.86\n",
      "converged:                       True   LL-Null:                       -314.97\n",
      "                                        LLR p-value:                 3.466e-21\n",
      "===============================================================================\n",
      "                  coef    std err          z      P>|z|      [0.025      0.975]\n",
      "-------------------------------------------------------------------------------\n",
      "Intercept     -69.4322      8.681     -7.998      0.000     -86.447     -52.417\n",
      "FUR_HZ_TEMP    -0.0229      0.009     -2.641      0.008      -0.040      -0.006\n",
      "FUR_SZ_TEMP     0.0826      0.012      6.768      0.000       0.059       0.106\n",
      "===============================================================================\n"
     ]
    }
   ],
   "source": [
    "print(log_result.summary())"
   ]
  },
  {
   "cell_type": "code",
   "execution_count": 41,
   "metadata": {},
   "outputs": [
    {
     "data": {
      "text/plain": [
       "146    1\n",
       "131    1\n",
       "650    0\n",
       "613    0\n",
       "355    0\n",
       "dtype: int64"
      ]
     },
     "execution_count": 41,
     "metadata": {},
     "output_type": "execute_result"
    }
   ],
   "source": [
    "y_pred = log_result.predict(df_test)\n",
    "y_pred_class = (y_pred > 0.5).astype(int)\n",
    "y_pred_class.head()"
   ]
  },
  {
   "cell_type": "code",
   "execution_count": 42,
   "metadata": {},
   "outputs": [
    {
     "name": "stdout",
     "output_type": "stream",
     "text": [
      "Accuracy: 0.667 \n",
      "\n",
      "Confusion Matrix:\n",
      "[[121  24]\n",
      " [ 48  23]]\n"
     ]
    }
   ],
   "source": [
    "print(\"Accuracy: %.3f \\n\" % accuracy_score(df_test[\"SCALE\"], y_pred_class))\n",
    "print(\"Confusion Matrix:\\n{}\".format(confusion_matrix(df_test[\"SCALE\"], y_pred_class)))"
   ]
  },
  {
   "cell_type": "code",
   "execution_count": 48,
   "metadata": {},
   "outputs": [
    {
     "name": "stdout",
     "output_type": "stream",
     "text": [
      "Optimization terminated successfully.\n",
      "         Current function value: 0.624937\n",
      "         Iterations 5\n"
     ]
    }
   ],
   "source": [
    "log_model = Logit.from_formula(\"SCALE ~ ROLLING_DESCALING\",  df_train)\n",
    "log_result = log_model.fit()"
   ]
  },
  {
   "cell_type": "code",
   "execution_count": 49,
   "metadata": {},
   "outputs": [
    {
     "name": "stdout",
     "output_type": "stream",
     "text": [
      "                           Logit Regression Results                           \n",
      "==============================================================================\n",
      "Dep. Variable:                  SCALE   No. Observations:                  504\n",
      "Model:                          Logit   Df Residuals:                      502\n",
      "Method:                           MLE   Df Model:                            1\n",
      "Date:                Sun, 28 Jul 2019   Pseudo R-squ.:               5.616e-06\n",
      "Time:                        03:29:55   Log-Likelihood:                -314.97\n",
      "converged:                       True   LL-Null:                       -314.97\n",
      "                                        LLR p-value:                    0.9526\n",
      "=====================================================================================\n",
      "                        coef    std err          z      P>|z|      [0.025      0.975]\n",
      "-------------------------------------------------------------------------------------\n",
      "Intercept            -0.7944      0.495     -1.604      0.109      -1.765       0.176\n",
      "ROLLING_DESCALING     0.0035      0.059      0.059      0.953      -0.111       0.118\n",
      "=====================================================================================\n"
     ]
    }
   ],
   "source": [
    "print(log_result.summary())"
   ]
  },
  {
   "cell_type": "code",
   "execution_count": 50,
   "metadata": {},
   "outputs": [
    {
     "name": "stdout",
     "output_type": "stream",
     "text": [
      "Accuracy: 0.671 \n",
      "\n",
      "Confusion Matrix:\n",
      "[[145   0]\n",
      " [ 71   0]]\n"
     ]
    }
   ],
   "source": [
    "y_pred = log_result.predict(df_test)\n",
    "y_pred_class = (y_pred > 0.5).astype(int)\n",
    "print(\"Accuracy: %.3f \\n\" % accuracy_score(df_test[\"SCALE\"], y_pred_class))\n",
    "print(\"Confusion Matrix:\\n{}\".format(confusion_matrix(df_test[\"SCALE\"], y_pred_class)))"
   ]
  },
  {
   "cell_type": "code",
   "execution_count": 46,
   "metadata": {},
   "outputs": [
    {
     "name": "stdout",
     "output_type": "stream",
     "text": [
      "Optimization terminated successfully.\n",
      "         Current function value: 0.616536\n",
      "         Iterations 5\n",
      "                           Logit Regression Results                           \n",
      "==============================================================================\n",
      "Dep. Variable:                  SCALE   No. Observations:                  504\n",
      "Model:                          Logit   Df Residuals:                      502\n",
      "Method:                           MLE   Df Model:                            1\n",
      "Date:                Sun, 28 Jul 2019   Pseudo R-squ.:                 0.01345\n",
      "Time:                        01:19:52   Log-Likelihood:                -310.73\n",
      "converged:                       True   LL-Null:                       -314.97\n",
      "                                        LLR p-value:                  0.003607\n",
      "==============================================================================\n",
      "                 coef    std err          z      P>|z|      [0.025      0.975]\n",
      "------------------------------------------------------------------------------\n",
      "Intercept     -0.3252      0.180     -1.810      0.070      -0.677       0.027\n",
      "PT_THK        -0.0155      0.006     -2.782      0.005      -0.026      -0.005\n",
      "==============================================================================\n"
     ]
    }
   ],
   "source": [
    "log_model = Logit.from_formula(\"SCALE ~ PT_THK\",  df_train)\n",
    "log_result = log_model.fit()\n",
    "print(log_result.summary())"
   ]
  },
  {
   "cell_type": "code",
   "execution_count": 47,
   "metadata": {},
   "outputs": [
    {
     "name": "stdout",
     "output_type": "stream",
     "text": [
      "Accuracy: 0.671 \n",
      "\n",
      "Confusion Matrix:\n",
      "[[145   0]\n",
      " [ 71   0]]\n"
     ]
    }
   ],
   "source": [
    "y_pred = log_result.predict(df_test)\n",
    "y_pred_class = (y_pred > 0.5).astype(int)\n",
    "print(\"Accuracy: %.3f \\n\" % accuracy_score(df_test[\"SCALE\"], y_pred_class))\n",
    "print(\"Confusion Matrix:\\n{}\".format(confusion_matrix(df_test[\"SCALE\"], y_pred_class)))"
   ]
  },
  {
   "cell_type": "code",
   "execution_count": 48,
   "metadata": {},
   "outputs": [],
   "source": [
    "dfA = df_raw[\"FUR_HZ_TEMP\"]\n",
    "dfB = df_raw[\"FUR_SZ_TEMP\"]"
   ]
  },
  {
   "cell_type": "code",
   "execution_count": 50,
   "metadata": {},
   "outputs": [],
   "source": [
    "from scipy import stats"
   ]
  },
  {
   "cell_type": "code",
   "execution_count": 51,
   "metadata": {},
   "outputs": [],
   "source": [
    "t_result = stats.ttest_ind(dfA, dfB, equal_var = True)\n",
    "t, p = t_result.statistic, t_result.pvalue"
   ]
  },
  {
   "cell_type": "code",
   "execution_count": 56,
   "metadata": {},
   "outputs": [
    {
     "name": "stdout",
     "output_type": "stream",
     "text": [
      "5.579, 0.000\n"
     ]
    }
   ],
   "source": [
    "print (\"%.3f, %.3f\" % (t, p))"
   ]
  },
  {
   "cell_type": "code",
   "execution_count": 61,
   "metadata": {},
   "outputs": [
    {
     "data": {
      "text/html": [
       "<div>\n",
       "<style scoped>\n",
       "    .dataframe tbody tr th:only-of-type {\n",
       "        vertical-align: middle;\n",
       "    }\n",
       "\n",
       "    .dataframe tbody tr th {\n",
       "        vertical-align: top;\n",
       "    }\n",
       "\n",
       "    .dataframe thead th {\n",
       "        text-align: right;\n",
       "    }\n",
       "</style>\n",
       "<table border=\"1\" class=\"dataframe\">\n",
       "  <thead>\n",
       "    <tr style=\"text-align: right;\">\n",
       "      <th></th>\n",
       "      <th>PLATE_NO</th>\n",
       "      <th>ROLLING_DATE</th>\n",
       "      <th>SCALE</th>\n",
       "      <th>SPEC</th>\n",
       "      <th>STEEL_KIND</th>\n",
       "      <th>PT_THK</th>\n",
       "      <th>PT_WDTH</th>\n",
       "      <th>PT_LTH</th>\n",
       "      <th>PT_WGT</th>\n",
       "      <th>FUR_NO</th>\n",
       "      <th>...</th>\n",
       "      <th>FUR_HZ_TIME</th>\n",
       "      <th>FUR_SZ_TEMP</th>\n",
       "      <th>FUR_SZ_TIME</th>\n",
       "      <th>FUR_TIME</th>\n",
       "      <th>FUR_EXTEMP</th>\n",
       "      <th>ROLLING_TEMP_T5</th>\n",
       "      <th>HSB</th>\n",
       "      <th>ROLLING_DESCALING</th>\n",
       "      <th>WORK_GR</th>\n",
       "      <th>SPEC.1</th>\n",
       "    </tr>\n",
       "  </thead>\n",
       "  <tbody>\n",
       "    <tr>\n",
       "      <th>0</th>\n",
       "      <td>PB562774</td>\n",
       "      <td>2008-08-01:00:00:15</td>\n",
       "      <td>0</td>\n",
       "      <td>AB/EH32-TM</td>\n",
       "      <td>T1</td>\n",
       "      <td>32.25</td>\n",
       "      <td>3707</td>\n",
       "      <td>15109</td>\n",
       "      <td>14180</td>\n",
       "      <td>1호기</td>\n",
       "      <td>...</td>\n",
       "      <td>116</td>\n",
       "      <td>1133</td>\n",
       "      <td>59</td>\n",
       "      <td>282</td>\n",
       "      <td>1133</td>\n",
       "      <td>934</td>\n",
       "      <td>적용</td>\n",
       "      <td>8</td>\n",
       "      <td>2조</td>\n",
       "      <td>AB</td>\n",
       "    </tr>\n",
       "    <tr>\n",
       "      <th>1</th>\n",
       "      <td>PB562775</td>\n",
       "      <td>2008-08-01:00:00:16</td>\n",
       "      <td>0</td>\n",
       "      <td>AB/EH32-TM</td>\n",
       "      <td>T1</td>\n",
       "      <td>32.25</td>\n",
       "      <td>3707</td>\n",
       "      <td>15109</td>\n",
       "      <td>14180</td>\n",
       "      <td>1호기</td>\n",
       "      <td>...</td>\n",
       "      <td>122</td>\n",
       "      <td>1135</td>\n",
       "      <td>53</td>\n",
       "      <td>283</td>\n",
       "      <td>1135</td>\n",
       "      <td>937</td>\n",
       "      <td>적용</td>\n",
       "      <td>8</td>\n",
       "      <td>2조</td>\n",
       "      <td>AB</td>\n",
       "    </tr>\n",
       "    <tr>\n",
       "      <th>2</th>\n",
       "      <td>PB562776</td>\n",
       "      <td>2008-08-01:00:00:59</td>\n",
       "      <td>0</td>\n",
       "      <td>NV-E36-TM</td>\n",
       "      <td>T8</td>\n",
       "      <td>33.27</td>\n",
       "      <td>3619</td>\n",
       "      <td>19181</td>\n",
       "      <td>18130</td>\n",
       "      <td>2호기</td>\n",
       "      <td>...</td>\n",
       "      <td>116</td>\n",
       "      <td>1121</td>\n",
       "      <td>55</td>\n",
       "      <td>282</td>\n",
       "      <td>1121</td>\n",
       "      <td>889</td>\n",
       "      <td>적용</td>\n",
       "      <td>8</td>\n",
       "      <td>3조</td>\n",
       "      <td>NV</td>\n",
       "    </tr>\n",
       "    <tr>\n",
       "      <th>3</th>\n",
       "      <td>PB562777</td>\n",
       "      <td>2008-08-01:00:01:24</td>\n",
       "      <td>0</td>\n",
       "      <td>NV-E36-TM</td>\n",
       "      <td>T8</td>\n",
       "      <td>33.27</td>\n",
       "      <td>3619</td>\n",
       "      <td>19181</td>\n",
       "      <td>18130</td>\n",
       "      <td>2호기</td>\n",
       "      <td>...</td>\n",
       "      <td>125</td>\n",
       "      <td>1127</td>\n",
       "      <td>68</td>\n",
       "      <td>316</td>\n",
       "      <td>1127</td>\n",
       "      <td>885</td>\n",
       "      <td>적용</td>\n",
       "      <td>8</td>\n",
       "      <td>3조</td>\n",
       "      <td>NV</td>\n",
       "    </tr>\n",
       "    <tr>\n",
       "      <th>4</th>\n",
       "      <td>PB562778</td>\n",
       "      <td>2008-08-01:00:01:44</td>\n",
       "      <td>0</td>\n",
       "      <td>BV-EH36-TM</td>\n",
       "      <td>T8</td>\n",
       "      <td>38.33</td>\n",
       "      <td>3098</td>\n",
       "      <td>13334</td>\n",
       "      <td>12430</td>\n",
       "      <td>3호기</td>\n",
       "      <td>...</td>\n",
       "      <td>134</td>\n",
       "      <td>1128</td>\n",
       "      <td>48</td>\n",
       "      <td>314</td>\n",
       "      <td>1128</td>\n",
       "      <td>873</td>\n",
       "      <td>적용</td>\n",
       "      <td>8</td>\n",
       "      <td>1조</td>\n",
       "      <td>BV</td>\n",
       "    </tr>\n",
       "  </tbody>\n",
       "</table>\n",
       "<p>5 rows × 22 columns</p>\n",
       "</div>"
      ],
      "text/plain": [
       "   PLATE_NO         ROLLING_DATE  SCALE        SPEC STEEL_KIND  PT_THK  \\\n",
       "0  PB562774  2008-08-01:00:00:15      0  AB/EH32-TM         T1   32.25   \n",
       "1  PB562775  2008-08-01:00:00:16      0  AB/EH32-TM         T1   32.25   \n",
       "2  PB562776  2008-08-01:00:00:59      0   NV-E36-TM         T8   33.27   \n",
       "3  PB562777  2008-08-01:00:01:24      0   NV-E36-TM         T8   33.27   \n",
       "4  PB562778  2008-08-01:00:01:44      0  BV-EH36-TM         T8   38.33   \n",
       "\n",
       "   PT_WDTH  PT_LTH  PT_WGT FUR_NO  ...  FUR_HZ_TIME  FUR_SZ_TEMP  FUR_SZ_TIME  \\\n",
       "0     3707   15109   14180    1호기  ...          116         1133           59   \n",
       "1     3707   15109   14180    1호기  ...          122         1135           53   \n",
       "2     3619   19181   18130    2호기  ...          116         1121           55   \n",
       "3     3619   19181   18130    2호기  ...          125         1127           68   \n",
       "4     3098   13334   12430    3호기  ...          134         1128           48   \n",
       "\n",
       "   FUR_TIME  FUR_EXTEMP  ROLLING_TEMP_T5  HSB  ROLLING_DESCALING WORK_GR  \\\n",
       "0       282        1133              934   적용                  8      2조   \n",
       "1       283        1135              937   적용                  8      2조   \n",
       "2       282        1121              889   적용                  8      3조   \n",
       "3       316        1127              885   적용                  8      3조   \n",
       "4       314        1128              873   적용                  8      1조   \n",
       "\n",
       "   SPEC.1  \n",
       "0      AB  \n",
       "1      AB  \n",
       "2      NV  \n",
       "3      NV  \n",
       "4      BV  \n",
       "\n",
       "[5 rows x 22 columns]"
      ]
     },
     "execution_count": 61,
     "metadata": {},
     "output_type": "execute_result"
    }
   ],
   "source": [
    "df_raw.head()"
   ]
  },
  {
   "cell_type": "code",
   "execution_count": 62,
   "metadata": {},
   "outputs": [],
   "source": [
    "df_raw[\"HSB\"] = np.where(df_raw[\"HSB\"] == \"적용\", 0, 1)\n"
   ]
  },
  {
   "cell_type": "code",
   "execution_count": 51,
   "metadata": {},
   "outputs": [
    {
     "name": "stdout",
     "output_type": "stream",
     "text": [
      "Warning: Maximum number of iterations has been exceeded.\n",
      "         Current function value: 0.570187\n",
      "         Iterations: 35\n",
      "                           Logit Regression Results                           \n",
      "==============================================================================\n",
      "Dep. Variable:                  SCALE   No. Observations:                  504\n",
      "Model:                          Logit   Df Residuals:                      502\n",
      "Method:                           MLE   Df Model:                            1\n",
      "Date:                Sun, 28 Jul 2019   Pseudo R-squ.:                 0.08761\n",
      "Time:                        03:30:02   Log-Likelihood:                -287.37\n",
      "converged:                      False   LL-Null:                       -314.97\n",
      "                                        LLR p-value:                 1.093e-13\n",
      "==============================================================================\n",
      "                 coef    std err          z      P>|z|      [0.025      0.975]\n",
      "------------------------------------------------------------------------------\n",
      "Intercept     20.0816   4784.100      0.004      0.997   -9356.582    9396.745\n",
      "HSB          -21.0023   4784.100     -0.004      0.996   -9397.666    9355.661\n",
      "==============================================================================\n"
     ]
    },
    {
     "name": "stderr",
     "output_type": "stream",
     "text": [
      "/home/pirl/anaconda3/lib/python3.7/site-packages/statsmodels/base/model.py:508: ConvergenceWarning: Maximum Likelihood optimization failed to converge. Check mle_retvals\n",
      "  \"Check mle_retvals\", ConvergenceWarning)\n"
     ]
    }
   ],
   "source": [
    "log_model = Logit.from_formula(\"SCALE ~ HSB\",  df_train)\n",
    "log_result = log_model.fit()\n",
    "print(log_result.summary())"
   ]
  },
  {
   "cell_type": "code",
   "execution_count": null,
   "metadata": {},
   "outputs": [],
   "source": []
  },
  {
   "cell_type": "code",
   "execution_count": 52,
   "metadata": {},
   "outputs": [
    {
     "name": "stdout",
     "output_type": "stream",
     "text": [
      "Accuracy: 0.718 \n",
      "\n",
      "Confusion Matrix:\n",
      "[[145   0]\n",
      " [ 61  10]]\n"
     ]
    }
   ],
   "source": [
    "y_pred = log_result.predict(df_test)\n",
    "y_pred_class = (y_pred > 0.5).astype(int)\n",
    "print(\"Accuracy: %.3f \\n\" % accuracy_score(df_test[\"SCALE\"], y_pred_class))\n",
    "print(\"Confusion Matrix:\\n{}\".format(confusion_matrix(df_test[\"SCALE\"], y_pred_class)))"
   ]
  },
  {
   "cell_type": "code",
   "execution_count": 53,
   "metadata": {},
   "outputs": [
    {
     "name": "stdout",
     "output_type": "stream",
     "text": [
      "Optimization terminated successfully.\n",
      "         Current function value: 0.418018\n",
      "         Iterations 8\n",
      "                           Logit Regression Results                           \n",
      "==============================================================================\n",
      "Dep. Variable:                  SCALE   No. Observations:                  504\n",
      "Model:                          Logit   Df Residuals:                      502\n",
      "Method:                           MLE   Df Model:                            1\n",
      "Date:                Sun, 28 Jul 2019   Pseudo R-squ.:                  0.3311\n",
      "Time:                        03:30:07   Log-Likelihood:                -210.68\n",
      "converged:                       True   LL-Null:                       -314.97\n",
      "                                        LLR p-value:                 2.807e-47\n",
      "===================================================================================\n",
      "                      coef    std err          z      P>|z|      [0.025      0.975]\n",
      "-----------------------------------------------------------------------------------\n",
      "Intercept         -30.6486      2.954    -10.374      0.000     -36.439     -24.858\n",
      "ROLLING_TEMP_T5     0.0311      0.003     10.272      0.000       0.025       0.037\n",
      "===================================================================================\n"
     ]
    }
   ],
   "source": [
    "log_model = Logit.from_formula(\"SCALE ~ ROLLING_TEMP_T5\",  df_train)\n",
    "log_result = log_model.fit()\n",
    "print(log_result.summary())"
   ]
  },
  {
   "cell_type": "code",
   "execution_count": 54,
   "metadata": {},
   "outputs": [
    {
     "name": "stdout",
     "output_type": "stream",
     "text": [
      "Accuracy: 0.801 \n",
      "\n",
      "Confusion Matrix:\n",
      "[[122  23]\n",
      " [ 20  51]]\n"
     ]
    }
   ],
   "source": [
    "y_pred = log_result.predict(df_test)\n",
    "y_pred_class = (y_pred > 0.5).astype(int)\n",
    "print(\"Accuracy: %.3f \\n\" % accuracy_score(df_test[\"SCALE\"], y_pred_class))\n",
    "print(\"Confusion Matrix:\\n{}\".format(confusion_matrix(df_test[\"SCALE\"], y_pred_class)))"
   ]
  },
  {
   "cell_type": "code",
   "execution_count": 70,
   "metadata": {},
   "outputs": [],
   "source": [
    "import statsmodels.formula.api as smf"
   ]
  },
  {
   "cell_type": "code",
   "execution_count": 71,
   "metadata": {},
   "outputs": [
    {
     "name": "stdout",
     "output_type": "stream",
     "text": [
      "                            OLS Regression Results                            \n",
      "==============================================================================\n",
      "Dep. Variable:            FUR_HZ_TEMP   R-squared:                       0.121\n",
      "Model:                            OLS   Adj. R-squared:                  0.120\n",
      "Method:                 Least Squares   F-statistic:                     99.08\n",
      "Date:                Sun, 28 Jul 2019   Prob (F-statistic):           5.94e-22\n",
      "Time:                        01:39:21   Log-Likelihood:                -3162.1\n",
      "No. Observations:                 720   AIC:                             6328.\n",
      "Df Residuals:                     718   BIC:                             6337.\n",
      "Df Model:                           1                                         \n",
      "Covariance Type:            nonrobust                                         \n",
      "==============================================================================\n",
      "                 coef    std err          t      P>|t|      [0.025      0.975]\n",
      "------------------------------------------------------------------------------\n",
      "Intercept   1203.4537      4.889    246.178      0.000    1193.856    1213.051\n",
      "FUR_TIME      -0.1601      0.016     -9.954      0.000      -0.192      -0.129\n",
      "==============================================================================\n",
      "Omnibus:                       16.656   Durbin-Watson:                   0.633\n",
      "Prob(Omnibus):                  0.000   Jarque-Bera (JB):               11.613\n",
      "Skew:                          -0.191   Prob(JB):                      0.00301\n",
      "Kurtosis:                       2.508   Cond. No.                     2.04e+03\n",
      "==============================================================================\n",
      "\n",
      "Warnings:\n",
      "[1] Standard Errors assume that the covariance matrix of the errors is correctly specified.\n",
      "[2] The condition number is large, 2.04e+03. This might indicate that there are\n",
      "strong multicollinearity or other numerical problems.\n"
     ]
    }
   ],
   "source": [
    "reg_model = smf.ols(formula = \"FUR_HZ_TEMP ~ FUR_TIME\", data = df_raw)\n",
    "reg_result = reg_model.fit()\n",
    "print(reg_result.summary())"
   ]
  },
  {
   "cell_type": "markdown",
   "metadata": {},
   "source": [
    "# 로지스틱"
   ]
  },
  {
   "cell_type": "code",
   "execution_count": 23,
   "metadata": {},
   "outputs": [
    {
     "name": "stdout",
     "output_type": "stream",
     "text": [
      "SCALE + SPEC + STEEL_KIND + PT_THK + PT_WDTH + PT_LTH + PT_WGT + FUR_NO + FUR_NO_ROW + FUR_HZ_TEMP + FUR_HZ_TIME + FUR_SZ_TIME + FUR_TIME + FUR_EXTEMP + ROLLING_TEMP_T5 + HSB + ROLLING_DESCALING + WORK_GR + SPEC.1 + "
     ]
    }
   ],
   "source": [
    "for i in list(df_raw):\n",
    "    print (i, end = \" + \")"
   ]
  },
  {
   "cell_type": "code",
   "execution_count": 26,
   "metadata": {},
   "outputs": [
    {
     "data": {
      "text/html": [
       "<div>\n",
       "<style scoped>\n",
       "    .dataframe tbody tr th:only-of-type {\n",
       "        vertical-align: middle;\n",
       "    }\n",
       "\n",
       "    .dataframe tbody tr th {\n",
       "        vertical-align: top;\n",
       "    }\n",
       "\n",
       "    .dataframe thead th {\n",
       "        text-align: right;\n",
       "    }\n",
       "</style>\n",
       "<table border=\"1\" class=\"dataframe\">\n",
       "  <thead>\n",
       "    <tr style=\"text-align: right;\">\n",
       "      <th></th>\n",
       "      <th>SCALE</th>\n",
       "      <th>SPEC</th>\n",
       "      <th>STEEL_KIND</th>\n",
       "      <th>PT_THK</th>\n",
       "      <th>PT_WDTH</th>\n",
       "      <th>PT_LTH</th>\n",
       "      <th>PT_WGT</th>\n",
       "      <th>FUR_NO</th>\n",
       "      <th>FUR_NO_ROW</th>\n",
       "      <th>FUR_HZ_TEMP</th>\n",
       "      <th>FUR_HZ_TIME</th>\n",
       "      <th>FUR_SZ_TIME</th>\n",
       "      <th>FUR_TIME</th>\n",
       "      <th>FUR_EXTEMP</th>\n",
       "      <th>ROLLING_TEMP_T5</th>\n",
       "      <th>HSB</th>\n",
       "      <th>ROLLING_DESCALING</th>\n",
       "      <th>WORK_GR</th>\n",
       "      <th>SPEC.1</th>\n",
       "    </tr>\n",
       "  </thead>\n",
       "  <tbody>\n",
       "    <tr>\n",
       "      <th>0</th>\n",
       "      <td>1</td>\n",
       "      <td>AB/EH32-TM</td>\n",
       "      <td>T1</td>\n",
       "      <td>32.25</td>\n",
       "      <td>3707</td>\n",
       "      <td>15109</td>\n",
       "      <td>14180</td>\n",
       "      <td>1호기</td>\n",
       "      <td>1</td>\n",
       "      <td>1144</td>\n",
       "      <td>116</td>\n",
       "      <td>59</td>\n",
       "      <td>282</td>\n",
       "      <td>1133</td>\n",
       "      <td>934</td>\n",
       "      <td>1</td>\n",
       "      <td>8</td>\n",
       "      <td>2조</td>\n",
       "      <td>AB</td>\n",
       "    </tr>\n",
       "    <tr>\n",
       "      <th>1</th>\n",
       "      <td>1</td>\n",
       "      <td>AB/EH32-TM</td>\n",
       "      <td>T1</td>\n",
       "      <td>32.25</td>\n",
       "      <td>3707</td>\n",
       "      <td>15109</td>\n",
       "      <td>14180</td>\n",
       "      <td>1호기</td>\n",
       "      <td>2</td>\n",
       "      <td>1144</td>\n",
       "      <td>122</td>\n",
       "      <td>53</td>\n",
       "      <td>283</td>\n",
       "      <td>1135</td>\n",
       "      <td>937</td>\n",
       "      <td>1</td>\n",
       "      <td>8</td>\n",
       "      <td>2조</td>\n",
       "      <td>AB</td>\n",
       "    </tr>\n",
       "    <tr>\n",
       "      <th>2</th>\n",
       "      <td>1</td>\n",
       "      <td>NV-E36-TM</td>\n",
       "      <td>T8</td>\n",
       "      <td>33.27</td>\n",
       "      <td>3619</td>\n",
       "      <td>19181</td>\n",
       "      <td>18130</td>\n",
       "      <td>2호기</td>\n",
       "      <td>1</td>\n",
       "      <td>1129</td>\n",
       "      <td>116</td>\n",
       "      <td>55</td>\n",
       "      <td>282</td>\n",
       "      <td>1121</td>\n",
       "      <td>889</td>\n",
       "      <td>1</td>\n",
       "      <td>8</td>\n",
       "      <td>3조</td>\n",
       "      <td>NV</td>\n",
       "    </tr>\n",
       "    <tr>\n",
       "      <th>3</th>\n",
       "      <td>1</td>\n",
       "      <td>NV-E36-TM</td>\n",
       "      <td>T8</td>\n",
       "      <td>33.27</td>\n",
       "      <td>3619</td>\n",
       "      <td>19181</td>\n",
       "      <td>18130</td>\n",
       "      <td>2호기</td>\n",
       "      <td>2</td>\n",
       "      <td>1152</td>\n",
       "      <td>125</td>\n",
       "      <td>68</td>\n",
       "      <td>316</td>\n",
       "      <td>1127</td>\n",
       "      <td>885</td>\n",
       "      <td>1</td>\n",
       "      <td>8</td>\n",
       "      <td>3조</td>\n",
       "      <td>NV</td>\n",
       "    </tr>\n",
       "    <tr>\n",
       "      <th>4</th>\n",
       "      <td>1</td>\n",
       "      <td>BV-EH36-TM</td>\n",
       "      <td>T8</td>\n",
       "      <td>38.33</td>\n",
       "      <td>3098</td>\n",
       "      <td>13334</td>\n",
       "      <td>12430</td>\n",
       "      <td>3호기</td>\n",
       "      <td>1</td>\n",
       "      <td>1140</td>\n",
       "      <td>134</td>\n",
       "      <td>48</td>\n",
       "      <td>314</td>\n",
       "      <td>1128</td>\n",
       "      <td>873</td>\n",
       "      <td>1</td>\n",
       "      <td>8</td>\n",
       "      <td>1조</td>\n",
       "      <td>BV</td>\n",
       "    </tr>\n",
       "  </tbody>\n",
       "</table>\n",
       "</div>"
      ],
      "text/plain": [
       "   SCALE        SPEC STEEL_KIND  PT_THK  PT_WDTH  PT_LTH  PT_WGT FUR_NO  \\\n",
       "0      1  AB/EH32-TM         T1   32.25     3707   15109   14180    1호기   \n",
       "1      1  AB/EH32-TM         T1   32.25     3707   15109   14180    1호기   \n",
       "2      1   NV-E36-TM         T8   33.27     3619   19181   18130    2호기   \n",
       "3      1   NV-E36-TM         T8   33.27     3619   19181   18130    2호기   \n",
       "4      1  BV-EH36-TM         T8   38.33     3098   13334   12430    3호기   \n",
       "\n",
       "   FUR_NO_ROW  FUR_HZ_TEMP  FUR_HZ_TIME  FUR_SZ_TIME  FUR_TIME  FUR_EXTEMP  \\\n",
       "0           1         1144          116           59       282        1133   \n",
       "1           2         1144          122           53       283        1135   \n",
       "2           1         1129          116           55       282        1121   \n",
       "3           2         1152          125           68       316        1127   \n",
       "4           1         1140          134           48       314        1128   \n",
       "\n",
       "   ROLLING_TEMP_T5  HSB  ROLLING_DESCALING WORK_GR SPEC.1  \n",
       "0              934    1                  8      2조     AB  \n",
       "1              937    1                  8      2조     AB  \n",
       "2              889    1                  8      3조     NV  \n",
       "3              885    1                  8      3조     NV  \n",
       "4              873    1                  8      1조     BV  "
      ]
     },
     "execution_count": 26,
     "metadata": {},
     "output_type": "execute_result"
    }
   ],
   "source": [
    "df_raw.head()"
   ]
  },
  {
   "cell_type": "code",
   "execution_count": 28,
   "metadata": {},
   "outputs": [],
   "source": [
    "log_model = Logit.from_formula(\"\"\"SCALE ~ C(SPEC) +\n",
    "                               C(STEEL_KIND) + PT_THK + PT_WDTH + PT_LTH + PT_WGT + C(FUR_NO) + C(FUR_NO_ROW) + FUR_HZ_TEMP\n",
    "                               + FUR_HZ_TIME + FUR_SZ_TIME + FUR_TIME + FUR_EXTEMP + ROLLING_TEMP_T5 + HSB\n",
    "                               + ROLLING_DESCALING + C(WORK_GR)\"\"\", df_train)\n"
   ]
  },
  {
   "cell_type": "code",
   "execution_count": 29,
   "metadata": {},
   "outputs": [
    {
     "ename": "PerfectSeparationError",
     "evalue": "Perfect separation detected, results not available",
     "output_type": "error",
     "traceback": [
      "\u001b[0;31m---------------------------------------------------------------------------\u001b[0m",
      "\u001b[0;31mPerfectSeparationError\u001b[0m                    Traceback (most recent call last)",
      "\u001b[0;32m<ipython-input-29-765677be575b>\u001b[0m in \u001b[0;36m<module>\u001b[0;34m\u001b[0m\n\u001b[0;32m----> 1\u001b[0;31m \u001b[0mlog_result\u001b[0m \u001b[0;34m=\u001b[0m \u001b[0mlog_model\u001b[0m\u001b[0;34m.\u001b[0m\u001b[0mfit\u001b[0m\u001b[0;34m(\u001b[0m\u001b[0;34m)\u001b[0m\u001b[0;34m\u001b[0m\u001b[0;34m\u001b[0m\u001b[0m\n\u001b[0m\u001b[1;32m      2\u001b[0m \u001b[0mprint\u001b[0m\u001b[0;34m(\u001b[0m\u001b[0mlog_result\u001b[0m\u001b[0;34m.\u001b[0m\u001b[0msummary\u001b[0m\u001b[0;34m(\u001b[0m\u001b[0;34m)\u001b[0m\u001b[0;34m)\u001b[0m\u001b[0;34m\u001b[0m\u001b[0;34m\u001b[0m\u001b[0m\n",
      "\u001b[0;32m~/anaconda3/lib/python3.7/site-packages/statsmodels/discrete/discrete_model.py\u001b[0m in \u001b[0;36mfit\u001b[0;34m(self, start_params, method, maxiter, full_output, disp, callback, **kwargs)\u001b[0m\n\u001b[1;32m   1832\u001b[0m         bnryfit = super(Logit, self).fit(start_params=start_params,\n\u001b[1;32m   1833\u001b[0m                 \u001b[0mmethod\u001b[0m\u001b[0;34m=\u001b[0m\u001b[0mmethod\u001b[0m\u001b[0;34m,\u001b[0m \u001b[0mmaxiter\u001b[0m\u001b[0;34m=\u001b[0m\u001b[0mmaxiter\u001b[0m\u001b[0;34m,\u001b[0m \u001b[0mfull_output\u001b[0m\u001b[0;34m=\u001b[0m\u001b[0mfull_output\u001b[0m\u001b[0;34m,\u001b[0m\u001b[0;34m\u001b[0m\u001b[0;34m\u001b[0m\u001b[0m\n\u001b[0;32m-> 1834\u001b[0;31m                 disp=disp, callback=callback, **kwargs)\n\u001b[0m\u001b[1;32m   1835\u001b[0m \u001b[0;34m\u001b[0m\u001b[0m\n\u001b[1;32m   1836\u001b[0m         \u001b[0mdiscretefit\u001b[0m \u001b[0;34m=\u001b[0m \u001b[0mLogitResults\u001b[0m\u001b[0;34m(\u001b[0m\u001b[0mself\u001b[0m\u001b[0;34m,\u001b[0m \u001b[0mbnryfit\u001b[0m\u001b[0;34m)\u001b[0m\u001b[0;34m\u001b[0m\u001b[0;34m\u001b[0m\u001b[0m\n",
      "\u001b[0;32m~/anaconda3/lib/python3.7/site-packages/statsmodels/discrete/discrete_model.py\u001b[0m in \u001b[0;36mfit\u001b[0;34m(self, start_params, method, maxiter, full_output, disp, callback, **kwargs)\u001b[0m\n\u001b[1;32m    218\u001b[0m         mlefit = super(DiscreteModel, self).fit(start_params=start_params,\n\u001b[1;32m    219\u001b[0m                 \u001b[0mmethod\u001b[0m\u001b[0;34m=\u001b[0m\u001b[0mmethod\u001b[0m\u001b[0;34m,\u001b[0m \u001b[0mmaxiter\u001b[0m\u001b[0;34m=\u001b[0m\u001b[0mmaxiter\u001b[0m\u001b[0;34m,\u001b[0m \u001b[0mfull_output\u001b[0m\u001b[0;34m=\u001b[0m\u001b[0mfull_output\u001b[0m\u001b[0;34m,\u001b[0m\u001b[0;34m\u001b[0m\u001b[0;34m\u001b[0m\u001b[0m\n\u001b[0;32m--> 220\u001b[0;31m                 disp=disp, callback=callback, **kwargs)\n\u001b[0m\u001b[1;32m    221\u001b[0m \u001b[0;34m\u001b[0m\u001b[0m\n\u001b[1;32m    222\u001b[0m         \u001b[0;32mreturn\u001b[0m \u001b[0mmlefit\u001b[0m \u001b[0;31m# up to subclasses to wrap results\u001b[0m\u001b[0;34m\u001b[0m\u001b[0;34m\u001b[0m\u001b[0m\n",
      "\u001b[0;32m~/anaconda3/lib/python3.7/site-packages/statsmodels/base/model.py\u001b[0m in \u001b[0;36mfit\u001b[0;34m(self, start_params, method, maxiter, full_output, disp, fargs, callback, retall, skip_hessian, **kwargs)\u001b[0m\n\u001b[1;32m    464\u001b[0m                                                        \u001b[0mcallback\u001b[0m\u001b[0;34m=\u001b[0m\u001b[0mcallback\u001b[0m\u001b[0;34m,\u001b[0m\u001b[0;34m\u001b[0m\u001b[0;34m\u001b[0m\u001b[0m\n\u001b[1;32m    465\u001b[0m                                                        \u001b[0mretall\u001b[0m\u001b[0;34m=\u001b[0m\u001b[0mretall\u001b[0m\u001b[0;34m,\u001b[0m\u001b[0;34m\u001b[0m\u001b[0;34m\u001b[0m\u001b[0m\n\u001b[0;32m--> 466\u001b[0;31m                                                        full_output=full_output)\n\u001b[0m\u001b[1;32m    467\u001b[0m \u001b[0;34m\u001b[0m\u001b[0m\n\u001b[1;32m    468\u001b[0m         \u001b[0;31m# NOTE: this is for fit_regularized and should be generalized\u001b[0m\u001b[0;34m\u001b[0m\u001b[0;34m\u001b[0m\u001b[0;34m\u001b[0m\u001b[0m\n",
      "\u001b[0;32m~/anaconda3/lib/python3.7/site-packages/statsmodels/base/optimizer.py\u001b[0m in \u001b[0;36m_fit\u001b[0;34m(self, objective, gradient, start_params, fargs, kwargs, hessian, method, maxiter, full_output, disp, callback, retall)\u001b[0m\n\u001b[1;32m    189\u001b[0m                             \u001b[0mdisp\u001b[0m\u001b[0;34m=\u001b[0m\u001b[0mdisp\u001b[0m\u001b[0;34m,\u001b[0m \u001b[0mmaxiter\u001b[0m\u001b[0;34m=\u001b[0m\u001b[0mmaxiter\u001b[0m\u001b[0;34m,\u001b[0m \u001b[0mcallback\u001b[0m\u001b[0;34m=\u001b[0m\u001b[0mcallback\u001b[0m\u001b[0;34m,\u001b[0m\u001b[0;34m\u001b[0m\u001b[0;34m\u001b[0m\u001b[0m\n\u001b[1;32m    190\u001b[0m                             \u001b[0mretall\u001b[0m\u001b[0;34m=\u001b[0m\u001b[0mretall\u001b[0m\u001b[0;34m,\u001b[0m \u001b[0mfull_output\u001b[0m\u001b[0;34m=\u001b[0m\u001b[0mfull_output\u001b[0m\u001b[0;34m,\u001b[0m\u001b[0;34m\u001b[0m\u001b[0;34m\u001b[0m\u001b[0m\n\u001b[0;32m--> 191\u001b[0;31m                             hess=hessian)\n\u001b[0m\u001b[1;32m    192\u001b[0m \u001b[0;34m\u001b[0m\u001b[0m\n\u001b[1;32m    193\u001b[0m         optim_settings = {'optimizer': method, 'start_params': start_params,\n",
      "\u001b[0;32m~/anaconda3/lib/python3.7/site-packages/statsmodels/base/optimizer.py\u001b[0m in \u001b[0;36m_fit_newton\u001b[0;34m(f, score, start_params, fargs, kwargs, disp, maxiter, callback, retall, full_output, hess, ridge_factor)\u001b[0m\n\u001b[1;32m    281\u001b[0m             \u001b[0mhistory\u001b[0m\u001b[0;34m.\u001b[0m\u001b[0mappend\u001b[0m\u001b[0;34m(\u001b[0m\u001b[0mnewparams\u001b[0m\u001b[0;34m)\u001b[0m\u001b[0;34m\u001b[0m\u001b[0;34m\u001b[0m\u001b[0m\n\u001b[1;32m    282\u001b[0m         \u001b[0;32mif\u001b[0m \u001b[0mcallback\u001b[0m \u001b[0;32mis\u001b[0m \u001b[0;32mnot\u001b[0m \u001b[0;32mNone\u001b[0m\u001b[0;34m:\u001b[0m\u001b[0;34m\u001b[0m\u001b[0;34m\u001b[0m\u001b[0m\n\u001b[0;32m--> 283\u001b[0;31m             \u001b[0mcallback\u001b[0m\u001b[0;34m(\u001b[0m\u001b[0mnewparams\u001b[0m\u001b[0;34m)\u001b[0m\u001b[0;34m\u001b[0m\u001b[0;34m\u001b[0m\u001b[0m\n\u001b[0m\u001b[1;32m    284\u001b[0m         \u001b[0miterations\u001b[0m \u001b[0;34m+=\u001b[0m \u001b[0;36m1\u001b[0m\u001b[0;34m\u001b[0m\u001b[0;34m\u001b[0m\u001b[0m\n\u001b[1;32m    285\u001b[0m     \u001b[0mfval\u001b[0m \u001b[0;34m=\u001b[0m \u001b[0mf\u001b[0m\u001b[0;34m(\u001b[0m\u001b[0mnewparams\u001b[0m\u001b[0;34m,\u001b[0m \u001b[0;34m*\u001b[0m\u001b[0mfargs\u001b[0m\u001b[0;34m)\u001b[0m  \u001b[0;31m# this is the negative likelihood\u001b[0m\u001b[0;34m\u001b[0m\u001b[0;34m\u001b[0m\u001b[0m\n",
      "\u001b[0;32m~/anaconda3/lib/python3.7/site-packages/statsmodels/discrete/discrete_model.py\u001b[0m in \u001b[0;36m_check_perfect_pred\u001b[0;34m(self, params, *args)\u001b[0m\n\u001b[1;32m    201\u001b[0m                 np.allclose(fittedvalues - endog, 0)):\n\u001b[1;32m    202\u001b[0m             \u001b[0mmsg\u001b[0m \u001b[0;34m=\u001b[0m \u001b[0;34m\"Perfect separation detected, results not available\"\u001b[0m\u001b[0;34m\u001b[0m\u001b[0;34m\u001b[0m\u001b[0m\n\u001b[0;32m--> 203\u001b[0;31m             \u001b[0;32mraise\u001b[0m \u001b[0mPerfectSeparationError\u001b[0m\u001b[0;34m(\u001b[0m\u001b[0mmsg\u001b[0m\u001b[0;34m)\u001b[0m\u001b[0;34m\u001b[0m\u001b[0;34m\u001b[0m\u001b[0m\n\u001b[0m\u001b[1;32m    204\u001b[0m \u001b[0;34m\u001b[0m\u001b[0m\n\u001b[1;32m    205\u001b[0m     def fit(self, start_params=None, method='newton', maxiter=35,\n",
      "\u001b[0;31mPerfectSeparationError\u001b[0m: Perfect separation detected, results not available"
     ]
    }
   ],
   "source": [
    "log_result = log_model.fit()\n",
    "print(log_result.summary())"
   ]
  },
  {
   "cell_type": "code",
   "execution_count": null,
   "metadata": {},
   "outputs": [],
   "source": []
  }
 ],
 "metadata": {
  "kernelspec": {
   "display_name": "Python 3",
   "language": "python",
   "name": "python3"
  },
  "language_info": {
   "codemirror_mode": {
    "name": "ipython",
    "version": 3
   },
   "file_extension": ".py",
   "mimetype": "text/x-python",
   "name": "python",
   "nbconvert_exporter": "python",
   "pygments_lexer": "ipython3",
   "version": "3.7.3"
  },
  "toc": {
   "base_numbering": 1,
   "nav_menu": {
    "height": "106px",
    "width": "231px"
   },
   "number_sections": true,
   "sideBar": true,
   "skip_h1_title": false,
   "title_cell": "Table of Contents",
   "title_sidebar": "Contents",
   "toc_cell": false,
   "toc_position": {
    "height": "calc(100% - 180px)",
    "left": "10px",
    "top": "150px",
    "width": "338.4px"
   },
   "toc_section_display": true,
   "toc_window_display": true
  }
 },
 "nbformat": 4,
 "nbformat_minor": 2
}
