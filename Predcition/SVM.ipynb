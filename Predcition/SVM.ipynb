{
 "cells": [
  {
   "cell_type": "code",
   "execution_count": 1,
   "metadata": {},
   "outputs": [],
   "source": [
    "import pandas as pd\n",
    "import matplotlib.pyplot as plt\n",
    "import matplotlib\n",
    "\n",
    "from sklearn.tree import export_graphviz\n",
    "import graphviz\n",
    "\n",
    "from sklearn.preprocessing import StandardScaler\n",
    "from sklearn.model_selection import train_test_split\n",
    "from sklearn.svm import SVR\n",
    "from sklearn.model_selection import GridSearchCV"
   ]
  },
  {
   "cell_type": "code",
   "execution_count": 2,
   "metadata": {},
   "outputs": [
    {
     "name": "stdout",
     "output_type": "stream",
     "text": [
      "Score on training set:\t0.181\n",
      "Score on test set:\t-0.036\n"
     ]
    },
    {
     "name": "stderr",
     "output_type": "stream",
     "text": [
      "/home/pirl/anaconda3/lib/python3.7/site-packages/sklearn/svm/base.py:196: FutureWarning: The default value of gamma will change from 'auto' to 'scale' in version 0.22 to account better for unscaled features. Set gamma explicitly to 'auto' or 'scale' to avoid this warning.\n",
      "  \"avoid this warning.\", FutureWarning)\n"
     ]
    }
   ],
   "source": [
    "df_raw = pd.read_csv(\"체질검사.csv\")\n",
    "\n",
    "\n",
    "df_raw_y = df_raw[\"FAT\"]\n",
    "df_raw_x = df_raw.drop(\"FAT\", axis = 1, inplace = False)\n",
    "\n",
    "df_train_x, df_test_x, df_train_y, df_test_y = train_test_split(df_raw_x, df_raw_y, \\\n",
    "                                                                test_size = 0.3, random_state = 1234)\n",
    "\n",
    "svm_uncustomized = SVR()\n",
    "svm_uncustomized.fit(df_train_x, df_train_y)\n",
    "\n",
    "print(\"Score on training set:\\t%.3f\" %(svm_uncustomized.score(df_train_x, df_train_y)))\n",
    "print(\"Score on test set:\\t%.3f\" %(svm_uncustomized.score(df_test_x, df_test_y)))\n"
   ]
  },
  {
   "cell_type": "code",
   "execution_count": 3,
   "metadata": {},
   "outputs": [
    {
     "data": {
      "text/plain": [
       "SVR(C=1.0, cache_size=200, coef0=0.0, degree=3, epsilon=0.1,\n",
       "  gamma='auto_deprecated', kernel='rbf', max_iter=-1, shrinking=True,\n",
       "  tol=0.001, verbose=False)"
      ]
     },
     "execution_count": 3,
     "metadata": {},
     "output_type": "execute_result"
    }
   ],
   "source": [
    "svm_uncustomized"
   ]
  },
  {
   "cell_type": "code",
   "execution_count": 4,
   "metadata": {},
   "outputs": [
    {
     "name": "stderr",
     "output_type": "stream",
     "text": [
      "/home/pirl/anaconda3/lib/python3.7/site-packages/sklearn/preprocessing/data.py:645: DataConversionWarning: Data with input dtype int64, float64 were all converted to float64 by StandardScaler.\n",
      "  return self.partial_fit(X, y)\n",
      "/home/pirl/anaconda3/lib/python3.7/site-packages/sklearn/base.py:464: DataConversionWarning: Data with input dtype int64, float64 were all converted to float64 by StandardScaler.\n",
      "  return self.fit(X, **fit_params).transform(X)\n"
     ]
    },
    {
     "data": {
      "text/html": [
       "<div>\n",
       "<style scoped>\n",
       "    .dataframe tbody tr th:only-of-type {\n",
       "        vertical-align: middle;\n",
       "    }\n",
       "\n",
       "    .dataframe tbody tr th {\n",
       "        vertical-align: top;\n",
       "    }\n",
       "\n",
       "    .dataframe thead th {\n",
       "        text-align: right;\n",
       "    }\n",
       "</style>\n",
       "<table border=\"1\" class=\"dataframe\">\n",
       "  <thead>\n",
       "    <tr style=\"text-align: right;\">\n",
       "      <th></th>\n",
       "      <th>AGE</th>\n",
       "      <th>WEIGHT</th>\n",
       "      <th>HEIGHT</th>\n",
       "      <th>NECK</th>\n",
       "      <th>CHEST</th>\n",
       "      <th>ABDOMEN</th>\n",
       "      <th>HIP</th>\n",
       "      <th>THIGH</th>\n",
       "      <th>KNEE</th>\n",
       "      <th>ANKLE</th>\n",
       "      <th>BICEPS</th>\n",
       "      <th>FOREARM</th>\n",
       "      <th>WRIST</th>\n",
       "    </tr>\n",
       "  </thead>\n",
       "  <tbody>\n",
       "    <tr>\n",
       "      <th>0</th>\n",
       "      <td>0.088660</td>\n",
       "      <td>6.280963</td>\n",
       "      <td>0.574790</td>\n",
       "      <td>5.444135</td>\n",
       "      <td>4.204531</td>\n",
       "      <td>5.161290</td>\n",
       "      <td>6.684808</td>\n",
       "      <td>5.323774</td>\n",
       "      <td>4.366207</td>\n",
       "      <td>3.841274</td>\n",
       "      <td>4.220708</td>\n",
       "      <td>0.166666</td>\n",
       "      <td>3.402526</td>\n",
       "    </tr>\n",
       "    <tr>\n",
       "      <th>1</th>\n",
       "      <td>-1.422033</td>\n",
       "      <td>-0.372455</td>\n",
       "      <td>0.301235</td>\n",
       "      <td>0.044490</td>\n",
       "      <td>-0.929933</td>\n",
       "      <td>-1.250360</td>\n",
       "      <td>-0.755929</td>\n",
       "      <td>-0.401936</td>\n",
       "      <td>-0.993129</td>\n",
       "      <td>0.826247</td>\n",
       "      <td>-1.085611</td>\n",
       "      <td>0.662531</td>\n",
       "      <td>0.612020</td>\n",
       "    </tr>\n",
       "    <tr>\n",
       "      <th>2</th>\n",
       "      <td>1.917394</td>\n",
       "      <td>-0.040040</td>\n",
       "      <td>-0.451039</td>\n",
       "      <td>0.291802</td>\n",
       "      <td>0.139747</td>\n",
       "      <td>0.227107</td>\n",
       "      <td>-0.224448</td>\n",
       "      <td>-0.840907</td>\n",
       "      <td>-0.120679</td>\n",
       "      <td>-0.769944</td>\n",
       "      <td>-0.488650</td>\n",
       "      <td>-1.469689</td>\n",
       "      <td>0.612020</td>\n",
       "    </tr>\n",
       "    <tr>\n",
       "      <th>3</th>\n",
       "      <td>0.963272</td>\n",
       "      <td>-1.062856</td>\n",
       "      <td>-1.203313</td>\n",
       "      <td>-1.150851</td>\n",
       "      <td>-0.145501</td>\n",
       "      <td>-0.572026</td>\n",
       "      <td>-1.371328</td>\n",
       "      <td>-1.222621</td>\n",
       "      <td>-1.491672</td>\n",
       "      <td>-1.065535</td>\n",
       "      <td>-0.190169</td>\n",
       "      <td>-0.676305</td>\n",
       "      <td>-1.427195</td>\n",
       "    </tr>\n",
       "    <tr>\n",
       "      <th>4</th>\n",
       "      <td>0.486211</td>\n",
       "      <td>1.366332</td>\n",
       "      <td>-1.682033</td>\n",
       "      <td>1.322269</td>\n",
       "      <td>2.255336</td>\n",
       "      <td>2.745306</td>\n",
       "      <td>1.803573</td>\n",
       "      <td>0.590521</td>\n",
       "      <td>-0.702312</td>\n",
       "      <td>0.294183</td>\n",
       "      <td>0.804765</td>\n",
       "      <td>0.216252</td>\n",
       "      <td>0.182712</td>\n",
       "    </tr>\n",
       "  </tbody>\n",
       "</table>\n",
       "</div>"
      ],
      "text/plain": [
       "        AGE    WEIGHT    HEIGHT      NECK     CHEST   ABDOMEN       HIP  \\\n",
       "0  0.088660  6.280963  0.574790  5.444135  4.204531  5.161290  6.684808   \n",
       "1 -1.422033 -0.372455  0.301235  0.044490 -0.929933 -1.250360 -0.755929   \n",
       "2  1.917394 -0.040040 -0.451039  0.291802  0.139747  0.227107 -0.224448   \n",
       "3  0.963272 -1.062856 -1.203313 -1.150851 -0.145501 -0.572026 -1.371328   \n",
       "4  0.486211  1.366332 -1.682033  1.322269  2.255336  2.745306  1.803573   \n",
       "\n",
       "      THIGH      KNEE     ANKLE    BICEPS   FOREARM     WRIST  \n",
       "0  5.323774  4.366207  3.841274  4.220708  0.166666  3.402526  \n",
       "1 -0.401936 -0.993129  0.826247 -1.085611  0.662531  0.612020  \n",
       "2 -0.840907 -0.120679 -0.769944 -0.488650 -1.469689  0.612020  \n",
       "3 -1.222621 -1.491672 -1.065535 -0.190169 -0.676305 -1.427195  \n",
       "4  0.590521 -0.702312  0.294183  0.804765  0.216252  0.182712  "
      ]
     },
     "execution_count": 4,
     "metadata": {},
     "output_type": "execute_result"
    }
   ],
   "source": [
    "v_feature_name = df_train_x.columns\n",
    "scaler = StandardScaler()\n",
    "df_scaled = scaler.fit_transform(df_raw_x)\n",
    "df_scaled = pd.DataFrame(df_scaled, columns=v_feature_name)\n",
    "df_scaled.head()"
   ]
  },
  {
   "cell_type": "code",
   "execution_count": 5,
   "metadata": {},
   "outputs": [
    {
     "name": "stdout",
     "output_type": "stream",
     "text": [
      "Scaled Train data X size: (176, 13)\n",
      "Scaled data X size\t: (76, 13)\n"
     ]
    }
   ],
   "source": [
    "df_scaled_train_x, df_scaled_test_x = train_test_split(df_scaled, test_size = 0.3, random_state = 1234)\n",
    "print (\"Scaled Train data X size: {}\".format(df_scaled_train_x.shape))\n",
    "print (\"Scaled data X size\\t: {}\".format(df_scaled_test_x.shape))"
   ]
  },
  {
   "cell_type": "code",
   "execution_count": 6,
   "metadata": {},
   "outputs": [
    {
     "name": "stdout",
     "output_type": "stream",
     "text": [
      "Score on training set:\t0.578\n",
      "Score on test set:\t0.499\n"
     ]
    },
    {
     "name": "stderr",
     "output_type": "stream",
     "text": [
      "/home/pirl/anaconda3/lib/python3.7/site-packages/sklearn/svm/base.py:196: FutureWarning: The default value of gamma will change from 'auto' to 'scale' in version 0.22 to account better for unscaled features. Set gamma explicitly to 'auto' or 'scale' to avoid this warning.\n",
      "  \"avoid this warning.\", FutureWarning)\n"
     ]
    }
   ],
   "source": [
    "svm_scaled = SVR()\n",
    "svm_scaled.fit(df_scaled_train_x, df_train_y)\n",
    "\n",
    "print(\"Score on training set:\\t%.3f\" %(svm_scaled.score(df_scaled_train_x, df_train_y)))\n",
    "print(\"Score on test set:\\t%.3f\" %(svm_scaled.score(df_scaled_test_x, df_test_y)))"
   ]
  },
  {
   "cell_type": "code",
   "execution_count": 7,
   "metadata": {},
   "outputs": [
    {
     "data": {
      "text/plain": [
       "SVR(C=1.0, cache_size=200, coef0=0.0, degree=3, epsilon=0.1,\n",
       "  gamma='auto_deprecated', kernel='rbf', max_iter=-1, shrinking=True,\n",
       "  tol=0.001, verbose=False)"
      ]
     },
     "execution_count": 7,
     "metadata": {},
     "output_type": "execute_result"
    }
   ],
   "source": [
    "svm_scaled"
   ]
  },
  {
   "cell_type": "code",
   "execution_count": 8,
   "metadata": {},
   "outputs": [
    {
     "name": "stderr",
     "output_type": "stream",
     "text": [
      "/home/pirl/anaconda3/lib/python3.7/site-packages/sklearn/svm/base.py:196: FutureWarning: The default value of gamma will change from 'auto' to 'scale' in version 0.22 to account better for unscaled features. Set gamma explicitly to 'auto' or 'scale' to avoid this warning.\n",
      "  \"avoid this warning.\", FutureWarning)\n",
      "/home/pirl/anaconda3/lib/python3.7/site-packages/sklearn/svm/base.py:196: FutureWarning: The default value of gamma will change from 'auto' to 'scale' in version 0.22 to account better for unscaled features. Set gamma explicitly to 'auto' or 'scale' to avoid this warning.\n",
      "  \"avoid this warning.\", FutureWarning)\n",
      "/home/pirl/anaconda3/lib/python3.7/site-packages/sklearn/svm/base.py:196: FutureWarning: The default value of gamma will change from 'auto' to 'scale' in version 0.22 to account better for unscaled features. Set gamma explicitly to 'auto' or 'scale' to avoid this warning.\n",
      "  \"avoid this warning.\", FutureWarning)\n",
      "/home/pirl/anaconda3/lib/python3.7/site-packages/sklearn/svm/base.py:196: FutureWarning: The default value of gamma will change from 'auto' to 'scale' in version 0.22 to account better for unscaled features. Set gamma explicitly to 'auto' or 'scale' to avoid this warning.\n",
      "  \"avoid this warning.\", FutureWarning)\n",
      "/home/pirl/anaconda3/lib/python3.7/site-packages/sklearn/svm/base.py:196: FutureWarning: The default value of gamma will change from 'auto' to 'scale' in version 0.22 to account better for unscaled features. Set gamma explicitly to 'auto' or 'scale' to avoid this warning.\n",
      "  \"avoid this warning.\", FutureWarning)\n"
     ]
    },
    {
     "data": {
      "text/html": [
       "<div>\n",
       "<style scoped>\n",
       "    .dataframe tbody tr th:only-of-type {\n",
       "        vertical-align: middle;\n",
       "    }\n",
       "\n",
       "    .dataframe tbody tr th {\n",
       "        vertical-align: top;\n",
       "    }\n",
       "\n",
       "    .dataframe thead th {\n",
       "        text-align: right;\n",
       "    }\n",
       "</style>\n",
       "<table border=\"1\" class=\"dataframe\">\n",
       "  <thead>\n",
       "    <tr style=\"text-align: right;\">\n",
       "      <th></th>\n",
       "      <th>C</th>\n",
       "      <th>TrainScore</th>\n",
       "      <th>TestScore</th>\n",
       "    </tr>\n",
       "  </thead>\n",
       "  <tbody>\n",
       "    <tr>\n",
       "      <th>0</th>\n",
       "      <td>0.01</td>\n",
       "      <td>0.018</td>\n",
       "      <td>-0.025</td>\n",
       "    </tr>\n",
       "    <tr>\n",
       "      <th>1</th>\n",
       "      <td>0.10</td>\n",
       "      <td>0.151</td>\n",
       "      <td>0.110</td>\n",
       "    </tr>\n",
       "    <tr>\n",
       "      <th>2</th>\n",
       "      <td>1.00</td>\n",
       "      <td>0.578</td>\n",
       "      <td>0.499</td>\n",
       "    </tr>\n",
       "    <tr>\n",
       "      <th>3</th>\n",
       "      <td>10.00</td>\n",
       "      <td>0.846</td>\n",
       "      <td>0.538</td>\n",
       "    </tr>\n",
       "    <tr>\n",
       "      <th>4</th>\n",
       "      <td>100.00</td>\n",
       "      <td>0.953</td>\n",
       "      <td>0.446</td>\n",
       "    </tr>\n",
       "  </tbody>\n",
       "</table>\n",
       "</div>"
      ],
      "text/plain": [
       "        C  TrainScore  TestScore\n",
       "0    0.01       0.018     -0.025\n",
       "1    0.10       0.151      0.110\n",
       "2    1.00       0.578      0.499\n",
       "3   10.00       0.846      0.538\n",
       "4  100.00       0.953      0.446"
      ]
     },
     "execution_count": 8,
     "metadata": {},
     "output_type": "execute_result"
    }
   ],
   "source": [
    "train_score = []; test_score=[]\n",
    "\n",
    "para_C = [10**c for c in range(-2, 3)]\n",
    "\n",
    "for v_C in para_C:\n",
    "    svm = SVR(C = v_C)\n",
    "    svm.fit(df_scaled_train_x, df_train_y)\n",
    "    train_score.append(svm.score(df_scaled_train_x, df_train_y))\n",
    "    test_score.append(svm.score(df_scaled_test_x, df_test_y))\n",
    "\n",
    "df_score_n = pd.DataFrame()\n",
    "df_score_n[\"C\"] = para_C\n",
    "df_score_n[\"TrainScore\"] = train_score\n",
    "df_score_n[\"TestScore\"] = test_score\n",
    "\n",
    "df_score_n.round(3)"
   ]
  },
  {
   "cell_type": "code",
   "execution_count": 9,
   "metadata": {},
   "outputs": [
    {
     "data": {
      "text/plain": [
       "<matplotlib.legend.Legend at 0x7fa40f223ba8>"
      ]
     },
     "execution_count": 9,
     "metadata": {},
     "output_type": "execute_result"
    },
    {
     "data": {
      "image/png": "[encoded data removed]",
      "text/plain": [
       "<Figure size 432x288 with 1 Axes>"
      ]
     },
     "metadata": {
      "needs_background": "light"
     },
     "output_type": "display_data"
    }
   ],
   "source": [
    "plt.plot(para_C, train_score, linestyle = \"-\", label = \"Train Score\")\n",
    "plt.plot(para_C, test_score, linestyle = \"--\", label = \"Test Score\")\n",
    "plt.ylabel(\"score\"); plt.xlabel(\"C\")\n",
    "plt.legend()"
   ]
  },
  {
   "cell_type": "code",
   "execution_count": 10,
   "metadata": {},
   "outputs": [
    {
     "data": {
      "text/html": [
       "<div>\n",
       "<style scoped>\n",
       "    .dataframe tbody tr th:only-of-type {\n",
       "        vertical-align: middle;\n",
       "    }\n",
       "\n",
       "    .dataframe tbody tr th {\n",
       "        vertical-align: top;\n",
       "    }\n",
       "\n",
       "    .dataframe thead th {\n",
       "        text-align: right;\n",
       "    }\n",
       "</style>\n",
       "<table border=\"1\" class=\"dataframe\">\n",
       "  <thead>\n",
       "    <tr style=\"text-align: right;\">\n",
       "      <th></th>\n",
       "      <th>C</th>\n",
       "      <th>TrainScore</th>\n",
       "      <th>TestScore</th>\n",
       "    </tr>\n",
       "  </thead>\n",
       "  <tbody>\n",
       "    <tr>\n",
       "      <th>0</th>\n",
       "      <td>0.01</td>\n",
       "      <td>0.018</td>\n",
       "      <td>-0.025</td>\n",
       "    </tr>\n",
       "    <tr>\n",
       "      <th>1</th>\n",
       "      <td>0.10</td>\n",
       "      <td>0.151</td>\n",
       "      <td>0.110</td>\n",
       "    </tr>\n",
       "    <tr>\n",
       "      <th>2</th>\n",
       "      <td>1.00</td>\n",
       "      <td>0.578</td>\n",
       "      <td>0.499</td>\n",
       "    </tr>\n",
       "    <tr>\n",
       "      <th>3</th>\n",
       "      <td>10.00</td>\n",
       "      <td>0.846</td>\n",
       "      <td>0.538</td>\n",
       "    </tr>\n",
       "    <tr>\n",
       "      <th>4</th>\n",
       "      <td>100.00</td>\n",
       "      <td>0.953</td>\n",
       "      <td>0.446</td>\n",
       "    </tr>\n",
       "  </tbody>\n",
       "</table>\n",
       "</div>"
      ],
      "text/plain": [
       "        C  TrainScore  TestScore\n",
       "0    0.01       0.018     -0.025\n",
       "1    0.10       0.151      0.110\n",
       "2    1.00       0.578      0.499\n",
       "3   10.00       0.846      0.538\n",
       "4  100.00       0.953      0.446"
      ]
     },
     "execution_count": 10,
     "metadata": {},
     "output_type": "execute_result"
    }
   ],
   "source": [
    "train_score = []; test_score=[]\n",
    "\n",
    "para_gamma = [10**gamma for gamma in range(-2, 3)]\n",
    "\n",
    "for v_gamma in para_gamma:\n",
    "    svm = SVR(gamma = v_gamma, C = 10)\n",
    "    svm.fit(df_scaled_train_x, df_train_y)\n",
    "    train_score.append(svm.score(df_scaled_train_x, df_train_y))\n",
    "    test_score.append(svm.score(df_scaled_test_x, df_test_y))\n",
    "\n",
    "df_score_gamma = pd.DataFrame()\n",
    "df_score_gamma[\"gamma\"] = para_gamma\n",
    "df_score_gamma[\"TrainScore\"] = train_score\n",
    "df_score_gamma[\"TestScore\"] = test_score\n",
    "\n",
    "df_score_n.round(3)"
   ]
  },
  {
   "cell_type": "code",
   "execution_count": 11,
   "metadata": {},
   "outputs": [
    {
     "data": {
      "text/plain": [
       "<matplotlib.legend.Legend at 0x7fa40f202fd0>"
      ]
     },
     "execution_count": 11,
     "metadata": {},
     "output_type": "execute_result"
    },
    {
     "data": {
      "image/png": "[encoded data removed]",
      "text/plain": [
       "<Figure size 432x288 with 1 Axes>"
      ]
     },
     "metadata": {
      "needs_background": "light"
     },
     "output_type": "display_data"
    }
   ],
   "source": [
    "plt.plot(para_gamma, train_score, linestyle = \"-\", label = \"Train Score\")\n",
    "plt.plot(para_gamma, test_score, linestyle = \"--\", label = \"Test Score\")\n",
    "plt.ylabel(\"score\"); plt.xlabel(\"gamma\")\n",
    "plt.legend()"
   ]
  },
  {
   "cell_type": "code",
   "execution_count": 12,
   "metadata": {},
   "outputs": [
    {
     "data": {
      "text/html": [
       "<div>\n",
       "<style scoped>\n",
       "    .dataframe tbody tr th:only-of-type {\n",
       "        vertical-align: middle;\n",
       "    }\n",
       "\n",
       "    .dataframe tbody tr th {\n",
       "        vertical-align: top;\n",
       "    }\n",
       "\n",
       "    .dataframe thead th {\n",
       "        text-align: right;\n",
       "    }\n",
       "</style>\n",
       "<table border=\"1\" class=\"dataframe\">\n",
       "  <thead>\n",
       "    <tr style=\"text-align: right;\">\n",
       "      <th></th>\n",
       "      <th>epsilon</th>\n",
       "      <th>TrainScore</th>\n",
       "      <th>TestScore</th>\n",
       "    </tr>\n",
       "  </thead>\n",
       "  <tbody>\n",
       "    <tr>\n",
       "      <th>0</th>\n",
       "      <td>0.05</td>\n",
       "      <td>0.764</td>\n",
       "      <td>0.595</td>\n",
       "    </tr>\n",
       "    <tr>\n",
       "      <th>1</th>\n",
       "      <td>0.10</td>\n",
       "      <td>0.764</td>\n",
       "      <td>0.594</td>\n",
       "    </tr>\n",
       "    <tr>\n",
       "      <th>2</th>\n",
       "      <td>0.15</td>\n",
       "      <td>0.764</td>\n",
       "      <td>0.593</td>\n",
       "    </tr>\n",
       "    <tr>\n",
       "      <th>3</th>\n",
       "      <td>0.20</td>\n",
       "      <td>0.764</td>\n",
       "      <td>0.592</td>\n",
       "    </tr>\n",
       "    <tr>\n",
       "      <th>4</th>\n",
       "      <td>0.25</td>\n",
       "      <td>0.763</td>\n",
       "      <td>0.591</td>\n",
       "    </tr>\n",
       "    <tr>\n",
       "      <th>5</th>\n",
       "      <td>0.30</td>\n",
       "      <td>0.762</td>\n",
       "      <td>0.590</td>\n",
       "    </tr>\n",
       "    <tr>\n",
       "      <th>6</th>\n",
       "      <td>0.35</td>\n",
       "      <td>0.762</td>\n",
       "      <td>0.589</td>\n",
       "    </tr>\n",
       "    <tr>\n",
       "      <th>7</th>\n",
       "      <td>0.40</td>\n",
       "      <td>0.762</td>\n",
       "      <td>0.588</td>\n",
       "    </tr>\n",
       "    <tr>\n",
       "      <th>8</th>\n",
       "      <td>0.45</td>\n",
       "      <td>0.761</td>\n",
       "      <td>0.587</td>\n",
       "    </tr>\n",
       "    <tr>\n",
       "      <th>9</th>\n",
       "      <td>0.50</td>\n",
       "      <td>0.762</td>\n",
       "      <td>0.585</td>\n",
       "    </tr>\n",
       "    <tr>\n",
       "      <th>10</th>\n",
       "      <td>0.55</td>\n",
       "      <td>0.762</td>\n",
       "      <td>0.584</td>\n",
       "    </tr>\n",
       "    <tr>\n",
       "      <th>11</th>\n",
       "      <td>0.60</td>\n",
       "      <td>0.762</td>\n",
       "      <td>0.584</td>\n",
       "    </tr>\n",
       "    <tr>\n",
       "      <th>12</th>\n",
       "      <td>0.65</td>\n",
       "      <td>0.761</td>\n",
       "      <td>0.586</td>\n",
       "    </tr>\n",
       "    <tr>\n",
       "      <th>13</th>\n",
       "      <td>0.70</td>\n",
       "      <td>0.761</td>\n",
       "      <td>0.586</td>\n",
       "    </tr>\n",
       "    <tr>\n",
       "      <th>14</th>\n",
       "      <td>0.75</td>\n",
       "      <td>0.760</td>\n",
       "      <td>0.585</td>\n",
       "    </tr>\n",
       "    <tr>\n",
       "      <th>15</th>\n",
       "      <td>0.80</td>\n",
       "      <td>0.760</td>\n",
       "      <td>0.586</td>\n",
       "    </tr>\n",
       "    <tr>\n",
       "      <th>16</th>\n",
       "      <td>0.85</td>\n",
       "      <td>0.760</td>\n",
       "      <td>0.586</td>\n",
       "    </tr>\n",
       "    <tr>\n",
       "      <th>17</th>\n",
       "      <td>0.90</td>\n",
       "      <td>0.759</td>\n",
       "      <td>0.587</td>\n",
       "    </tr>\n",
       "    <tr>\n",
       "      <th>18</th>\n",
       "      <td>0.95</td>\n",
       "      <td>0.759</td>\n",
       "      <td>0.587</td>\n",
       "    </tr>\n",
       "    <tr>\n",
       "      <th>19</th>\n",
       "      <td>1.00</td>\n",
       "      <td>0.759</td>\n",
       "      <td>0.586</td>\n",
       "    </tr>\n",
       "  </tbody>\n",
       "</table>\n",
       "</div>"
      ],
      "text/plain": [
       "    epsilon  TrainScore  TestScore\n",
       "0      0.05       0.764      0.595\n",
       "1      0.10       0.764      0.594\n",
       "2      0.15       0.764      0.593\n",
       "3      0.20       0.764      0.592\n",
       "4      0.25       0.763      0.591\n",
       "5      0.30       0.762      0.590\n",
       "6      0.35       0.762      0.589\n",
       "7      0.40       0.762      0.588\n",
       "8      0.45       0.761      0.587\n",
       "9      0.50       0.762      0.585\n",
       "10     0.55       0.762      0.584\n",
       "11     0.60       0.762      0.584\n",
       "12     0.65       0.761      0.586\n",
       "13     0.70       0.761      0.586\n",
       "14     0.75       0.760      0.585\n",
       "15     0.80       0.760      0.586\n",
       "16     0.85       0.760      0.586\n",
       "17     0.90       0.759      0.587\n",
       "18     0.95       0.759      0.587\n",
       "19     1.00       0.759      0.586"
      ]
     },
     "execution_count": 12,
     "metadata": {},
     "output_type": "execute_result"
    }
   ],
   "source": [
    "train_score = []; test_score=[]\n",
    "\n",
    "para_epsilon = [eps / 20 for eps in range(1, 21)]\n",
    "\n",
    "for v_epsilon in para_epsilon:\n",
    "    svm = SVR(epsilon = v_epsilon, C = 10, gamma = 0.01)\n",
    "    svm.fit(df_scaled_train_x, df_train_y)\n",
    "    train_score.append(svm.score(df_scaled_train_x, df_train_y))\n",
    "    test_score.append(svm.score(df_scaled_test_x, df_test_y))\n",
    "\n",
    "df_score_epsilon = pd.DataFrame()\n",
    "df_score_epsilon[\"epsilon\"] = para_epsilon\n",
    "df_score_epsilon[\"TrainScore\"] = train_score\n",
    "df_score_epsilon[\"TestScore\"] = test_score\n",
    "\n",
    "df_score_epsilon.round(3)"
   ]
  },
  {
   "cell_type": "code",
   "execution_count": 13,
   "metadata": {},
   "outputs": [
    {
     "data": {
      "text/plain": [
       "<matplotlib.legend.Legend at 0x7fa40f120860>"
      ]
     },
     "execution_count": 13,
     "metadata": {},
     "output_type": "execute_result"
    },
    {
     "data": {
      "image/png": "[encoded data removed]",
      "text/plain": [
       "<Figure size 432x288 with 1 Axes>"
      ]
     },
     "metadata": {
      "needs_background": "light"
     },
     "output_type": "display_data"
    }
   ],
   "source": [
    "plt.plot(para_epsilon, train_score, linestyle = \"-\", label = \"Train Score\")\n",
    "plt.plot(para_epsilon, test_score, linestyle = \"--\", label = \"Test Score\")\n",
    "plt.ylabel(\"score\"); plt.xlabel(\"epsilon\")\n",
    "plt.legend()"
   ]
  },
  {
   "cell_type": "code",
   "execution_count": 14,
   "metadata": {},
   "outputs": [
    {
     "name": "stdout",
     "output_type": "stream",
     "text": [
      "Score on trainig set\t: 0.762\n",
      "Score on test set\t: 0.585\n"
     ]
    }
   ],
   "source": [
    "svr_final = SVR(C = 10, gamma = 0.01, epsilon = 0.5)\n",
    "svr_final.fit(df_scaled_train_x, df_train_y)\n",
    "\n",
    "print(\"Score on trainig set\\t: %.3f\" % svr_final.score(df_scaled_train_x, df_train_y))\n",
    "print(\"Score on test set\\t: %.3f\" % svr_final.score(df_scaled_test_x, df_test_y))"
   ]
  },
  {
   "cell_type": "code",
   "execution_count": 15,
   "metadata": {},
   "outputs": [
    {
     "name": "stderr",
     "output_type": "stream",
     "text": [
      "/home/pirl/anaconda3/lib/python3.7/site-packages/sklearn/model_selection/_split.py:2053: FutureWarning: You should specify a value for 'cv' instead of relying on the default value. The default value will change from 3 to 5 in version 0.22.\n",
      "  warnings.warn(CV_WARNING, FutureWarning)\n"
     ]
    },
    {
     "name": "stdout",
     "output_type": "stream",
     "text": [
      "Best estimator model \n",
      "SVR(C=100, cache_size=200, coef0=0.0, degree=3, epsilon=0.95, gamma=0.01,\n",
      "  kernel='rbf', max_iter=-1, shrinking=True, tol=0.001, verbose=False)\n",
      "\n",
      "Best parameter: \n",
      "{'C': 100, 'epsilon': 0.95, 'gamma': 0.01}\n",
      "\n",
      "Best score: \n",
      "0.341\n"
     ]
    },
    {
     "name": "stderr",
     "output_type": "stream",
     "text": [
      "/home/pirl/anaconda3/lib/python3.7/site-packages/sklearn/model_selection/_search.py:841: DeprecationWarning: The default of the `iid` parameter will change from True to False in version 0.22 and will be removed in 0.24. This will change numeric results when test-set sizes are unequal.\n",
      "  DeprecationWarning)\n"
     ]
    }
   ],
   "source": [
    "estimator = SVR()\n",
    "\n",
    "param_grid = {\"C\":para_C, \"gamma\":para_gamma, \"epsilon\":para_epsilon}\n",
    "\n",
    "grid_dt = GridSearchCV(estimator, param_grid, scoring=\"r2\", n_jobs = -1)\n",
    "grid_dt.fit(df_train_x, df_train_y)\n",
    "\n",
    "print(\"Best estimator model \\n{}\".format(grid_dt.best_estimator_))\n",
    "print(\"\\nBest parameter: \\n{}\".format(grid_dt.best_params_))\n",
    "\n",
    "print(\"\\nBest score: \\n{}\".format(grid_dt.best_score_.round(3)))"
   ]
  },
  {
   "cell_type": "code",
   "execution_count": 16,
   "metadata": {},
   "outputs": [
    {
     "name": "stderr",
     "output_type": "stream",
     "text": [
      "/home/pirl/anaconda3/lib/python3.7/site-packages/sklearn/model_selection/_split.py:2053: FutureWarning: You should specify a value for 'cv' instead of relying on the default value. The default value will change from 3 to 5 in version 0.22.\n",
      "  warnings.warn(CV_WARNING, FutureWarning)\n"
     ]
    },
    {
     "name": "stdout",
     "output_type": "stream",
     "text": [
      "Best estimator model \n",
      "SVR(C=100, cache_size=200, coef0=0.0, degree=3, epsilon=1.0, gamma=0.01,\n",
      "  kernel='rbf', max_iter=-1, shrinking=True, tol=0.001, verbose=False)\n",
      "\n",
      "Best parameter: \n",
      "{'C': 100, 'epsilon': 1.0, 'gamma': 0.01}\n",
      "\n",
      "Best score: \n",
      "0.718\n"
     ]
    },
    {
     "name": "stderr",
     "output_type": "stream",
     "text": [
      "/home/pirl/anaconda3/lib/python3.7/site-packages/sklearn/model_selection/_search.py:841: DeprecationWarning: The default of the `iid` parameter will change from True to False in version 0.22 and will be removed in 0.24. This will change numeric results when test-set sizes are unequal.\n",
      "  DeprecationWarning)\n"
     ]
    }
   ],
   "source": [
    "estimator = SVR()\n",
    "\n",
    "param_grid = {\"C\":para_C, \"gamma\":para_gamma, \"epsilon\":para_epsilon}\n",
    "\n",
    "grid_dt = GridSearchCV(estimator, param_grid, scoring=\"r2\", n_jobs = -1)\n",
    "grid_dt.fit(df_scaled_train_x, df_train_y)\n",
    "\n",
    "print(\"Best estimator model \\n{}\".format(grid_dt.best_estimator_))\n",
    "print(\"\\nBest parameter: \\n{}\".format(grid_dt.best_params_))\n",
    "\n",
    "print(\"\\nBest score: \\n{}\".format(grid_dt.best_score_.round(3)))"
   ]
  },
  {
   "cell_type": "code",
   "execution_count": 17,
   "metadata": {},
   "outputs": [
    {
     "name": "stdout",
     "output_type": "stream",
     "text": [
      "Score on trainig set\t: 0.817\n",
      "Score on test set\t: 0.560\n"
     ]
    }
   ],
   "source": [
    "svr_final = SVR(C = 100, gamma = 0.01, epsilon = 1.0)\n",
    "svr_final.fit(df_scaled_train_x, df_train_y)\n",
    "\n",
    "print(\"Score on trainig set\\t: %.3f\" % svr_final.score(df_scaled_train_x, df_train_y))\n",
    "print(\"Score on test set\\t: %.3f\" % svr_final.score(df_scaled_test_x, df_test_y))"
   ]
  },
  {
   "cell_type": "code",
   "execution_count": null,
   "metadata": {},
   "outputs": [],
   "source": []
  },
  {
   "cell_type": "code",
   "execution_count": null,
   "metadata": {},
   "outputs": [],
   "source": []
  },
  {
   "cell_type": "code",
   "execution_count": null,
   "metadata": {},
   "outputs": [],
   "source": []
  },
  {
   "cell_type": "code",
   "execution_count": null,
   "metadata": {},
   "outputs": [],
   "source": []
  }
 ],
 "metadata": {
  "kernelspec": {
   "display_name": "Python 3",
   "language": "python",
   "name": "python3"
  },
  "language_info": {
   "codemirror_mode": {
    "name": "ipython",
    "version": 3
   },
   "file_extension": ".py",
   "mimetype": "text/x-python",
   "name": "python",
   "nbconvert_exporter": "python",
   "pygments_lexer": "ipython3",
   "version": "3.7.3"
  }
 },
 "nbformat": 4,
 "nbformat_minor": 2
}
